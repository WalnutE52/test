{
 "cells": [
  {
   "cell_type": "markdown",
   "id": "f6cf0668",
   "metadata": {},
   "source": [
    "# Week11-Yunshuo Zhang\n",
    "### SID: 500025673\n",
    "### Author: Yunshuo Zhang\n",
    "#### Start date: 16/10/2022    End date: 16/10/2022\n",
    "\n",
    "## 1. Introduction\n"
   ]
  },
  {
   "cell_type": "markdown",
   "id": "2f2d71cd",
   "metadata": {},
   "source": [
    "**Data Collection:** Most of these were created by the QS Access app for IoS to access step data from Apple Health. Ones ending in \"detail\" were accessed directly from Apple Health and processed with a python script to convert the xml to csv.\n",
    "\n",
    "**Data Ownership:** Apple Health\n",
    "\n",
    "**Potential Conflicts of interest:**\n",
    "\n",
    "**Anonymisation** The data only includes the step data from the start of this year. We have already got the informed consent of the participants and the datasets are named as participant ID. Hence, we did this analysis without knowing the age, gender, ethnicity, favourite breakfast food or anything else which ensured anonymisation and reduced the risk of re-identification of data with the people\n",
    "\n",
    "**Data Management:** We manage data by distinguishing between different data sets. Data cleaning is mainly performed for each dataset. In addition, under different sub problems, data processing and analysis are carried out with each data set as the sub title. Finally, combine the results of each data set to integrate comparative analysis."
   ]
  },
  {
   "cell_type": "code",
   "execution_count": 1,
   "id": "78bd835b",
   "metadata": {
    "scrolled": true
   },
   "outputs": [],
   "source": [
    "from __future__ import print_function\n",
    "import numpy as np\n",
    "import pandas as pd\n",
    "import plotly.io as pio"
   ]
  },
  {
   "cell_type": "code",
   "execution_count": 18,
   "id": "29eb400c",
   "metadata": {},
   "outputs": [],
   "source": [
    "pio.renderers\n",
    "pio.renderers.default = \"svg\""
   ]
  },
  {
   "cell_type": "markdown",
   "id": "8f709458",
   "metadata": {},
   "source": [
    "Preliminary observation data，p3 means the data from participant_03, p1 means the data from participant_01"
   ]
  },
  {
   "cell_type": "code",
   "execution_count": 3,
   "id": "74091567",
   "metadata": {},
   "outputs": [
    {
     "data": {
      "text/html": [
       "<div>\n",
       "<style scoped>\n",
       "    .dataframe tbody tr th:only-of-type {\n",
       "        vertical-align: middle;\n",
       "    }\n",
       "\n",
       "    .dataframe tbody tr th {\n",
       "        vertical-align: top;\n",
       "    }\n",
       "\n",
       "    .dataframe thead th {\n",
       "        text-align: right;\n",
       "    }\n",
       "</style>\n",
       "<table border=\"1\" class=\"dataframe\">\n",
       "  <thead>\n",
       "    <tr style=\"text-align: right;\">\n",
       "      <th></th>\n",
       "      <th>Start</th>\n",
       "      <th>Finish</th>\n",
       "      <th>Steps (count)</th>\n",
       "    </tr>\n",
       "  </thead>\n",
       "  <tbody>\n",
       "    <tr>\n",
       "      <th>0</th>\n",
       "      <td>31/12/2021 23:00</td>\n",
       "      <td>01/01/2022 0:00</td>\n",
       "      <td>0.000000</td>\n",
       "    </tr>\n",
       "    <tr>\n",
       "      <th>1</th>\n",
       "      <td>01/01/2022 0:00</td>\n",
       "      <td>01/01/2022 1:00</td>\n",
       "      <td>14.000000</td>\n",
       "    </tr>\n",
       "    <tr>\n",
       "      <th>2</th>\n",
       "      <td>01/01/2022 1:00</td>\n",
       "      <td>01/01/2022 2:00</td>\n",
       "      <td>0.000000</td>\n",
       "    </tr>\n",
       "    <tr>\n",
       "      <th>3</th>\n",
       "      <td>01/01/2022 2:00</td>\n",
       "      <td>01/01/2022 3:00</td>\n",
       "      <td>0.000000</td>\n",
       "    </tr>\n",
       "    <tr>\n",
       "      <th>4</th>\n",
       "      <td>01/01/2022 3:00</td>\n",
       "      <td>01/01/2022 4:00</td>\n",
       "      <td>0.000000</td>\n",
       "    </tr>\n",
       "    <tr>\n",
       "      <th>...</th>\n",
       "      <td>...</td>\n",
       "      <td>...</td>\n",
       "      <td>...</td>\n",
       "    </tr>\n",
       "    <tr>\n",
       "      <th>6015</th>\n",
       "      <td>08/09/2022 13:00</td>\n",
       "      <td>08/09/2022 14:00</td>\n",
       "      <td>0.000000</td>\n",
       "    </tr>\n",
       "    <tr>\n",
       "      <th>6016</th>\n",
       "      <td>08/09/2022 14:00</td>\n",
       "      <td>08/09/2022 15:00</td>\n",
       "      <td>893.959035</td>\n",
       "    </tr>\n",
       "    <tr>\n",
       "      <th>6017</th>\n",
       "      <td>08/09/2022 15:00</td>\n",
       "      <td>08/09/2022 16:00</td>\n",
       "      <td>534.040965</td>\n",
       "    </tr>\n",
       "    <tr>\n",
       "      <th>6018</th>\n",
       "      <td>08/09/2022 16:00</td>\n",
       "      <td>08/09/2022 17:00</td>\n",
       "      <td>390.020268</td>\n",
       "    </tr>\n",
       "    <tr>\n",
       "      <th>6019</th>\n",
       "      <td>08/09/2022 17:00</td>\n",
       "      <td>08/09/2022 18:00</td>\n",
       "      <td>1191.979732</td>\n",
       "    </tr>\n",
       "  </tbody>\n",
       "</table>\n",
       "<p>6020 rows × 3 columns</p>\n",
       "</div>"
      ],
      "text/plain": [
       "                 Start            Finish  Steps (count)\n",
       "0     31/12/2021 23:00   01/01/2022 0:00       0.000000\n",
       "1      01/01/2022 0:00   01/01/2022 1:00      14.000000\n",
       "2      01/01/2022 1:00   01/01/2022 2:00       0.000000\n",
       "3      01/01/2022 2:00   01/01/2022 3:00       0.000000\n",
       "4      01/01/2022 3:00   01/01/2022 4:00       0.000000\n",
       "...                ...               ...            ...\n",
       "6015  08/09/2022 13:00  08/09/2022 14:00       0.000000\n",
       "6016  08/09/2022 14:00  08/09/2022 15:00     893.959035\n",
       "6017  08/09/2022 15:00  08/09/2022 16:00     534.040965\n",
       "6018  08/09/2022 16:00  08/09/2022 17:00     390.020268\n",
       "6019  08/09/2022 17:00  08/09/2022 18:00    1191.979732\n",
       "\n",
       "[6020 rows x 3 columns]"
      ]
     },
     "execution_count": 3,
     "metadata": {},
     "output_type": "execute_result"
    }
   ],
   "source": [
    "# Author: Yunshuo Zhang\n",
    "#Beg\n",
    "p3 = pd.read_csv(\"Participant-03.csv\", sep=\",\")\n",
    "p3"
   ]
  },
  {
   "cell_type": "code",
   "execution_count": 4,
   "id": "1b6d0da0",
   "metadata": {},
   "outputs": [
    {
     "name": "stdout",
     "output_type": "stream",
     "text": [
      "<class 'pandas.core.frame.DataFrame'>\n",
      "RangeIndex: 6020 entries, 0 to 6019\n",
      "Data columns (total 3 columns):\n",
      " #   Column         Non-Null Count  Dtype  \n",
      "---  ------         --------------  -----  \n",
      " 0   Start          6020 non-null   object \n",
      " 1   Finish         6020 non-null   object \n",
      " 2   Steps (count)  6020 non-null   float64\n",
      "dtypes: float64(1), object(2)\n",
      "memory usage: 141.2+ KB\n"
     ]
    }
   ],
   "source": [
    "p3.info()"
   ]
  },
  {
   "cell_type": "code",
   "execution_count": 5,
   "id": "3e8d3900",
   "metadata": {},
   "outputs": [
    {
     "data": {
      "text/html": [
       "<div>\n",
       "<style scoped>\n",
       "    .dataframe tbody tr th:only-of-type {\n",
       "        vertical-align: middle;\n",
       "    }\n",
       "\n",
       "    .dataframe tbody tr th {\n",
       "        vertical-align: top;\n",
       "    }\n",
       "\n",
       "    .dataframe thead th {\n",
       "        text-align: right;\n",
       "    }\n",
       "</style>\n",
       "<table border=\"1\" class=\"dataframe\">\n",
       "  <thead>\n",
       "    <tr style=\"text-align: right;\">\n",
       "      <th></th>\n",
       "      <th>Start</th>\n",
       "      <th>Finish</th>\n",
       "      <th>Steps (count)</th>\n",
       "    </tr>\n",
       "  </thead>\n",
       "  <tbody>\n",
       "    <tr>\n",
       "      <th>0</th>\n",
       "      <td>31/12/2021 23:00</td>\n",
       "      <td>01/01/2022 0:00</td>\n",
       "      <td>0.0</td>\n",
       "    </tr>\n",
       "    <tr>\n",
       "      <th>1</th>\n",
       "      <td>01/01/2022 0:00</td>\n",
       "      <td>01/01/2022 1:00</td>\n",
       "      <td>14.0</td>\n",
       "    </tr>\n",
       "    <tr>\n",
       "      <th>2</th>\n",
       "      <td>01/01/2022 1:00</td>\n",
       "      <td>01/01/2022 2:00</td>\n",
       "      <td>0.0</td>\n",
       "    </tr>\n",
       "    <tr>\n",
       "      <th>3</th>\n",
       "      <td>01/01/2022 2:00</td>\n",
       "      <td>01/01/2022 3:00</td>\n",
       "      <td>0.0</td>\n",
       "    </tr>\n",
       "    <tr>\n",
       "      <th>4</th>\n",
       "      <td>01/01/2022 3:00</td>\n",
       "      <td>01/01/2022 4:00</td>\n",
       "      <td>0.0</td>\n",
       "    </tr>\n",
       "    <tr>\n",
       "      <th>5</th>\n",
       "      <td>01/01/2022 4:00</td>\n",
       "      <td>01/01/2022 5:00</td>\n",
       "      <td>0.0</td>\n",
       "    </tr>\n",
       "    <tr>\n",
       "      <th>6</th>\n",
       "      <td>01/01/2022 5:00</td>\n",
       "      <td>01/01/2022 6:00</td>\n",
       "      <td>0.0</td>\n",
       "    </tr>\n",
       "    <tr>\n",
       "      <th>7</th>\n",
       "      <td>01/01/2022 6:00</td>\n",
       "      <td>01/01/2022 7:00</td>\n",
       "      <td>0.0</td>\n",
       "    </tr>\n",
       "    <tr>\n",
       "      <th>8</th>\n",
       "      <td>01/01/2022 7:00</td>\n",
       "      <td>01/01/2022 8:00</td>\n",
       "      <td>0.0</td>\n",
       "    </tr>\n",
       "    <tr>\n",
       "      <th>9</th>\n",
       "      <td>01/01/2022 8:00</td>\n",
       "      <td>01/01/2022 9:00</td>\n",
       "      <td>49.0</td>\n",
       "    </tr>\n",
       "  </tbody>\n",
       "</table>\n",
       "</div>"
      ],
      "text/plain": [
       "              Start           Finish  Steps (count)\n",
       "0  31/12/2021 23:00  01/01/2022 0:00            0.0\n",
       "1   01/01/2022 0:00  01/01/2022 1:00           14.0\n",
       "2   01/01/2022 1:00  01/01/2022 2:00            0.0\n",
       "3   01/01/2022 2:00  01/01/2022 3:00            0.0\n",
       "4   01/01/2022 3:00  01/01/2022 4:00            0.0\n",
       "5   01/01/2022 4:00  01/01/2022 5:00            0.0\n",
       "6   01/01/2022 5:00  01/01/2022 6:00            0.0\n",
       "7   01/01/2022 6:00  01/01/2022 7:00            0.0\n",
       "8   01/01/2022 7:00  01/01/2022 8:00            0.0\n",
       "9   01/01/2022 8:00  01/01/2022 9:00           49.0"
      ]
     },
     "execution_count": 5,
     "metadata": {},
     "output_type": "execute_result"
    }
   ],
   "source": [
    "p3.head(10)"
   ]
  },
  {
   "cell_type": "code",
   "execution_count": 6,
   "id": "f67acd5b",
   "metadata": {},
   "outputs": [
    {
     "data": {
      "text/html": [
       "<div>\n",
       "<style scoped>\n",
       "    .dataframe tbody tr th:only-of-type {\n",
       "        vertical-align: middle;\n",
       "    }\n",
       "\n",
       "    .dataframe tbody tr th {\n",
       "        vertical-align: top;\n",
       "    }\n",
       "\n",
       "    .dataframe thead th {\n",
       "        text-align: right;\n",
       "    }\n",
       "</style>\n",
       "<table border=\"1\" class=\"dataframe\">\n",
       "  <thead>\n",
       "    <tr style=\"text-align: right;\">\n",
       "      <th></th>\n",
       "      <th>Start</th>\n",
       "      <th>Finish</th>\n",
       "      <th>Steps (count)</th>\n",
       "    </tr>\n",
       "  </thead>\n",
       "  <tbody>\n",
       "    <tr>\n",
       "      <th>6016</th>\n",
       "      <td>08/09/2022 14:00</td>\n",
       "      <td>08/09/2022 15:00</td>\n",
       "      <td>893.959035</td>\n",
       "    </tr>\n",
       "    <tr>\n",
       "      <th>6017</th>\n",
       "      <td>08/09/2022 15:00</td>\n",
       "      <td>08/09/2022 16:00</td>\n",
       "      <td>534.040965</td>\n",
       "    </tr>\n",
       "    <tr>\n",
       "      <th>6018</th>\n",
       "      <td>08/09/2022 16:00</td>\n",
       "      <td>08/09/2022 17:00</td>\n",
       "      <td>390.020268</td>\n",
       "    </tr>\n",
       "    <tr>\n",
       "      <th>6019</th>\n",
       "      <td>08/09/2022 17:00</td>\n",
       "      <td>08/09/2022 18:00</td>\n",
       "      <td>1191.979732</td>\n",
       "    </tr>\n",
       "  </tbody>\n",
       "</table>\n",
       "</div>"
      ],
      "text/plain": [
       "                 Start            Finish  Steps (count)\n",
       "6016  08/09/2022 14:00  08/09/2022 15:00     893.959035\n",
       "6017  08/09/2022 15:00  08/09/2022 16:00     534.040965\n",
       "6018  08/09/2022 16:00  08/09/2022 17:00     390.020268\n",
       "6019  08/09/2022 17:00  08/09/2022 18:00    1191.979732"
      ]
     },
     "execution_count": 6,
     "metadata": {},
     "output_type": "execute_result"
    }
   ],
   "source": [
    "p3.tail(4)"
   ]
  },
  {
   "cell_type": "code",
   "execution_count": 7,
   "id": "f3054f13",
   "metadata": {},
   "outputs": [
    {
     "data": {
      "text/plain": [
       "0        01/01/2022 0:00\n",
       "1        01/01/2022 1:00\n",
       "2        01/01/2022 2:00\n",
       "3        01/01/2022 3:00\n",
       "4        01/01/2022 4:00\n",
       "              ...       \n",
       "6015    08/09/2022 14:00\n",
       "6016    08/09/2022 15:00\n",
       "6017    08/09/2022 16:00\n",
       "6018    08/09/2022 17:00\n",
       "6019    08/09/2022 18:00\n",
       "Name: Finish, Length: 6020, dtype: object"
      ]
     },
     "execution_count": 7,
     "metadata": {},
     "output_type": "execute_result"
    }
   ],
   "source": [
    "p3['Finish']"
   ]
  },
  {
   "cell_type": "markdown",
   "id": "49a512f3",
   "metadata": {},
   "source": [
    "According to the p3 dataset, it record the start time and finish time pf participants taking steps and the count of steps in each one hour period. The finish time range is between 01/01/2022 0:00 and 08/09/2022 18:00"
   ]
  },
  {
   "cell_type": "markdown",
   "id": "674dfea4",
   "metadata": {},
   "source": [
    "## 2. Data Clean"
   ]
  },
  {
   "cell_type": "markdown",
   "id": "3b70597a",
   "metadata": {},
   "source": [
    "Each step count is based on one hour period. The first period start at 31/12/2021 23:00 which only has one hour in Decmember of 2021, so we count it as January of 2022 by aggregate the month data based on the Finish time.\n",
    "\n",
    "Firstly, extract the months from the Finish time and store it as a new column called \"month\""
   ]
  },
  {
   "cell_type": "code",
   "execution_count": 8,
   "id": "5f39030c",
   "metadata": {},
   "outputs": [
    {
     "name": "stdout",
     "output_type": "stream",
     "text": [
      "Steps (count)    0\n",
      "month            0\n",
      "date             0\n",
      "dtype: int64\n"
     ]
    }
   ],
   "source": [
    "p3['month'] = pd.to_datetime(p3['Finish'], dayfirst=True).dt.month \n",
    "p3['date'] = pd.to_datetime(p3['Finish'], dayfirst=True).dt.date\n",
    "p3 = p3.drop('Start', axis=1)\n",
    "p3 = p3.drop('Finish', axis=1)\n",
    "print(p3.isnull().sum())"
   ]
  },
  {
   "cell_type": "markdown",
   "id": "51bf89fc",
   "metadata": {},
   "source": [
    "Based on the \"date\" we extracted, we aggregate the daiily step count by calculating the sum and follow with its month and form it as a new data frame called \"cleaned_date\". "
   ]
  },
  {
   "cell_type": "code",
   "execution_count": 9,
   "id": "c2a9df57",
   "metadata": {},
   "outputs": [
    {
     "data": {
      "text/html": [
       "<div>\n",
       "<style scoped>\n",
       "    .dataframe tbody tr th:only-of-type {\n",
       "        vertical-align: middle;\n",
       "    }\n",
       "\n",
       "    .dataframe tbody tr th {\n",
       "        vertical-align: top;\n",
       "    }\n",
       "\n",
       "    .dataframe thead th {\n",
       "        text-align: right;\n",
       "    }\n",
       "</style>\n",
       "<table border=\"1\" class=\"dataframe\">\n",
       "  <thead>\n",
       "    <tr style=\"text-align: right;\">\n",
       "      <th></th>\n",
       "      <th>total_steps_per_day</th>\n",
       "      <th>month</th>\n",
       "    </tr>\n",
       "    <tr>\n",
       "      <th>date</th>\n",
       "      <th></th>\n",
       "      <th></th>\n",
       "    </tr>\n",
       "  </thead>\n",
       "  <tbody>\n",
       "    <tr>\n",
       "      <th>2022-01-01</th>\n",
       "      <td>1614.0</td>\n",
       "      <td>1</td>\n",
       "    </tr>\n",
       "    <tr>\n",
       "      <th>2022-01-02</th>\n",
       "      <td>5822.0</td>\n",
       "      <td>1</td>\n",
       "    </tr>\n",
       "    <tr>\n",
       "      <th>2022-01-03</th>\n",
       "      <td>1959.0</td>\n",
       "      <td>1</td>\n",
       "    </tr>\n",
       "    <tr>\n",
       "      <th>2022-01-04</th>\n",
       "      <td>61.0</td>\n",
       "      <td>1</td>\n",
       "    </tr>\n",
       "    <tr>\n",
       "      <th>2022-01-05</th>\n",
       "      <td>215.0</td>\n",
       "      <td>1</td>\n",
       "    </tr>\n",
       "    <tr>\n",
       "      <th>...</th>\n",
       "      <td>...</td>\n",
       "      <td>...</td>\n",
       "    </tr>\n",
       "    <tr>\n",
       "      <th>2022-08-27</th>\n",
       "      <td>2295.0</td>\n",
       "      <td>8</td>\n",
       "    </tr>\n",
       "    <tr>\n",
       "      <th>2022-08-28</th>\n",
       "      <td>1118.0</td>\n",
       "      <td>8</td>\n",
       "    </tr>\n",
       "    <tr>\n",
       "      <th>2022-08-29</th>\n",
       "      <td>12679.0</td>\n",
       "      <td>8</td>\n",
       "    </tr>\n",
       "    <tr>\n",
       "      <th>2022-08-30</th>\n",
       "      <td>9600.0</td>\n",
       "      <td>8</td>\n",
       "    </tr>\n",
       "    <tr>\n",
       "      <th>2022-08-31</th>\n",
       "      <td>8648.0</td>\n",
       "      <td>8</td>\n",
       "    </tr>\n",
       "  </tbody>\n",
       "</table>\n",
       "<p>243 rows × 2 columns</p>\n",
       "</div>"
      ],
      "text/plain": [
       "            total_steps_per_day  month\n",
       "date                                  \n",
       "2022-01-01               1614.0      1\n",
       "2022-01-02               5822.0      1\n",
       "2022-01-03               1959.0      1\n",
       "2022-01-04                 61.0      1\n",
       "2022-01-05                215.0      1\n",
       "...                         ...    ...\n",
       "2022-08-27               2295.0      8\n",
       "2022-08-28               1118.0      8\n",
       "2022-08-29              12679.0      8\n",
       "2022-08-30               9600.0      8\n",
       "2022-08-31               8648.0      8\n",
       "\n",
       "[243 rows x 2 columns]"
      ]
     },
     "execution_count": 9,
     "metadata": {},
     "output_type": "execute_result"
    }
   ],
   "source": [
    "cleaned_date = p3.groupby('date').agg(total_steps_per_day=pd.NamedAgg(column=\"Steps (count)\", aggfunc=\"sum\"),\n",
    "                                      month=pd.NamedAgg(column=\"month\", aggfunc=\"max\"))\n",
    "\n",
    "cleaned_date = cleaned_date.drop(cleaned_date[cleaned_date.month == 9].index)\n",
    "cleaned_date"
   ]
  },
  {
   "cell_type": "markdown",
   "id": "b6548c55",
   "metadata": {},
   "source": [
    "This cleaned_date could be used to calculate the monthly steps and in the sub-question analyze."
   ]
  },
  {
   "cell_type": "markdown",
   "id": "e1593d99",
   "metadata": {},
   "source": [
    "## 3 Driving quesiton: What is the rate of days reaching the health standard every month？\n",
    "### 3.1 Sub-Question: What is the proportion of days reaching the health standard every month？\n",
    "\n",
    "#### 3.1.1 Dataset: Participant_03.csv\n",
    "\n",
    "**Purpose:** To observe the trend of the monthly proportion of reaching the health standard, and judge whether the participant has a stable trend of steps\n",
    "\n",
    "By calculating the proportion of the number of days reaching the health standard each month, observe the trend of the monthly proportion of reaching the health standard, and judge whether the participant has a stable trend of steps. At the same time, the monthly compliance is observed by calculating the average compliance proportion and comparing it with the total steps and health standard.\n",
    "\n",
    "**Importance:** By observing the proportion of the number of days reaching the standard each month, it is more conducive to reflect the real health compliance of the participant each month. It is possible that the total number of steps in a month may reach the health standard due to the excessive number of steps in a few days, while the number of steps in most days does not reach the health standard. Hence, just looking at the total number of steps in a month does not represent the compliance of healthy steps of participants.\n",
    "\n",
    "**Stakeholder:** The stakeholders in this research are the participants and the analysis team. \n",
    "\n",
    "1. For participants, the result of this reseach is benefit for them to know about the health compliance of themselves and they could improve their health compliance by following our suggestion\n",
    "\n",
    "2. For analysis team, We can exchange research results and observe the general monthly steps of participants. The data cleaning, data sorting and data visualization methods used in the research can also be used in other related research.\n",
    "\n",
    "Healthy steps reference link: https://ijbnpa.biomedcentral.com/articles/10.1186/1479-5868-8-79\n",
    "\n",
    "According to the research, 10,000 steps/day is reasonable for audlt population and the estimates of habitual activity levels equate to 7,000 to 11,000 steps/day. We assume the participant 3 is a normal adult and Set the minimum number of healthy steps as 7000 steps per day, which is equivalent to 210000 steps per month. \n",
    "\n",
    "We want to explore the proportion of days that meet the health standard every month. By exploring the ratio, we can observe the proportion of healthy steps of participants in each month to help them further understand their own steps\n",
    "\n",
    "Based on the cleaned_date, we aggregate the monthly step count by calculating the sum and calculate the healthy standard by multiplying the total days in a month and standard daily steps."
   ]
  },
  {
   "cell_type": "code",
   "execution_count": 10,
   "id": "1b1415f6",
   "metadata": {},
   "outputs": [],
   "source": [
    "clean_month_steps = cleaned_date.groupby('month').agg(total_steps_per_month=pd.NamedAgg(column=\"total_steps_per_day\", aggfunc=\"sum\"))\n",
    "clean_month_date = cleaned_date.groupby('month').count()\n",
    "clean_healthy = clean_month_date * 7000"
   ]
  },
  {
   "cell_type": "code",
   "execution_count": 11,
   "id": "b7d504c4",
   "metadata": {},
   "outputs": [
    {
     "data": {
      "text/html": [
       "<div>\n",
       "<style scoped>\n",
       "    .dataframe tbody tr th:only-of-type {\n",
       "        vertical-align: middle;\n",
       "    }\n",
       "\n",
       "    .dataframe tbody tr th {\n",
       "        vertical-align: top;\n",
       "    }\n",
       "\n",
       "    .dataframe thead th {\n",
       "        text-align: right;\n",
       "    }\n",
       "</style>\n",
       "<table border=\"1\" class=\"dataframe\">\n",
       "  <thead>\n",
       "    <tr style=\"text-align: right;\">\n",
       "      <th></th>\n",
       "      <th>total_steps_per_month</th>\n",
       "      <th>health_standard</th>\n",
       "    </tr>\n",
       "    <tr>\n",
       "      <th>month</th>\n",
       "      <th></th>\n",
       "      <th></th>\n",
       "    </tr>\n",
       "  </thead>\n",
       "  <tbody>\n",
       "    <tr>\n",
       "      <th>1</th>\n",
       "      <td>52121.0</td>\n",
       "      <td>217000</td>\n",
       "    </tr>\n",
       "    <tr>\n",
       "      <th>2</th>\n",
       "      <td>211422.0</td>\n",
       "      <td>196000</td>\n",
       "    </tr>\n",
       "    <tr>\n",
       "      <th>3</th>\n",
       "      <td>205875.0</td>\n",
       "      <td>217000</td>\n",
       "    </tr>\n",
       "    <tr>\n",
       "      <th>4</th>\n",
       "      <td>146538.0</td>\n",
       "      <td>210000</td>\n",
       "    </tr>\n",
       "    <tr>\n",
       "      <th>5</th>\n",
       "      <td>218108.0</td>\n",
       "      <td>217000</td>\n",
       "    </tr>\n",
       "    <tr>\n",
       "      <th>6</th>\n",
       "      <td>162690.0</td>\n",
       "      <td>210000</td>\n",
       "    </tr>\n",
       "    <tr>\n",
       "      <th>7</th>\n",
       "      <td>119113.0</td>\n",
       "      <td>217000</td>\n",
       "    </tr>\n",
       "    <tr>\n",
       "      <th>8</th>\n",
       "      <td>250056.0</td>\n",
       "      <td>217000</td>\n",
       "    </tr>\n",
       "  </tbody>\n",
       "</table>\n",
       "</div>"
      ],
      "text/plain": [
       "       total_steps_per_month  health_standard\n",
       "month                                        \n",
       "1                    52121.0           217000\n",
       "2                   211422.0           196000\n",
       "3                   205875.0           217000\n",
       "4                   146538.0           210000\n",
       "5                   218108.0           217000\n",
       "6                   162690.0           210000\n",
       "7                   119113.0           217000\n",
       "8                   250056.0           217000"
      ]
     },
     "execution_count": 11,
     "metadata": {},
     "output_type": "execute_result"
    }
   ],
   "source": [
    "clean_p3 = pd.concat([clean_month_steps, clean_healthy], axis=1, join=\"inner\")\n",
    "clean_p3.columns.values[1] = \"health_standard\"\n",
    "clean_p3.round(1)"
   ]
  },
  {
   "cell_type": "markdown",
   "id": "75c9bb90",
   "metadata": {},
   "source": [
    "After rounding the data to one decimal place, the data is cleaner and more organized.\n",
    "\n",
    "Import cufflinks and set the theme to 'pearl'"
   ]
  },
  {
   "cell_type": "code",
   "execution_count": 12,
   "id": "1e69c14d",
   "metadata": {},
   "outputs": [
    {
     "data": {
      "text/html": [
       "        <script type=\"text/javascript\">\n",
       "        window.PlotlyConfig = {MathJaxConfig: 'local'};\n",
       "        if (window.MathJax) {MathJax.Hub.Config({SVG: {font: \"STIX-Web\"}});}\n",
       "        if (typeof require !== 'undefined') {\n",
       "        require.undef(\"plotly\");\n",
       "        requirejs.config({\n",
       "            paths: {\n",
       "                'plotly': ['https://cdn.plot.ly/plotly-2.9.0.min']\n",
       "            }\n",
       "        });\n",
       "        require(['plotly'], function(Plotly) {\n",
       "            window._Plotly = Plotly;\n",
       "        });\n",
       "        }\n",
       "        </script>\n",
       "        "
      ]
     },
     "metadata": {},
     "output_type": "display_data"
    }
   ],
   "source": [
    "import pandas as pd\n",
    "import cufflinks as cf\n",
    "import numpy as np\n"
   ]
  },
  {
   "cell_type": "code",
   "execution_count": 13,
   "id": "61f44564",
   "metadata": {},
   "outputs": [
    {
     "data": {
      "text/html": [
       "        <script type=\"text/javascript\">\n",
       "        window.PlotlyConfig = {MathJaxConfig: 'local'};\n",
       "        if (window.MathJax) {MathJax.Hub.Config({SVG: {font: \"STIX-Web\"}});}\n",
       "        if (typeof require !== 'undefined') {\n",
       "        require.undef(\"plotly\");\n",
       "        requirejs.config({\n",
       "            paths: {\n",
       "                'plotly': ['https://cdn.plot.ly/plotly-2.9.0.min']\n",
       "            }\n",
       "        });\n",
       "        require(['plotly'], function(Plotly) {\n",
       "            window._Plotly = Plotly;\n",
       "        });\n",
       "        }\n",
       "        </script>\n",
       "        "
      ]
     },
     "metadata": {},
     "output_type": "display_data"
    }
   ],
   "source": [
    "cf.set_config_file(theme='pearl', sharing='public', offline=True)"
   ]
  },
  {
   "cell_type": "code",
   "execution_count": 14,
   "id": "54bedc57",
   "metadata": {},
   "outputs": [
    {
     "data": {
      "text/html": [
       "<div>\n",
       "<style scoped>\n",
       "    .dataframe tbody tr th:only-of-type {\n",
       "        vertical-align: middle;\n",
       "    }\n",
       "\n",
       "    .dataframe tbody tr th {\n",
       "        vertical-align: top;\n",
       "    }\n",
       "\n",
       "    .dataframe thead th {\n",
       "        text-align: right;\n",
       "    }\n",
       "</style>\n",
       "<table border=\"1\" class=\"dataframe\">\n",
       "  <thead>\n",
       "    <tr style=\"text-align: right;\">\n",
       "      <th></th>\n",
       "      <th>total_days_over_7000</th>\n",
       "    </tr>\n",
       "    <tr>\n",
       "      <th>month</th>\n",
       "      <th></th>\n",
       "    </tr>\n",
       "  </thead>\n",
       "  <tbody>\n",
       "    <tr>\n",
       "      <th>1</th>\n",
       "      <td>1</td>\n",
       "    </tr>\n",
       "    <tr>\n",
       "      <th>2</th>\n",
       "      <td>20</td>\n",
       "    </tr>\n",
       "    <tr>\n",
       "      <th>3</th>\n",
       "      <td>19</td>\n",
       "    </tr>\n",
       "    <tr>\n",
       "      <th>4</th>\n",
       "      <td>13</td>\n",
       "    </tr>\n",
       "    <tr>\n",
       "      <th>5</th>\n",
       "      <td>16</td>\n",
       "    </tr>\n",
       "    <tr>\n",
       "      <th>6</th>\n",
       "      <td>13</td>\n",
       "    </tr>\n",
       "    <tr>\n",
       "      <th>7</th>\n",
       "      <td>8</td>\n",
       "    </tr>\n",
       "    <tr>\n",
       "      <th>8</th>\n",
       "      <td>19</td>\n",
       "    </tr>\n",
       "  </tbody>\n",
       "</table>\n",
       "</div>"
      ],
      "text/plain": [
       "       total_days_over_7000\n",
       "month                      \n",
       "1                         1\n",
       "2                        20\n",
       "3                        19\n",
       "4                        13\n",
       "5                        16\n",
       "6                        13\n",
       "7                         8\n",
       "8                        19"
      ]
     },
     "execution_count": 14,
     "metadata": {},
     "output_type": "execute_result"
    }
   ],
   "source": [
    "cleaned_count = cleaned_date.groupby('month')['total_steps_per_day'].apply(lambda x: x[x >= 7000].count())\n",
    "cleaned_count = pd.DataFrame(data = cleaned_count)\n",
    "cleaned_count.columns.values[0] = \"total_days_over_7000\"\n",
    "cleaned_count"
   ]
  },
  {
   "cell_type": "markdown",
   "id": "008d1b9e",
   "metadata": {},
   "source": [
    "Calculate the the proportion by dividing the number of days over 7000 steps by the total number of days in a month and store it in the \"proportion\" dataframe"
   ]
  },
  {
   "cell_type": "code",
   "execution_count": 15,
   "id": "92aca514",
   "metadata": {},
   "outputs": [
    {
     "data": {
      "text/html": [
       "<div>\n",
       "<style scoped>\n",
       "    .dataframe tbody tr th:only-of-type {\n",
       "        vertical-align: middle;\n",
       "    }\n",
       "\n",
       "    .dataframe tbody tr th {\n",
       "        vertical-align: top;\n",
       "    }\n",
       "\n",
       "    .dataframe thead th {\n",
       "        text-align: right;\n",
       "    }\n",
       "</style>\n",
       "<table border=\"1\" class=\"dataframe\">\n",
       "  <thead>\n",
       "    <tr style=\"text-align: right;\">\n",
       "      <th></th>\n",
       "      <th>health_proportion(%)</th>\n",
       "    </tr>\n",
       "    <tr>\n",
       "      <th>month</th>\n",
       "      <th></th>\n",
       "    </tr>\n",
       "  </thead>\n",
       "  <tbody>\n",
       "    <tr>\n",
       "      <th>1</th>\n",
       "      <td>0.032258</td>\n",
       "    </tr>\n",
       "    <tr>\n",
       "      <th>2</th>\n",
       "      <td>0.714286</td>\n",
       "    </tr>\n",
       "    <tr>\n",
       "      <th>3</th>\n",
       "      <td>0.612903</td>\n",
       "    </tr>\n",
       "    <tr>\n",
       "      <th>4</th>\n",
       "      <td>0.433333</td>\n",
       "    </tr>\n",
       "    <tr>\n",
       "      <th>5</th>\n",
       "      <td>0.516129</td>\n",
       "    </tr>\n",
       "    <tr>\n",
       "      <th>6</th>\n",
       "      <td>0.433333</td>\n",
       "    </tr>\n",
       "    <tr>\n",
       "      <th>7</th>\n",
       "      <td>0.258065</td>\n",
       "    </tr>\n",
       "    <tr>\n",
       "      <th>8</th>\n",
       "      <td>0.612903</td>\n",
       "    </tr>\n",
       "  </tbody>\n",
       "</table>\n",
       "</div>"
      ],
      "text/plain": [
       "       health_proportion(%)\n",
       "month                      \n",
       "1                  0.032258\n",
       "2                  0.714286\n",
       "3                  0.612903\n",
       "4                  0.433333\n",
       "5                  0.516129\n",
       "6                  0.433333\n",
       "7                  0.258065\n",
       "8                  0.612903"
      ]
     },
     "execution_count": 15,
     "metadata": {},
     "output_type": "execute_result"
    }
   ],
   "source": [
    "proportion = cleaned_count['total_days_over_7000'] / clean_month_date['total_steps_per_day']\n",
    "proportion = pd.DataFrame(data = proportion)\n",
    "proportion.columns = proportion.columns.astype(str)\n",
    "proportion.columns.values[0] = \"health_proportion(%)\"\n",
    "proportion"
   ]
  },
  {
   "cell_type": "markdown",
   "id": "b3b93fe9",
   "metadata": {},
   "source": [
    "Multiply the healthy proportion by 100 and round it to 2 decimals place."
   ]
  },
  {
   "cell_type": "code",
   "execution_count": 16,
   "id": "5e62b73f",
   "metadata": {},
   "outputs": [
    {
     "data": {
      "text/html": [
       "<div>\n",
       "<style scoped>\n",
       "    .dataframe tbody tr th:only-of-type {\n",
       "        vertical-align: middle;\n",
       "    }\n",
       "\n",
       "    .dataframe tbody tr th {\n",
       "        vertical-align: top;\n",
       "    }\n",
       "\n",
       "    .dataframe thead th {\n",
       "        text-align: right;\n",
       "    }\n",
       "</style>\n",
       "<table border=\"1\" class=\"dataframe\">\n",
       "  <thead>\n",
       "    <tr style=\"text-align: right;\">\n",
       "      <th></th>\n",
       "      <th>health_proportion(%)</th>\n",
       "    </tr>\n",
       "    <tr>\n",
       "      <th>month</th>\n",
       "      <th></th>\n",
       "    </tr>\n",
       "  </thead>\n",
       "  <tbody>\n",
       "    <tr>\n",
       "      <th>1</th>\n",
       "      <td>3.23</td>\n",
       "    </tr>\n",
       "    <tr>\n",
       "      <th>2</th>\n",
       "      <td>71.43</td>\n",
       "    </tr>\n",
       "    <tr>\n",
       "      <th>3</th>\n",
       "      <td>61.29</td>\n",
       "    </tr>\n",
       "    <tr>\n",
       "      <th>4</th>\n",
       "      <td>43.33</td>\n",
       "    </tr>\n",
       "    <tr>\n",
       "      <th>5</th>\n",
       "      <td>51.61</td>\n",
       "    </tr>\n",
       "    <tr>\n",
       "      <th>6</th>\n",
       "      <td>43.33</td>\n",
       "    </tr>\n",
       "    <tr>\n",
       "      <th>7</th>\n",
       "      <td>25.81</td>\n",
       "    </tr>\n",
       "    <tr>\n",
       "      <th>8</th>\n",
       "      <td>61.29</td>\n",
       "    </tr>\n",
       "  </tbody>\n",
       "</table>\n",
       "</div>"
      ],
      "text/plain": [
       "       health_proportion(%)\n",
       "month                      \n",
       "1                      3.23\n",
       "2                     71.43\n",
       "3                     61.29\n",
       "4                     43.33\n",
       "5                     51.61\n",
       "6                     43.33\n",
       "7                     25.81\n",
       "8                     61.29"
      ]
     },
     "execution_count": 16,
     "metadata": {},
     "output_type": "execute_result"
    }
   ],
   "source": [
    "proportion = proportion * 100\n",
    "proportion.round(2)"
   ]
  },
  {
   "cell_type": "code",
   "execution_count": 17,
   "id": "5d1a0ca1",
   "metadata": {},
   "outputs": [
    {
     "data": {
      "text/plain": [
       "45.165130568356375"
      ]
     },
     "execution_count": 17,
     "metadata": {},
     "output_type": "execute_result"
    }
   ],
   "source": [
    "proportion['health_proportion(%)'].mean()"
   ]
  },
  {
   "cell_type": "markdown",
   "id": "86922c31",
   "metadata": {},
   "source": [
    "Below we created an interactive area chart covering the area under the health proportion of each month."
   ]
  },
  {
   "cell_type": "code",
   "execution_count": 20,
   "id": "9c290ef7",
   "metadata": {},
   "outputs": [
    {
     "data": {
      "image/svg+xml": [
       "<svg class=\"main-svg\" xmlns=\"http://www.w3.org/2000/svg\" xmlns:xlink=\"http://www.w3.org/1999/xlink\" width=\"700\" height=\"500\" viewBox=\"0 0 700 500\" style=\"\"><rect x=\"0\" y=\"0\" width=\"700\" height=\"500\" style=\"fill: rgb(245, 246, 249); fill-opacity: 1;\"/><defs id=\"defs-426dfd\"><g class=\"clips\"><clipPath id=\"clip426dfdxyplot\" class=\"plotclip\"><rect width=\"540\" height=\"320\"/></clipPath><clipPath class=\"axesclip\" id=\"clip426dfdx\"><rect x=\"80\" y=\"0\" width=\"540\" height=\"500\"/></clipPath><clipPath class=\"axesclip\" id=\"clip426dfdy\"><rect x=\"0\" y=\"100\" width=\"700\" height=\"320\"/></clipPath><clipPath class=\"axesclip\" id=\"clip426dfdxy\"><rect x=\"80\" y=\"100\" width=\"540\" height=\"320\"/></clipPath></g><g class=\"gradients\"/><g class=\"patterns\"/></defs><g class=\"bglayer\"/><g class=\"layer-below\"><g class=\"imagelayer\"/><g class=\"shapelayer\"/></g><g class=\"cartesianlayer\"><g class=\"subplot xy\"><g class=\"layer-subplot\"><g class=\"shapelayer\"/><g class=\"imagelayer\"/></g><g class=\"gridlayer\"><g class=\"x\"><path class=\"xgrid crisp\" transform=\"translate(157.14,0)\" d=\"M0,100v320\" style=\"stroke: rgb(225, 229, 237); stroke-opacity: 1; stroke-width: 1px;\"/><path class=\"xgrid crisp\" transform=\"translate(234.29,0)\" d=\"M0,100v320\" style=\"stroke: rgb(225, 229, 237); stroke-opacity: 1; stroke-width: 1px;\"/><path class=\"xgrid crisp\" transform=\"translate(311.43,0)\" d=\"M0,100v320\" style=\"stroke: rgb(225, 229, 237); stroke-opacity: 1; stroke-width: 1px;\"/><path class=\"xgrid crisp\" transform=\"translate(388.57,0)\" d=\"M0,100v320\" style=\"stroke: rgb(225, 229, 237); stroke-opacity: 1; stroke-width: 1px;\"/><path class=\"xgrid crisp\" transform=\"translate(465.71,0)\" d=\"M0,100v320\" style=\"stroke: rgb(225, 229, 237); stroke-opacity: 1; stroke-width: 1px;\"/><path class=\"xgrid crisp\" transform=\"translate(542.86,0)\" d=\"M0,100v320\" style=\"stroke: rgb(225, 229, 237); stroke-opacity: 1; stroke-width: 1px;\"/></g><g class=\"y\"><path class=\"ygrid crisp\" transform=\"translate(0,377.44)\" d=\"M80,0h540\" style=\"stroke: rgb(225, 229, 237); stroke-opacity: 1; stroke-width: 1px;\"/><path class=\"ygrid crisp\" transform=\"translate(0,334.88)\" d=\"M80,0h540\" style=\"stroke: rgb(225, 229, 237); stroke-opacity: 1; stroke-width: 1px;\"/><path class=\"ygrid crisp\" transform=\"translate(0,292.32)\" d=\"M80,0h540\" style=\"stroke: rgb(225, 229, 237); stroke-opacity: 1; stroke-width: 1px;\"/><path class=\"ygrid crisp\" transform=\"translate(0,249.76)\" d=\"M80,0h540\" style=\"stroke: rgb(225, 229, 237); stroke-opacity: 1; stroke-width: 1px;\"/><path class=\"ygrid crisp\" transform=\"translate(0,207.2)\" d=\"M80,0h540\" style=\"stroke: rgb(225, 229, 237); stroke-opacity: 1; stroke-width: 1px;\"/><path class=\"ygrid crisp\" transform=\"translate(0,164.64)\" d=\"M80,0h540\" style=\"stroke: rgb(225, 229, 237); stroke-opacity: 1; stroke-width: 1px;\"/><path class=\"ygrid crisp\" transform=\"translate(0,122.08)\" d=\"M80,0h540\" style=\"stroke: rgb(225, 229, 237); stroke-opacity: 1; stroke-width: 1px;\"/></g></g><g class=\"zerolinelayer\"><path class=\"yzl zl crisp\" transform=\"translate(0,420)\" d=\"M80,0h540\" style=\"stroke: rgb(225, 229, 237); stroke-opacity: 1; stroke-width: 2px;\"/></g><path class=\"xlines-below\"/><path class=\"ylines-below\"/><g class=\"overlines-below\"/><g class=\"xaxislayer-below\"/><g class=\"yaxislayer-below\"/><g class=\"overaxes-below\"/><g class=\"plot\" transform=\"translate(80,100)\" clip-path=\"url(#clip426dfdxyplot)\"><g class=\"scatterlayer mlayer\"><g class=\"trace scatter tracead6eb1\" style=\"stroke-miterlimit: 2;\"><g class=\"fills\"><g><path class=\"js-fill\" d=\"M540,320L0,320L0,306.27L77.14,16L154.29,59.15L231.43,135.57L308.57,100.34L385.71,135.57L462.86,210.17L540,59.15\" style=\"fill: rgb(255, 153, 51); fill-opacity: 0.3; stroke-width: 0;\"/></g></g><g class=\"errorbars\"/><g class=\"lines\"><path class=\"js-line\" d=\"M0,306.27L77.14,16L154.29,59.15L231.43,135.57L308.57,100.34L385.71,135.57L462.86,210.17L540,59.15\" style=\"vector-effect: non-scaling-stroke; fill: none; stroke: rgb(255, 153, 51); stroke-opacity: 1; stroke-width: 1.3px; opacity: 1;\"/></g><g class=\"points\"/><g class=\"text\"/></g></g></g><g class=\"overplot\"/><path class=\"xlines-above crisp\" d=\"M0,0\" style=\"fill: none;\"/><path class=\"ylines-above crisp\" d=\"M0,0\" style=\"fill: none;\"/><g class=\"overlines-above\"/><g class=\"xaxislayer-above\"><g class=\"xtick\"><text text-anchor=\"middle\" x=\"0\" y=\"433\" transform=\"translate(80,0)\" style=\"font-family: 'Open Sans', verdana, arial, sans-serif; font-size: 12px; fill: rgb(77, 86, 99); fill-opacity: 1; white-space: pre; opacity: 1;\">1</text></g><g class=\"xtick\"><text text-anchor=\"middle\" x=\"0\" y=\"433\" style=\"font-family: 'Open Sans', verdana, arial, sans-serif; font-size: 12px; fill: rgb(77, 86, 99); fill-opacity: 1; white-space: pre; opacity: 1;\" transform=\"translate(157.14,0)\">2</text></g><g class=\"xtick\"><text text-anchor=\"middle\" x=\"0\" y=\"433\" style=\"font-family: 'Open Sans', verdana, arial, sans-serif; font-size: 12px; fill: rgb(77, 86, 99); fill-opacity: 1; white-space: pre; opacity: 1;\" transform=\"translate(234.29,0)\">3</text></g><g class=\"xtick\"><text text-anchor=\"middle\" x=\"0\" y=\"433\" style=\"font-family: 'Open Sans', verdana, arial, sans-serif; font-size: 12px; fill: rgb(77, 86, 99); fill-opacity: 1; white-space: pre; opacity: 1;\" transform=\"translate(311.43,0)\">4</text></g><g class=\"xtick\"><text text-anchor=\"middle\" x=\"0\" y=\"433\" style=\"font-family: 'Open Sans', verdana, arial, sans-serif; font-size: 12px; fill: rgb(77, 86, 99); fill-opacity: 1; white-space: pre; opacity: 1;\" transform=\"translate(388.57,0)\">5</text></g><g class=\"xtick\"><text text-anchor=\"middle\" x=\"0\" y=\"433\" style=\"font-family: 'Open Sans', verdana, arial, sans-serif; font-size: 12px; fill: rgb(77, 86, 99); fill-opacity: 1; white-space: pre; opacity: 1;\" transform=\"translate(465.71,0)\">6</text></g><g class=\"xtick\"><text text-anchor=\"middle\" x=\"0\" y=\"433\" style=\"font-family: 'Open Sans', verdana, arial, sans-serif; font-size: 12px; fill: rgb(77, 86, 99); fill-opacity: 1; white-space: pre; opacity: 1;\" transform=\"translate(542.86,0)\">7</text></g><g class=\"xtick\"><text text-anchor=\"middle\" x=\"0\" y=\"433\" style=\"font-family: 'Open Sans', verdana, arial, sans-serif; font-size: 12px; fill: rgb(77, 86, 99); fill-opacity: 1; white-space: pre; opacity: 1;\" transform=\"translate(620,0)\">8</text></g></g><g class=\"yaxislayer-above\"><g class=\"ytick\"><text text-anchor=\"end\" x=\"79\" y=\"4.199999999999999\" transform=\"translate(0,420)\" style=\"font-family: 'Open Sans', verdana, arial, sans-serif; font-size: 12px; fill: rgb(77, 86, 99); fill-opacity: 1; white-space: pre; opacity: 1;\">0</text></g><g class=\"ytick\"><text text-anchor=\"end\" x=\"79\" y=\"4.199999999999999\" style=\"font-family: 'Open Sans', verdana, arial, sans-serif; font-size: 12px; fill: rgb(77, 86, 99); fill-opacity: 1; white-space: pre; opacity: 1;\" transform=\"translate(0,377.44)\">10</text></g><g class=\"ytick\"><text text-anchor=\"end\" x=\"79\" y=\"4.199999999999999\" style=\"font-family: 'Open Sans', verdana, arial, sans-serif; font-size: 12px; fill: rgb(77, 86, 99); fill-opacity: 1; white-space: pre; opacity: 1;\" transform=\"translate(0,334.88)\">20</text></g><g class=\"ytick\"><text text-anchor=\"end\" x=\"79\" y=\"4.199999999999999\" style=\"font-family: 'Open Sans', verdana, arial, sans-serif; font-size: 12px; fill: rgb(77, 86, 99); fill-opacity: 1; white-space: pre; opacity: 1;\" transform=\"translate(0,292.32)\">30</text></g><g class=\"ytick\"><text text-anchor=\"end\" x=\"79\" y=\"4.199999999999999\" style=\"font-family: 'Open Sans', verdana, arial, sans-serif; font-size: 12px; fill: rgb(77, 86, 99); fill-opacity: 1; white-space: pre; opacity: 1;\" transform=\"translate(0,249.76)\">40</text></g><g class=\"ytick\"><text text-anchor=\"end\" x=\"79\" y=\"4.199999999999999\" style=\"font-family: 'Open Sans', verdana, arial, sans-serif; font-size: 12px; fill: rgb(77, 86, 99); fill-opacity: 1; white-space: pre; opacity: 1;\" transform=\"translate(0,207.2)\">50</text></g><g class=\"ytick\"><text text-anchor=\"end\" x=\"79\" y=\"4.199999999999999\" style=\"font-family: 'Open Sans', verdana, arial, sans-serif; font-size: 12px; fill: rgb(77, 86, 99); fill-opacity: 1; white-space: pre; opacity: 1;\" transform=\"translate(0,164.64)\">60</text></g><g class=\"ytick\"><text text-anchor=\"end\" x=\"79\" y=\"4.199999999999999\" style=\"font-family: 'Open Sans', verdana, arial, sans-serif; font-size: 12px; fill: rgb(77, 86, 99); fill-opacity: 1; white-space: pre; opacity: 1;\" transform=\"translate(0,122.08)\">70</text></g></g><g class=\"overaxes-above\"/></g></g><g class=\"polarlayer\"/><g class=\"smithlayer\"/><g class=\"ternarylayer\"/><g class=\"geolayer\"/><g class=\"funnelarealayer\"/><g class=\"pielayer\"/><g class=\"iciclelayer\"/><g class=\"treemaplayer\"/><g class=\"sunburstlayer\"/><g class=\"glimages\"/><defs id=\"topdefs-426dfd\"><g class=\"clips\"/></defs><g class=\"layer-above\"><g class=\"imagelayer\"/><g class=\"shapelayer\"/></g><g class=\"infolayer\"><g class=\"g-gtitle\"><text class=\"gtitle\" x=\"35\" y=\"50\" text-anchor=\"start\" dy=\"0em\" style=\"font-family: 'Open Sans', verdana, arial, sans-serif; font-size: 17px; fill: rgb(77, 86, 99); opacity: 1; font-weight: normal; white-space: pre;\">Figure 1: Health proportion in each month of Participant03</text></g><g class=\"g-xtitle\"><text class=\"xtitle\" x=\"350\" y=\"460.3\" text-anchor=\"middle\" style=\"font-family: 'Open Sans', verdana, arial, sans-serif; font-size: 14px; fill: rgb(77, 86, 99); opacity: 1; font-weight: normal; white-space: pre;\">Month</text></g><g class=\"g-ytitle\"><text class=\"ytitle\" transform=\"rotate(-90,38.934375,260)\" x=\"38.934375\" y=\"260\" text-anchor=\"middle\" style=\"font-family: 'Open Sans', verdana, arial, sans-serif; font-size: 14px; fill: rgb(77, 86, 99); opacity: 1; font-weight: normal; white-space: pre;\">Healthy Proportion（%）</text></g></g></svg>"
      ]
     },
     "metadata": {},
     "output_type": "display_data"
    }
   ],
   "source": [
    "proportion.figure(y=\"health_proportion(%)\",\n",
    "               fill=True,\n",
    "               xTitle=\"Month\", yTitle=\"Healthy Proportion（%）\", title=\"Figure 1: Health proportion in each month of Participant03\"\n",
    "               )\n"
   ]
  },
  {
   "cell_type": "markdown",
   "id": "02222249",
   "metadata": {},
   "source": [
    "Figure 1 represents the the health\n",
    "proportion in each month of participant 03, the x-axis is month and the y-axis is the proportion in percentage. It shows the trend of proportion change in each month."
   ]
  },
  {
   "cell_type": "markdown",
   "id": "fd562a5b",
   "metadata": {},
   "source": [
    "Also, we created an interactive heat map to observe the proportion based on the intensity of the blue color."
   ]
  },
  {
   "cell_type": "code",
   "execution_count": 21,
   "id": "83943c96",
   "metadata": {},
   "outputs": [
    {
     "data": {
      "image/svg+xml": [
       "<svg class=\"main-svg\" xmlns=\"http://www.w3.org/2000/svg\" xmlns:xlink=\"http://www.w3.org/1999/xlink\" width=\"700\" height=\"500\" style=\"\" viewBox=\"0 0 700 500\"><rect x=\"0\" y=\"0\" width=\"700\" height=\"500\" style=\"fill: rgb(245, 246, 249); fill-opacity: 1;\"/><defs id=\"defs-fc2e38\"><g class=\"clips\"><clipPath id=\"clipfc2e38xyplot\" class=\"plotclip\"><rect width=\"445\" height=\"320\"/></clipPath><clipPath class=\"axesclip\" id=\"clipfc2e38x\"><rect x=\"169\" y=\"0\" width=\"445\" height=\"500\"/></clipPath><clipPath class=\"axesclip\" id=\"clipfc2e38y\"><rect x=\"0\" y=\"100\" width=\"700\" height=\"320\"/></clipPath><clipPath class=\"axesclip\" id=\"clipfc2e38xy\"><rect x=\"169\" y=\"100\" width=\"445\" height=\"320\"/></clipPath></g><g class=\"gradients\"><linearGradient x1=\"0\" x2=\"0\" y1=\"1\" y2=\"0\" id=\"gfc2e38-cb570a13\"><stop offset=\"0%\" stop-color=\"rgb(247, 251, 255)\" stop-opacity=\"1\"/><stop offset=\"12.5%\" stop-color=\"rgb(222, 235, 247)\" stop-opacity=\"1\"/><stop offset=\"25%\" stop-color=\"rgb(198, 219, 239)\" stop-opacity=\"1\"/><stop offset=\"37.5%\" stop-color=\"rgb(158, 202, 225)\" stop-opacity=\"1\"/><stop offset=\"50%\" stop-color=\"rgb(107, 174, 214)\" stop-opacity=\"1\"/><stop offset=\"62.5%\" stop-color=\"rgb(66, 146, 198)\" stop-opacity=\"1\"/><stop offset=\"75%\" stop-color=\"rgb(33, 113, 181)\" stop-opacity=\"1\"/><stop offset=\"87.5%\" stop-color=\"rgb(8, 81, 156)\" stop-opacity=\"1\"/><stop offset=\"100%\" stop-color=\"rgb(8, 48, 107)\" stop-opacity=\"1\"/></linearGradient></g><g class=\"patterns\"/></defs><g class=\"bglayer\"/><g class=\"layer-below\"><g class=\"imagelayer\"/><g class=\"shapelayer\"/></g><g class=\"cartesianlayer\"><g class=\"subplot xy\"><g class=\"layer-subplot\"><g class=\"shapelayer\"/><g class=\"imagelayer\"/></g><g class=\"gridlayer\"><g class=\"x\"><path class=\"xgrid crisp\" transform=\"translate(252.44,0)\" d=\"M0,100v320\" style=\"stroke: rgb(225, 229, 237); stroke-opacity: 1; stroke-width: 1px;\"/><path class=\"xgrid crisp\" transform=\"translate(363.69,0)\" d=\"M0,100v320\" style=\"stroke: rgb(225, 229, 237); stroke-opacity: 1; stroke-width: 1px;\"/><path class=\"xgrid crisp\" transform=\"translate(474.94,0)\" d=\"M0,100v320\" style=\"stroke: rgb(225, 229, 237); stroke-opacity: 1; stroke-width: 1px;\"/><path class=\"xgrid crisp\" transform=\"translate(586.19,0)\" d=\"M0,100v320\" style=\"stroke: rgb(225, 229, 237); stroke-opacity: 1; stroke-width: 1px;\"/></g><g class=\"y\"><path class=\"ygrid crisp\" transform=\"translate(0,260)\" d=\"M169,0h445\" style=\"stroke: rgb(225, 229, 237); stroke-opacity: 1; stroke-width: 1px;\"/></g></g><g class=\"zerolinelayer\"/><path class=\"xlines-below\"/><path class=\"ylines-below\"/><g class=\"overlines-below\"/><g class=\"xaxislayer-below\"/><g class=\"yaxislayer-below\"/><g class=\"overaxes-below\"/><g class=\"plot\" transform=\"translate(169,100)\" clip-path=\"url(#clipfc2e38xyplot)\"><g class=\"heatmaplayer mlayer\"><g class=\"hm\"><image xmlns=\"http://www.w3.org/2000/svg\" preserveAspectRatio=\"none\" height=\"320\" width=\"445\" x=\"0\" y=\"0\" xlink:href=\"data:image/png;base64,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\" style=\"opacity: 1;\"/></g></g></g><g class=\"overplot\"/><path class=\"xlines-above crisp\" d=\"M0,0\" style=\"fill: none;\"/><path class=\"ylines-above crisp\" d=\"M0,0\" style=\"fill: none;\"/><g class=\"overlines-above\"/><g class=\"xaxislayer-above\"><g class=\"xtick\"><text text-anchor=\"middle\" x=\"0\" y=\"433\" transform=\"translate(252.44,0)\" style=\"font-family: 'Open Sans', verdana, arial, sans-serif; font-size: 12px; fill: rgb(77, 86, 99); fill-opacity: 1; white-space: pre; opacity: 1;\">2</text></g><g class=\"xtick\"><text text-anchor=\"middle\" x=\"0\" y=\"433\" style=\"font-family: 'Open Sans', verdana, arial, sans-serif; font-size: 12px; fill: rgb(77, 86, 99); fill-opacity: 1; white-space: pre; opacity: 1;\" transform=\"translate(363.69,0)\">4</text></g><g class=\"xtick\"><text text-anchor=\"middle\" x=\"0\" y=\"433\" style=\"font-family: 'Open Sans', verdana, arial, sans-serif; font-size: 12px; fill: rgb(77, 86, 99); fill-opacity: 1; white-space: pre; opacity: 1;\" transform=\"translate(474.94,0)\">6</text></g><g class=\"xtick\"><text text-anchor=\"middle\" x=\"0\" y=\"433\" style=\"font-family: 'Open Sans', verdana, arial, sans-serif; font-size: 12px; fill: rgb(77, 86, 99); fill-opacity: 1; white-space: pre; opacity: 1;\" transform=\"translate(586.19,0)\">8</text></g></g><g class=\"yaxislayer-above\"><g class=\"ytick\"><text text-anchor=\"end\" x=\"168\" y=\"4.199999999999999\" transform=\"translate(0,260)\" style=\"font-family: 'Open Sans', verdana, arial, sans-serif; font-size: 12px; fill: rgb(77, 86, 99); fill-opacity: 1; white-space: pre; opacity: 1;\">health_proportion(%)</text></g></g><g class=\"overaxes-above\"/></g></g><g class=\"polarlayer\"/><g class=\"smithlayer\"/><g class=\"ternarylayer\"/><g class=\"geolayer\"/><g class=\"funnelarealayer\"/><g class=\"pielayer\"/><g class=\"iciclelayer\"/><g class=\"treemaplayer\"/><g class=\"sunburstlayer\"/><g class=\"glimages\"/><defs id=\"topdefs-fc2e38\"><g class=\"clips\"/></defs><g class=\"layer-above\"><g class=\"imagelayer\"/><g class=\"shapelayer\"/></g><g class=\"infolayer\"><g class=\"cb570a13 colorbar\" transform=\"translate(169,100)\"><rect class=\"cbbg\" x=\"454\" y=\"0\" width=\"65.28125\" height=\"320\" style=\"fill: rgb(0, 0, 0); fill-opacity: 0; stroke: rgb(68, 68, 68); stroke-opacity: 1; stroke-width: 0;\"/><g class=\"cbfills\" transform=\"translate(0,10)\"><rect class=\"cbfill\" x=\"464\" y=\"0\" width=\"30\" height=\"300\" style=\"fill: url('#gfc2e38-cb570a13');\"/></g><g class=\"cblines\" transform=\"translate(0,10)\"/><g class=\"cbaxis crisp\" transform=\"translate(0,-100)\"><g class=\"ycb570a13tick\"><text text-anchor=\"start\" x=\"496.9\" y=\"4.199999999999999\" transform=\"translate(0,380.2)\" style=\"font-family: 'Open Sans', verdana, arial, sans-serif; font-size: 12px; fill: rgb(42, 63, 95); fill-opacity: 1; white-space: pre; opacity: 1;\">10</text></g><g class=\"ycb570a13tick\"><text text-anchor=\"start\" x=\"496.9\" y=\"4.199999999999999\" style=\"font-family: 'Open Sans', verdana, arial, sans-serif; font-size: 12px; fill: rgb(42, 63, 95); fill-opacity: 1; white-space: pre; opacity: 1;\" transform=\"translate(0,336.22)\">20</text></g><g class=\"ycb570a13tick\"><text text-anchor=\"start\" x=\"496.9\" y=\"4.199999999999999\" style=\"font-family: 'Open Sans', verdana, arial, sans-serif; font-size: 12px; fill: rgb(42, 63, 95); fill-opacity: 1; white-space: pre; opacity: 1;\" transform=\"translate(0,292.23)\">30</text></g><g class=\"ycb570a13tick\"><text text-anchor=\"start\" x=\"496.9\" y=\"4.199999999999999\" style=\"font-family: 'Open Sans', verdana, arial, sans-serif; font-size: 12px; fill: rgb(42, 63, 95); fill-opacity: 1; white-space: pre; opacity: 1;\" transform=\"translate(0,248.24)\">40</text></g><g class=\"ycb570a13tick\"><text text-anchor=\"start\" x=\"496.9\" y=\"4.199999999999999\" style=\"font-family: 'Open Sans', verdana, arial, sans-serif; font-size: 12px; fill: rgb(42, 63, 95); fill-opacity: 1; white-space: pre; opacity: 1;\" transform=\"translate(0,204.26)\">50</text></g><g class=\"ycb570a13tick\"><text text-anchor=\"start\" x=\"496.9\" y=\"4.199999999999999\" style=\"font-family: 'Open Sans', verdana, arial, sans-serif; font-size: 12px; fill: rgb(42, 63, 95); fill-opacity: 1; white-space: pre; opacity: 1;\" transform=\"translate(0,160.27)\">60</text></g><g class=\"ycb570a13tick\"><text text-anchor=\"start\" x=\"496.9\" y=\"4.199999999999999\" style=\"font-family: 'Open Sans', verdana, arial, sans-serif; font-size: 12px; fill: rgb(42, 63, 95); fill-opacity: 1; white-space: pre; opacity: 1;\" transform=\"translate(0,116.28)\">70</text></g></g><g class=\"cbtitleunshift\" transform=\"translate(-169,-100)\"><g class=\"cbtitle\"/></g><rect class=\"cboutline\" x=\"464\" y=\"10\" width=\"30\" height=\"300\" style=\"stroke: rgb(68, 68, 68); stroke-opacity: 1; fill: none; stroke-width: 0;\"/></g><g class=\"g-gtitle\"><text class=\"gtitle\" x=\"35\" y=\"50\" text-anchor=\"start\" dy=\"0em\" style=\"font-family: 'Open Sans', verdana, arial, sans-serif; font-size: 17px; fill: rgb(77, 86, 99); opacity: 1; font-weight: normal; white-space: pre;\">Figure 2: Health proportion intensity of Participant03</text></g><g class=\"g-xtitle\"><text class=\"xtitle\" x=\"391.5\" y=\"460.3\" text-anchor=\"middle\" style=\"font-family: 'Open Sans', verdana, arial, sans-serif; font-size: 14px; fill: rgb(77, 86, 99); opacity: 1; font-weight: normal; white-space: pre;\">Month</text></g><g class=\"g-ytitle\"/></g></svg>"
      ]
     },
     "metadata": {},
     "output_type": "display_data"
    }
   ],
   "source": [
    "proportion.figure(kind=\"heatmap\",\n",
    "                   colorscale=\"Blues\",xTitle=\"Month\",title=\"Figure 2: Health proportion intensity of Participant03\",\n",
    "                   dimensions=(700,500))"
   ]
  },
  {
   "cell_type": "markdown",
   "id": "bd212554",
   "metadata": {},
   "source": [
    "Figure 2 represents the health proportion intensity of participant 03 where the x-axis represent months and the intensity of color represent the healthy proportion of each month. It uses the intensity of color to show the difference of the health proportion in each month."
   ]
  },
  {
   "cell_type": "markdown",
   "id": "6466eedb",
   "metadata": {},
   "source": [
    "Compare the monthly total steps with the health standard and generate spread chart to observe the total steps month to month trend"
   ]
  },
  {
   "cell_type": "code",
   "execution_count": 22,
   "id": "e663df72",
   "metadata": {},
   "outputs": [
    {
     "name": "stderr",
     "output_type": "stream",
     "text": [
      "/Users/yunshuozhang/opt/anaconda3/lib/python3.9/site-packages/cufflinks/plotlytools.py:849: FutureWarning:\n",
      "\n",
      "The pandas.np module is deprecated and will be removed from pandas in a future version. Import numpy directly instead.\n",
      "\n",
      "/Users/yunshuozhang/opt/anaconda3/lib/python3.9/site-packages/cufflinks/plotlytools.py:850: FutureWarning:\n",
      "\n",
      "The pandas.np module is deprecated and will be removed from pandas in a future version. Import numpy directly instead.\n",
      "\n"
     ]
    },
    {
     "data": {
      "image/svg+xml": [
       "<svg class=\"main-svg\" xmlns=\"http://www.w3.org/2000/svg\" xmlns:xlink=\"http://www.w3.org/1999/xlink\" width=\"700\" height=\"500\" style=\"\" viewBox=\"0 0 700 500\"><rect x=\"0\" y=\"0\" width=\"700\" height=\"500\" style=\"fill: rgb(245, 246, 249); fill-opacity: 1;\"/><defs id=\"defs-c14247\"><g class=\"clips\"><clipPath id=\"clipc14247xyplot\" class=\"plotclip\"><rect width=\"414\" height=\"224\"/></clipPath><clipPath id=\"clipc14247x2y2plot\" class=\"plotclip\"><rect width=\"414\" height=\"80\"/></clipPath><clipPath class=\"axesclip\" id=\"clipc14247x\"><rect x=\"80\" y=\"0\" width=\"414\" height=\"500\"/></clipPath><clipPath class=\"axesclip\" id=\"clipc14247y\"><rect x=\"0\" y=\"100\" width=\"700\" height=\"224\"/></clipPath><clipPath class=\"axesclip\" id=\"clipc14247xy\"><rect x=\"80\" y=\"100\" width=\"414\" height=\"224\"/></clipPath><clipPath class=\"axesclip\" id=\"clipc14247y2\"><rect x=\"0\" y=\"340\" width=\"700\" height=\"80\"/></clipPath><clipPath class=\"axesclip\" id=\"clipc14247xy2\"><rect x=\"80\" y=\"340\" width=\"414\" height=\"80\"/></clipPath><clipPath class=\"axesclip\" id=\"clipc14247x2\"><rect x=\"80\" y=\"0\" width=\"414\" height=\"500\"/></clipPath><clipPath class=\"axesclip\" id=\"clipc14247x2y\"><rect x=\"80\" y=\"100\" width=\"414\" height=\"224\"/></clipPath><clipPath class=\"axesclip\" id=\"clipc14247x2y2\"><rect x=\"80\" y=\"340\" width=\"414\" height=\"80\"/></clipPath></g><g class=\"gradients\"/><g class=\"patterns\"/></defs><g class=\"bglayer\"/><g class=\"layer-below\"><g class=\"imagelayer\"/><g class=\"shapelayer\"/></g><g class=\"cartesianlayer\"><g class=\"subplot xy\"><g class=\"layer-subplot\"><g class=\"shapelayer\"/><g class=\"imagelayer\"/></g><g class=\"gridlayer\"><g class=\"x\"><path class=\"xgrid crisp\" transform=\"translate(139.14,0)\" d=\"M0,100v224\" style=\"stroke: rgb(225, 229, 237); stroke-opacity: 1; stroke-width: 1px;\"/><path class=\"xgrid crisp\" transform=\"translate(257.43,0)\" d=\"M0,100v224\" style=\"stroke: rgb(225, 229, 237); stroke-opacity: 1; stroke-width: 1px;\"/><path class=\"xgrid crisp\" transform=\"translate(375.71,0)\" d=\"M0,100v224\" style=\"stroke: rgb(225, 229, 237); stroke-opacity: 1; stroke-width: 1px;\"/></g><g class=\"y\"><path class=\"ygrid crisp\" transform=\"translate(0,314.96000000000004)\" d=\"M80,0h414\" style=\"stroke: rgb(225, 229, 237); stroke-opacity: 1; stroke-width: 1px;\"/><path class=\"ygrid crisp\" transform=\"translate(0,264.03)\" d=\"M80,0h414\" style=\"stroke: rgb(225, 229, 237); stroke-opacity: 1; stroke-width: 1px;\"/><path class=\"ygrid crisp\" transform=\"translate(0,213.11)\" d=\"M80,0h414\" style=\"stroke: rgb(225, 229, 237); stroke-opacity: 1; stroke-width: 1px;\"/><path class=\"ygrid crisp\" transform=\"translate(0,162.18)\" d=\"M80,0h414\" style=\"stroke: rgb(225, 229, 237); stroke-opacity: 1; stroke-width: 1px;\"/><path class=\"ygrid crisp\" transform=\"translate(0,111.26)\" d=\"M80,0h414\" style=\"stroke: rgb(225, 229, 237); stroke-opacity: 1; stroke-width: 1px;\"/></g></g><g class=\"zerolinelayer\"/><path class=\"xlines-below\"/><path class=\"ylines-below\"/><g class=\"overlines-below\"/><g class=\"xaxislayer-below\"/><g class=\"yaxislayer-below\"/><g class=\"overaxes-below\"/><g class=\"plot\" transform=\"translate(80,100)\" clip-path=\"url(#clipc14247xyplot)\"><g class=\"scatterlayer mlayer\"><g class=\"trace scatter trace68c999\" style=\"stroke-miterlimit: 2; opacity: 1;\"><g class=\"fills\"/><g class=\"errorbars\"/><g class=\"lines\"><path class=\"js-line\" d=\"M0,212.8L59.14,50.55L118.29,56.2L177.43,116.63L236.57,43.74L295.71,100.18L354.86,144.57L414,11.2\" style=\"vector-effect: non-scaling-stroke; fill: none; stroke: rgb(255, 153, 51); stroke-opacity: 1; stroke-width: 1.3px; opacity: 1;\"/></g><g class=\"points\"/><g class=\"text\"/></g><g class=\"trace scatter trace5fdeed\" style=\"stroke-miterlimit: 2; opacity: 1;\"><g class=\"fills\"/><g class=\"errorbars\"/><g class=\"lines\"><path class=\"js-line\" d=\"M0,44.87L59.14,66.26L118.29,44.87L177.43,52L236.57,44.87L295.71,52L354.86,44.87L414,44.87\" style=\"vector-effect: non-scaling-stroke; fill: none; stroke: rgb(55, 128, 191); stroke-opacity: 1; stroke-width: 1.3px; opacity: 1;\"/></g><g class=\"points\"/><g class=\"text\"/></g></g></g><g class=\"overplot\"/><path class=\"xlines-above crisp\" d=\"M0,0\" style=\"fill: none;\"/><path class=\"ylines-above crisp\" d=\"M0,0\" style=\"fill: none;\"/><g class=\"overlines-above\"/><g class=\"xaxislayer-above\"><g class=\"xtick\"><text text-anchor=\"middle\" x=\"0\" y=\"337\" transform=\"translate(139.14,0)\" style=\"font-family: 'Open Sans', verdana, arial, sans-serif; font-size: 12px; fill: rgb(77, 86, 99); fill-opacity: 1; white-space: pre; opacity: 1;\">2</text></g><g class=\"xtick\"><text text-anchor=\"middle\" x=\"0\" y=\"337\" style=\"font-family: 'Open Sans', verdana, arial, sans-serif; font-size: 12px; fill: rgb(77, 86, 99); fill-opacity: 1; white-space: pre; opacity: 1;\" transform=\"translate(257.43,0)\">4</text></g><g class=\"xtick\"><text text-anchor=\"middle\" x=\"0\" y=\"337\" style=\"font-family: 'Open Sans', verdana, arial, sans-serif; font-size: 12px; fill: rgb(77, 86, 99); fill-opacity: 1; white-space: pre; opacity: 1;\" transform=\"translate(375.71,0)\">6</text></g><g class=\"xtick\"><text text-anchor=\"middle\" x=\"0\" y=\"337\" style=\"font-family: 'Open Sans', verdana, arial, sans-serif; font-size: 12px; fill: rgb(77, 86, 99); fill-opacity: 1; white-space: pre; opacity: 1;\" transform=\"translate(494,0)\">8</text></g></g><g class=\"yaxislayer-above\"><g class=\"ytick\"><text text-anchor=\"end\" x=\"79\" y=\"4.199999999999999\" transform=\"translate(0,314.96000000000004)\" style=\"font-family: 'Open Sans', verdana, arial, sans-serif; font-size: 12px; fill: rgb(77, 86, 99); fill-opacity: 1; white-space: pre; opacity: 1;\">50k</text></g><g class=\"ytick\"><text text-anchor=\"end\" x=\"79\" y=\"4.199999999999999\" style=\"font-family: 'Open Sans', verdana, arial, sans-serif; font-size: 12px; fill: rgb(77, 86, 99); fill-opacity: 1; white-space: pre; opacity: 1;\" transform=\"translate(0,264.03)\">100k</text></g><g class=\"ytick\"><text text-anchor=\"end\" x=\"79\" y=\"4.199999999999999\" style=\"font-family: 'Open Sans', verdana, arial, sans-serif; font-size: 12px; fill: rgb(77, 86, 99); fill-opacity: 1; white-space: pre; opacity: 1;\" transform=\"translate(0,213.11)\">150k</text></g><g class=\"ytick\"><text text-anchor=\"end\" x=\"79\" y=\"4.199999999999999\" style=\"font-family: 'Open Sans', verdana, arial, sans-serif; font-size: 12px; fill: rgb(77, 86, 99); fill-opacity: 1; white-space: pre; opacity: 1;\" transform=\"translate(0,162.18)\">200k</text></g><g class=\"ytick\"><text text-anchor=\"end\" x=\"79\" y=\"4.199999999999999\" style=\"font-family: 'Open Sans', verdana, arial, sans-serif; font-size: 12px; fill: rgb(77, 86, 99); fill-opacity: 1; white-space: pre; opacity: 1;\" transform=\"translate(0,111.26)\">250k</text></g></g><g class=\"overaxes-above\"/></g><g class=\"subplot x2y2\"><g class=\"layer-subplot\"><g class=\"shapelayer\"/><g class=\"imagelayer\"/></g><g class=\"gridlayer\"><g class=\"x2\"><path class=\"x2grid crisp\" transform=\"translate(139.14,0)\" d=\"M0,340v80\" style=\"stroke: rgb(225, 229, 237); stroke-opacity: 1; stroke-width: 1px;\"/><path class=\"x2grid crisp\" transform=\"translate(257.43,0)\" d=\"M0,340v80\" style=\"stroke: rgb(225, 229, 237); stroke-opacity: 1; stroke-width: 1px;\"/><path class=\"x2grid crisp\" transform=\"translate(375.71,0)\" d=\"M0,340v80\" style=\"stroke: rgb(225, 229, 237); stroke-opacity: 1; stroke-width: 1px;\"/></g><g class=\"y2\"><path class=\"y2grid crisp\" transform=\"translate(0,410.59000000000003)\" d=\"M80,0h414\" style=\"stroke: rgb(225, 229, 237); stroke-opacity: 1; stroke-width: 1px;\"/><path class=\"y2grid crisp\" transform=\"translate(0,392.4)\" d=\"M80,0h414\" style=\"stroke: rgb(225, 229, 237); stroke-opacity: 1; stroke-width: 1px;\"/><path class=\"y2grid crisp\" transform=\"translate(0,374.21)\" d=\"M80,0h414\" style=\"stroke: rgb(225, 229, 237); stroke-opacity: 1; stroke-width: 1px;\"/></g></g><g class=\"zerolinelayer\"><path class=\"y2zl zl crisp\" transform=\"translate(0,356.02)\" d=\"M80,0h414\" style=\"stroke: rgb(225, 229, 237); stroke-opacity: 1; stroke-width: 2px;\"/></g><path class=\"xlines-below\"/><path class=\"ylines-below\"/><g class=\"overlines-below\"/><g class=\"xaxislayer-below\"/><g class=\"yaxislayer-below\"/><g class=\"overaxes-below\"/><g class=\"plot\" transform=\"translate(80,340)\" clip-path=\"url(#clipc14247x2y2plot)\"><g class=\"scatterlayer mlayer\"><g class=\"trace scatter traceea8d1c\" style=\"stroke-miterlimit: 2;\"><g class=\"fills\"><g><path class=\"js-fill\" d=\"M414,16.02L59.14,16.02L59.14,10.41L236.57,15.62L414,4\" style=\"fill: rgb(0, 128, 0); fill-opacity: 0.5; stroke-width: 0;\"/></g></g><g class=\"errorbars\"/><g class=\"lines\"/><g class=\"points\"/><g class=\"text\"/></g><g class=\"trace scatter trace65ef98\" style=\"stroke-miterlimit: 2;\"><g class=\"fills\"><g><path class=\"js-fill\" d=\"M354.86,16.02L0,16.02L0,76L118.29,20.07L177.43,39.11L295.71,33.23L354.86,51.63\" style=\"fill: rgb(255, 0, 0); fill-opacity: 0.5; stroke-width: 0;\"/></g></g><g class=\"errorbars\"/><g class=\"lines\"><path class=\"js-line\" d=\"M118.29,20.07L177.43,39.11\" style=\"vector-effect: non-scaling-stroke; fill: none; stroke: rgb(255, 0, 0); stroke-opacity: 1; stroke-width: 0.5px; opacity: 1;\"/><path class=\"js-line\" d=\"M295.71,33.23L354.86,51.63\" style=\"vector-effect: non-scaling-stroke; fill: none; stroke: rgb(255, 0, 0); stroke-opacity: 1; stroke-width: 0.5px; opacity: 1;\"/></g><g class=\"points\"/><g class=\"text\"/></g></g></g><g class=\"overplot\"/><path class=\"xlines-above crisp\" d=\"M0,0\" style=\"fill: none;\"/><path class=\"ylines-above crisp\" d=\"M0,0\" style=\"fill: none;\"/><g class=\"overlines-above\"/><g class=\"xaxislayer-above\"/><g class=\"yaxislayer-above\"><g class=\"y2tick\"><text text-anchor=\"end\" x=\"79\" y=\"4.199999999999999\" transform=\"translate(0,410.59000000000003)\" style=\"font-family: 'Open Sans', verdana, arial, sans-serif; font-size: 12px; fill: rgb(77, 86, 99); fill-opacity: 1; white-space: pre; opacity: 1;\">−150k</text></g><g class=\"y2tick\"><text text-anchor=\"end\" x=\"79\" y=\"4.199999999999999\" style=\"font-family: 'Open Sans', verdana, arial, sans-serif; font-size: 12px; fill: rgb(77, 86, 99); fill-opacity: 1; white-space: pre; opacity: 1;\" transform=\"translate(0,392.4)\">−100k</text></g><g class=\"y2tick\"><text text-anchor=\"end\" x=\"79\" y=\"4.199999999999999\" style=\"font-family: 'Open Sans', verdana, arial, sans-serif; font-size: 12px; fill: rgb(77, 86, 99); fill-opacity: 1; white-space: pre; opacity: 1;\" transform=\"translate(0,374.21)\">−50k</text></g><g class=\"y2tick\"><text text-anchor=\"end\" x=\"79\" y=\"4.199999999999999\" style=\"font-family: 'Open Sans', verdana, arial, sans-serif; font-size: 12px; fill: rgb(77, 86, 99); fill-opacity: 1; white-space: pre; opacity: 1;\" transform=\"translate(0,356.02)\">0</text></g></g><g class=\"overaxes-above\"/></g></g><g class=\"polarlayer\"/><g class=\"smithlayer\"/><g class=\"ternarylayer\"/><g class=\"geolayer\"/><g class=\"funnelarealayer\"/><g class=\"pielayer\"/><g class=\"iciclelayer\"/><g class=\"treemaplayer\"/><g class=\"sunburstlayer\"/><g class=\"glimages\"/><defs id=\"topdefs-c14247\"><g class=\"clips\"/><clipPath id=\"legendc14247\"><rect width=\"186\" height=\"48\" x=\"0\" y=\"0\"/></clipPath></defs><g class=\"layer-above\"><g class=\"imagelayer\"/><g class=\"shapelayer\"/></g><g class=\"infolayer\"><g class=\"legend\" pointer-events=\"all\" transform=\"translate(502.28000000000003,100)\"><rect class=\"bg\" shape-rendering=\"crispEdges\" style=\"stroke: rgb(68, 68, 68); stroke-opacity: 1; fill: rgb(245, 246, 249); fill-opacity: 1; stroke-width: 0px;\" width=\"186\" height=\"48\" x=\"0\" y=\"0\"/><g class=\"scrollbox\" transform=\"\" clip-path=\"url(#legendc14247)\"><g class=\"groups\"><g class=\"traces\" transform=\"translate(0,14.5)\" style=\"opacity: 1;\"><text class=\"legendtext\" text-anchor=\"start\" x=\"40\" y=\"4.680000000000001\" style=\"font-family: 'Open Sans', verdana, arial, sans-serif; font-size: 12px; fill: rgb(77, 86, 99); fill-opacity: 1; white-space: pre;\">total_steps_per_month</text><g class=\"layers\" style=\"opacity: 1;\"><g class=\"legendfill\"/><g class=\"legendlines\"><path class=\"js-line\" d=\"M5,0h30\" style=\"fill: none; stroke: rgb(255, 153, 51); stroke-opacity: 1; stroke-width: 1.3px;\"/></g><g class=\"legendsymbols\"><g class=\"legendpoints\"/></g></g><rect class=\"legendtoggle\" x=\"0\" y=\"-9.5\" width=\"180.609375\" height=\"19\" style=\"fill: rgb(0, 0, 0); fill-opacity: 0;\"/></g><g class=\"traces\" transform=\"translate(0,33.5)\" style=\"opacity: 1;\"><text class=\"legendtext\" text-anchor=\"start\" x=\"40\" y=\"4.680000000000001\" style=\"font-family: 'Open Sans', verdana, arial, sans-serif; font-size: 12px; fill: rgb(77, 86, 99); fill-opacity: 1; white-space: pre;\">health_standard</text><g class=\"layers\" style=\"opacity: 1;\"><g class=\"legendfill\"/><g class=\"legendlines\"><path class=\"js-line\" d=\"M5,0h30\" style=\"fill: none; stroke: rgb(55, 128, 191); stroke-opacity: 1; stroke-width: 1.3px;\"/></g><g class=\"legendsymbols\"><g class=\"legendpoints\"/></g></g><rect class=\"legendtoggle\" x=\"0\" y=\"-9.5\" width=\"180.609375\" height=\"19\" style=\"fill: rgb(0, 0, 0); fill-opacity: 0;\"/></g></g></g><rect class=\"scrollbar\" rx=\"20\" ry=\"3\" width=\"0\" height=\"0\" style=\"fill: rgb(128, 139, 164); fill-opacity: 1;\" x=\"0\" y=\"0\"/></g><g class=\"g-gtitle\"><text class=\"gtitle\" x=\"35\" y=\"50\" text-anchor=\"start\" dy=\"0em\" style=\"font-family: 'Open Sans', verdana, arial, sans-serif; font-size: 17px; fill: rgb(77, 86, 99); opacity: 1; font-weight: normal; white-space: pre;\">Figure 1: Participant 3 Monthly Steps and Standard Spread Chart</text></g><g class=\"g-xtitle\"/><g class=\"g-x2title\"/><g class=\"g-ytitle\"/><g class=\"g-y2title\"><text class=\"y2title\" transform=\"rotate(-90,14.387500000000003,380)\" x=\"14.387500000000003\" y=\"380\" text-anchor=\"middle\" style=\"font-family: 'Open Sans', verdana, arial, sans-serif; font-size: 14px; fill: rgb(77, 86, 99); opacity: 1; font-weight: normal; white-space: pre;\">Spread</text></g></g></svg>"
      ]
     },
     "metadata": {},
     "output_type": "display_data"
    }
   ],
   "source": [
    "clean_p3.figure(kind=\"spread\", keys=[\"total_steps_per_month\", \"health_standard\"],\n",
    "               title=\"Figure 1: Participant 3 Monthly Steps and Standard Spread Chart\")"
   ]
  },
  {
   "cell_type": "markdown",
   "id": "bbd10e17",
   "metadata": {},
   "source": [
    "Figure 3 compare the real total steps in each month with the total steps of the health standard where the x-axis is month and y-axis is the number of steps. The orange line represent the total steps in each month and blue line represent the health standard. The spread chart shows the difference between two lines"
   ]
  },
  {
   "cell_type": "markdown",
   "id": "a2f8bf91",
   "metadata": {},
   "source": [
    "According to the figure 1 and figure 2, the proportion of days reaching the health standard in January is the lowest which is only about 3%, and the color in the heat map is close to white which means lower than 10%. The percentage of healthy steps reaching the standard in February was the highest which is approximately 70%, and the color in the picture is also the darkest. March and August were also relatively high at about 60 percent. The average proportion is around 45%.\n",
    "\n",
    "In addition, based on the figure 3, even though the total steps in May and August reach the health standard, only approximately 50%-60% of days in those month reach the daily standard. Furthermore, there is a large gap in January, April, June and July which are the months with small proportion of healthy days. \n",
    "\n",
    "In conclusion, the participant took in February, March and August, with a relatively large amount of steps, while the amount of exercise in January was the least. Moreover, the number of healthy days per month trend is fluctuated. We suggest that the participant should increase the exercise and steps in most months, and try to maintain a healthy standard every day instead of focusing on a few days"
   ]
  },
  {
   "cell_type": "markdown",
   "id": "2927c869",
   "metadata": {},
   "source": [
    "\n",
    "\n",
    "#### 3.1.2 Exchange Dataset: Participant_01\n",
    "\n",
    "Duplicate process as before\n"
   ]
  },
  {
   "cell_type": "code",
   "execution_count": 23,
   "id": "5155c52f",
   "metadata": {},
   "outputs": [
    {
     "data": {
      "text/html": [
       "<div>\n",
       "<style scoped>\n",
       "    .dataframe tbody tr th:only-of-type {\n",
       "        vertical-align: middle;\n",
       "    }\n",
       "\n",
       "    .dataframe tbody tr th {\n",
       "        vertical-align: top;\n",
       "    }\n",
       "\n",
       "    .dataframe thead th {\n",
       "        text-align: right;\n",
       "    }\n",
       "</style>\n",
       "<table border=\"1\" class=\"dataframe\">\n",
       "  <thead>\n",
       "    <tr style=\"text-align: right;\">\n",
       "      <th></th>\n",
       "      <th>Steps (count)</th>\n",
       "    </tr>\n",
       "  </thead>\n",
       "  <tbody>\n",
       "    <tr>\n",
       "      <th>count</th>\n",
       "      <td>5867.000000</td>\n",
       "    </tr>\n",
       "    <tr>\n",
       "      <th>mean</th>\n",
       "      <td>359.408456</td>\n",
       "    </tr>\n",
       "    <tr>\n",
       "      <th>std</th>\n",
       "      <td>747.642053</td>\n",
       "    </tr>\n",
       "    <tr>\n",
       "      <th>min</th>\n",
       "      <td>0.000000</td>\n",
       "    </tr>\n",
       "    <tr>\n",
       "      <th>25%</th>\n",
       "      <td>0.000000</td>\n",
       "    </tr>\n",
       "    <tr>\n",
       "      <th>50%</th>\n",
       "      <td>55.000000</td>\n",
       "    </tr>\n",
       "    <tr>\n",
       "      <th>75%</th>\n",
       "      <td>321.019800</td>\n",
       "    </tr>\n",
       "    <tr>\n",
       "      <th>max</th>\n",
       "      <td>6137.722328</td>\n",
       "    </tr>\n",
       "  </tbody>\n",
       "</table>\n",
       "</div>"
      ],
      "text/plain": [
       "       Steps (count)\n",
       "count    5867.000000\n",
       "mean      359.408456\n",
       "std       747.642053\n",
       "min         0.000000\n",
       "25%         0.000000\n",
       "50%        55.000000\n",
       "75%       321.019800\n",
       "max      6137.722328"
      ]
     },
     "execution_count": 23,
     "metadata": {},
     "output_type": "execute_result"
    }
   ],
   "source": [
    "p1 = pd.read_csv(\"Participant-01.csv\", sep=\",\")\n",
    "p1.describe()"
   ]
  },
  {
   "cell_type": "code",
   "execution_count": 24,
   "id": "024c1440",
   "metadata": {},
   "outputs": [
    {
     "data": {
      "text/html": [
       "<div>\n",
       "<style scoped>\n",
       "    .dataframe tbody tr th:only-of-type {\n",
       "        vertical-align: middle;\n",
       "    }\n",
       "\n",
       "    .dataframe tbody tr th {\n",
       "        vertical-align: top;\n",
       "    }\n",
       "\n",
       "    .dataframe thead th {\n",
       "        text-align: right;\n",
       "    }\n",
       "</style>\n",
       "<table border=\"1\" class=\"dataframe\">\n",
       "  <thead>\n",
       "    <tr style=\"text-align: right;\">\n",
       "      <th></th>\n",
       "      <th>Start</th>\n",
       "      <th>Finish</th>\n",
       "      <th>Steps (count)</th>\n",
       "    </tr>\n",
       "  </thead>\n",
       "  <tbody>\n",
       "    <tr>\n",
       "      <th>0</th>\n",
       "      <td>31-Dec-2021 23:00</td>\n",
       "      <td>01-Jan-2022 00:00</td>\n",
       "      <td>0.0</td>\n",
       "    </tr>\n",
       "    <tr>\n",
       "      <th>1</th>\n",
       "      <td>01-Jan-2022 00:00</td>\n",
       "      <td>01-Jan-2022 01:00</td>\n",
       "      <td>0.0</td>\n",
       "    </tr>\n",
       "    <tr>\n",
       "      <th>2</th>\n",
       "      <td>01-Jan-2022 01:00</td>\n",
       "      <td>01-Jan-2022 02:00</td>\n",
       "      <td>0.0</td>\n",
       "    </tr>\n",
       "    <tr>\n",
       "      <th>3</th>\n",
       "      <td>01-Jan-2022 02:00</td>\n",
       "      <td>01-Jan-2022 03:00</td>\n",
       "      <td>0.0</td>\n",
       "    </tr>\n",
       "    <tr>\n",
       "      <th>4</th>\n",
       "      <td>01-Jan-2022 03:00</td>\n",
       "      <td>01-Jan-2022 04:00</td>\n",
       "      <td>0.0</td>\n",
       "    </tr>\n",
       "  </tbody>\n",
       "</table>\n",
       "</div>"
      ],
      "text/plain": [
       "               Start             Finish  Steps (count)\n",
       "0  31-Dec-2021 23:00  01-Jan-2022 00:00            0.0\n",
       "1  01-Jan-2022 00:00  01-Jan-2022 01:00            0.0\n",
       "2  01-Jan-2022 01:00  01-Jan-2022 02:00            0.0\n",
       "3  01-Jan-2022 02:00  01-Jan-2022 03:00            0.0\n",
       "4  01-Jan-2022 03:00  01-Jan-2022 04:00            0.0"
      ]
     },
     "execution_count": 24,
     "metadata": {},
     "output_type": "execute_result"
    }
   ],
   "source": [
    "p1.head()"
   ]
  },
  {
   "cell_type": "code",
   "execution_count": 25,
   "id": "c99d6221",
   "metadata": {},
   "outputs": [
    {
     "data": {
      "text/html": [
       "<div>\n",
       "<style scoped>\n",
       "    .dataframe tbody tr th:only-of-type {\n",
       "        vertical-align: middle;\n",
       "    }\n",
       "\n",
       "    .dataframe tbody tr th {\n",
       "        vertical-align: top;\n",
       "    }\n",
       "\n",
       "    .dataframe thead th {\n",
       "        text-align: right;\n",
       "    }\n",
       "</style>\n",
       "<table border=\"1\" class=\"dataframe\">\n",
       "  <thead>\n",
       "    <tr style=\"text-align: right;\">\n",
       "      <th></th>\n",
       "      <th>Start</th>\n",
       "      <th>Finish</th>\n",
       "      <th>Steps (count)</th>\n",
       "    </tr>\n",
       "  </thead>\n",
       "  <tbody>\n",
       "    <tr>\n",
       "      <th>5862</th>\n",
       "      <td>02-Sep-2022 04:00</td>\n",
       "      <td>02-Sep-2022 05:00</td>\n",
       "      <td>9.000000</td>\n",
       "    </tr>\n",
       "    <tr>\n",
       "      <th>5863</th>\n",
       "      <td>02-Sep-2022 05:00</td>\n",
       "      <td>02-Sep-2022 06:00</td>\n",
       "      <td>0.000000</td>\n",
       "    </tr>\n",
       "    <tr>\n",
       "      <th>5864</th>\n",
       "      <td>02-Sep-2022 06:00</td>\n",
       "      <td>02-Sep-2022 07:00</td>\n",
       "      <td>410.584935</td>\n",
       "    </tr>\n",
       "    <tr>\n",
       "      <th>5865</th>\n",
       "      <td>02-Sep-2022 07:00</td>\n",
       "      <td>02-Sep-2022 08:00</td>\n",
       "      <td>1153.415065</td>\n",
       "    </tr>\n",
       "    <tr>\n",
       "      <th>5866</th>\n",
       "      <td>02-Sep-2022 08:00</td>\n",
       "      <td>02-Sep-2022 09:00</td>\n",
       "      <td>1.000000</td>\n",
       "    </tr>\n",
       "  </tbody>\n",
       "</table>\n",
       "</div>"
      ],
      "text/plain": [
       "                  Start             Finish  Steps (count)\n",
       "5862  02-Sep-2022 04:00  02-Sep-2022 05:00       9.000000\n",
       "5863  02-Sep-2022 05:00  02-Sep-2022 06:00       0.000000\n",
       "5864  02-Sep-2022 06:00  02-Sep-2022 07:00     410.584935\n",
       "5865  02-Sep-2022 07:00  02-Sep-2022 08:00    1153.415065\n",
       "5866  02-Sep-2022 08:00  02-Sep-2022 09:00       1.000000"
      ]
     },
     "execution_count": 25,
     "metadata": {},
     "output_type": "execute_result"
    }
   ],
   "source": [
    "p1.tail()"
   ]
  },
  {
   "cell_type": "markdown",
   "id": "d81ad0c3",
   "metadata": {},
   "source": [
    "According to the p1 dataset, it record the start time and finish time pf participants taking steps and the count of steps in each one hour period. The finish time range is between 01/01/2022 0:00 and 02/09/2022 09:00"
   ]
  },
  {
   "cell_type": "markdown",
   "id": "dd3e5b8b",
   "metadata": {},
   "source": [
    "\n",
    "\n",
    "Check the null value"
   ]
  },
  {
   "cell_type": "code",
   "execution_count": 26,
   "id": "2e48f84d",
   "metadata": {},
   "outputs": [
    {
     "name": "stdout",
     "output_type": "stream",
     "text": [
      "Steps (count)    0\n",
      "month            0\n",
      "date             0\n",
      "dtype: int64\n"
     ]
    }
   ],
   "source": [
    "p1['month'] = pd.to_datetime(p1['Finish'], dayfirst=True).dt.month \n",
    "p1['date'] = pd.to_datetime(p1['Finish'], dayfirst=True).dt.date\n",
    "p1 = p1.drop('Start', axis=1)\n",
    "p1 = p1.drop('Finish', axis=1)\n",
    "print(p1.isnull().sum())"
   ]
  },
  {
   "cell_type": "markdown",
   "id": "126be78d",
   "metadata": {},
   "source": [
    "Aggregate the total steps per day"
   ]
  },
  {
   "cell_type": "code",
   "execution_count": 27,
   "id": "a800bd9e",
   "metadata": {},
   "outputs": [
    {
     "data": {
      "text/html": [
       "<div>\n",
       "<style scoped>\n",
       "    .dataframe tbody tr th:only-of-type {\n",
       "        vertical-align: middle;\n",
       "    }\n",
       "\n",
       "    .dataframe tbody tr th {\n",
       "        vertical-align: top;\n",
       "    }\n",
       "\n",
       "    .dataframe thead th {\n",
       "        text-align: right;\n",
       "    }\n",
       "</style>\n",
       "<table border=\"1\" class=\"dataframe\">\n",
       "  <thead>\n",
       "    <tr style=\"text-align: right;\">\n",
       "      <th></th>\n",
       "      <th>total_steps_per_day</th>\n",
       "      <th>month</th>\n",
       "    </tr>\n",
       "    <tr>\n",
       "      <th>date</th>\n",
       "      <th></th>\n",
       "      <th></th>\n",
       "    </tr>\n",
       "  </thead>\n",
       "  <tbody>\n",
       "    <tr>\n",
       "      <th>2022-01-01</th>\n",
       "      <td>11500.000000</td>\n",
       "      <td>1</td>\n",
       "    </tr>\n",
       "    <tr>\n",
       "      <th>2022-01-02</th>\n",
       "      <td>10446.000000</td>\n",
       "      <td>1</td>\n",
       "    </tr>\n",
       "    <tr>\n",
       "      <th>2022-01-03</th>\n",
       "      <td>6294.000000</td>\n",
       "      <td>1</td>\n",
       "    </tr>\n",
       "    <tr>\n",
       "      <th>2022-01-04</th>\n",
       "      <td>14411.000000</td>\n",
       "      <td>1</td>\n",
       "    </tr>\n",
       "    <tr>\n",
       "      <th>2022-01-05</th>\n",
       "      <td>11026.000000</td>\n",
       "      <td>1</td>\n",
       "    </tr>\n",
       "    <tr>\n",
       "      <th>...</th>\n",
       "      <td>...</td>\n",
       "      <td>...</td>\n",
       "    </tr>\n",
       "    <tr>\n",
       "      <th>2022-08-27</th>\n",
       "      <td>13906.000000</td>\n",
       "      <td>8</td>\n",
       "    </tr>\n",
       "    <tr>\n",
       "      <th>2022-08-28</th>\n",
       "      <td>11704.000000</td>\n",
       "      <td>8</td>\n",
       "    </tr>\n",
       "    <tr>\n",
       "      <th>2022-08-29</th>\n",
       "      <td>8283.918443</td>\n",
       "      <td>8</td>\n",
       "    </tr>\n",
       "    <tr>\n",
       "      <th>2022-08-30</th>\n",
       "      <td>8899.000000</td>\n",
       "      <td>8</td>\n",
       "    </tr>\n",
       "    <tr>\n",
       "      <th>2022-08-31</th>\n",
       "      <td>14657.000000</td>\n",
       "      <td>8</td>\n",
       "    </tr>\n",
       "  </tbody>\n",
       "</table>\n",
       "<p>243 rows × 2 columns</p>\n",
       "</div>"
      ],
      "text/plain": [
       "            total_steps_per_day  month\n",
       "date                                  \n",
       "2022-01-01         11500.000000      1\n",
       "2022-01-02         10446.000000      1\n",
       "2022-01-03          6294.000000      1\n",
       "2022-01-04         14411.000000      1\n",
       "2022-01-05         11026.000000      1\n",
       "...                         ...    ...\n",
       "2022-08-27         13906.000000      8\n",
       "2022-08-28         11704.000000      8\n",
       "2022-08-29          8283.918443      8\n",
       "2022-08-30          8899.000000      8\n",
       "2022-08-31         14657.000000      8\n",
       "\n",
       "[243 rows x 2 columns]"
      ]
     },
     "execution_count": 27,
     "metadata": {},
     "output_type": "execute_result"
    }
   ],
   "source": [
    "cleaned_date_p1 = p1.groupby('date').agg(total_steps_per_day=pd.NamedAgg(column=\"Steps (count)\", aggfunc=\"sum\"),\n",
    "                                      month=pd.NamedAgg(column=\"month\", aggfunc=\"max\"))\n",
    "\n",
    "cleaned_date_p1 = cleaned_date_p1.drop(cleaned_date_p1[cleaned_date_p1.month == 9].index)\n",
    "cleaned_date_p1"
   ]
  },
  {
   "cell_type": "markdown",
   "id": "26bdbb5f",
   "metadata": {},
   "source": [
    "\n"
   ]
  },
  {
   "cell_type": "markdown",
   "id": "20ee2c40",
   "metadata": {},
   "source": [
    "Aggregate the total steps per month and the healthy standard steps"
   ]
  },
  {
   "cell_type": "code",
   "execution_count": 28,
   "id": "7fc39dc3",
   "metadata": {},
   "outputs": [],
   "source": [
    "clean_month_steps = cleaned_date_p1.groupby('month').agg(total_steps_per_month=pd.NamedAgg(column=\"total_steps_per_day\", aggfunc=\"sum\"))\n",
    "clean_month_date = cleaned_date_p1.groupby('month').count()\n",
    "clean_healthy = clean_month_date * 7000"
   ]
  },
  {
   "cell_type": "code",
   "execution_count": 29,
   "id": "c54b5c08",
   "metadata": {},
   "outputs": [
    {
     "data": {
      "text/html": [
       "<div>\n",
       "<style scoped>\n",
       "    .dataframe tbody tr th:only-of-type {\n",
       "        vertical-align: middle;\n",
       "    }\n",
       "\n",
       "    .dataframe tbody tr th {\n",
       "        vertical-align: top;\n",
       "    }\n",
       "\n",
       "    .dataframe thead th {\n",
       "        text-align: right;\n",
       "    }\n",
       "</style>\n",
       "<table border=\"1\" class=\"dataframe\">\n",
       "  <thead>\n",
       "    <tr style=\"text-align: right;\">\n",
       "      <th></th>\n",
       "      <th>total_steps_per_month</th>\n",
       "      <th>health_standard</th>\n",
       "    </tr>\n",
       "    <tr>\n",
       "      <th>month</th>\n",
       "      <th></th>\n",
       "      <th></th>\n",
       "    </tr>\n",
       "  </thead>\n",
       "  <tbody>\n",
       "    <tr>\n",
       "      <th>1</th>\n",
       "      <td>327437.0</td>\n",
       "      <td>217000</td>\n",
       "    </tr>\n",
       "    <tr>\n",
       "      <th>2</th>\n",
       "      <td>236491.6</td>\n",
       "      <td>196000</td>\n",
       "    </tr>\n",
       "    <tr>\n",
       "      <th>3</th>\n",
       "      <td>243643.0</td>\n",
       "      <td>217000</td>\n",
       "    </tr>\n",
       "    <tr>\n",
       "      <th>4</th>\n",
       "      <td>224814.0</td>\n",
       "      <td>210000</td>\n",
       "    </tr>\n",
       "    <tr>\n",
       "      <th>5</th>\n",
       "      <td>220165.8</td>\n",
       "      <td>217000</td>\n",
       "    </tr>\n",
       "    <tr>\n",
       "      <th>6</th>\n",
       "      <td>301785.6</td>\n",
       "      <td>210000</td>\n",
       "    </tr>\n",
       "    <tr>\n",
       "      <th>7</th>\n",
       "      <td>254795.6</td>\n",
       "      <td>217000</td>\n",
       "    </tr>\n",
       "    <tr>\n",
       "      <th>8</th>\n",
       "      <td>283124.8</td>\n",
       "      <td>217000</td>\n",
       "    </tr>\n",
       "  </tbody>\n",
       "</table>\n",
       "</div>"
      ],
      "text/plain": [
       "       total_steps_per_month  health_standard\n",
       "month                                        \n",
       "1                   327437.0           217000\n",
       "2                   236491.6           196000\n",
       "3                   243643.0           217000\n",
       "4                   224814.0           210000\n",
       "5                   220165.8           217000\n",
       "6                   301785.6           210000\n",
       "7                   254795.6           217000\n",
       "8                   283124.8           217000"
      ]
     },
     "execution_count": 29,
     "metadata": {},
     "output_type": "execute_result"
    }
   ],
   "source": [
    "clean_p1 = pd.concat([clean_month_steps, clean_healthy], axis=1, join=\"inner\")\n",
    "clean_p1.columns.values[1] = \"health_standard\"\n",
    "clean_p1.round(1)"
   ]
  },
  {
   "cell_type": "markdown",
   "id": "697c38d6",
   "metadata": {},
   "source": [
    "Calculate the total number of the days that over 7000 steps"
   ]
  },
  {
   "cell_type": "code",
   "execution_count": 30,
   "id": "f2ad7a6f",
   "metadata": {},
   "outputs": [
    {
     "data": {
      "text/html": [
       "<div>\n",
       "<style scoped>\n",
       "    .dataframe tbody tr th:only-of-type {\n",
       "        vertical-align: middle;\n",
       "    }\n",
       "\n",
       "    .dataframe tbody tr th {\n",
       "        vertical-align: top;\n",
       "    }\n",
       "\n",
       "    .dataframe thead th {\n",
       "        text-align: right;\n",
       "    }\n",
       "</style>\n",
       "<table border=\"1\" class=\"dataframe\">\n",
       "  <thead>\n",
       "    <tr style=\"text-align: right;\">\n",
       "      <th></th>\n",
       "      <th>total_days_over_7000</th>\n",
       "    </tr>\n",
       "    <tr>\n",
       "      <th>month</th>\n",
       "      <th></th>\n",
       "    </tr>\n",
       "  </thead>\n",
       "  <tbody>\n",
       "    <tr>\n",
       "      <th>1</th>\n",
       "      <td>24</td>\n",
       "    </tr>\n",
       "    <tr>\n",
       "      <th>2</th>\n",
       "      <td>18</td>\n",
       "    </tr>\n",
       "    <tr>\n",
       "      <th>3</th>\n",
       "      <td>18</td>\n",
       "    </tr>\n",
       "    <tr>\n",
       "      <th>4</th>\n",
       "      <td>15</td>\n",
       "    </tr>\n",
       "    <tr>\n",
       "      <th>5</th>\n",
       "      <td>13</td>\n",
       "    </tr>\n",
       "    <tr>\n",
       "      <th>6</th>\n",
       "      <td>20</td>\n",
       "    </tr>\n",
       "    <tr>\n",
       "      <th>7</th>\n",
       "      <td>21</td>\n",
       "    </tr>\n",
       "    <tr>\n",
       "      <th>8</th>\n",
       "      <td>24</td>\n",
       "    </tr>\n",
       "  </tbody>\n",
       "</table>\n",
       "</div>"
      ],
      "text/plain": [
       "       total_days_over_7000\n",
       "month                      \n",
       "1                        24\n",
       "2                        18\n",
       "3                        18\n",
       "4                        15\n",
       "5                        13\n",
       "6                        20\n",
       "7                        21\n",
       "8                        24"
      ]
     },
     "execution_count": 30,
     "metadata": {},
     "output_type": "execute_result"
    }
   ],
   "source": [
    "cleaned_count_p1 = cleaned_date_p1.groupby('month')['total_steps_per_day'].apply(lambda x: x[x >= 7000].count())\n",
    "cleaned_count_p1 = pd.DataFrame(data = cleaned_count_p1)\n",
    "cleaned_count_p1.columns.values[0] = \"total_days_over_7000\"\n",
    "cleaned_count_p1"
   ]
  },
  {
   "cell_type": "markdown",
   "id": "db5f136b",
   "metadata": {},
   "source": [
    "Calculate the proportion"
   ]
  },
  {
   "cell_type": "code",
   "execution_count": 31,
   "id": "30da9210",
   "metadata": {},
   "outputs": [
    {
     "data": {
      "text/html": [
       "<div>\n",
       "<style scoped>\n",
       "    .dataframe tbody tr th:only-of-type {\n",
       "        vertical-align: middle;\n",
       "    }\n",
       "\n",
       "    .dataframe tbody tr th {\n",
       "        vertical-align: top;\n",
       "    }\n",
       "\n",
       "    .dataframe thead th {\n",
       "        text-align: right;\n",
       "    }\n",
       "</style>\n",
       "<table border=\"1\" class=\"dataframe\">\n",
       "  <thead>\n",
       "    <tr style=\"text-align: right;\">\n",
       "      <th></th>\n",
       "      <th>health_proportion(%)</th>\n",
       "    </tr>\n",
       "    <tr>\n",
       "      <th>month</th>\n",
       "      <th></th>\n",
       "    </tr>\n",
       "  </thead>\n",
       "  <tbody>\n",
       "    <tr>\n",
       "      <th>1</th>\n",
       "      <td>0.774194</td>\n",
       "    </tr>\n",
       "    <tr>\n",
       "      <th>2</th>\n",
       "      <td>0.642857</td>\n",
       "    </tr>\n",
       "    <tr>\n",
       "      <th>3</th>\n",
       "      <td>0.580645</td>\n",
       "    </tr>\n",
       "    <tr>\n",
       "      <th>4</th>\n",
       "      <td>0.500000</td>\n",
       "    </tr>\n",
       "    <tr>\n",
       "      <th>5</th>\n",
       "      <td>0.419355</td>\n",
       "    </tr>\n",
       "    <tr>\n",
       "      <th>6</th>\n",
       "      <td>0.666667</td>\n",
       "    </tr>\n",
       "    <tr>\n",
       "      <th>7</th>\n",
       "      <td>0.677419</td>\n",
       "    </tr>\n",
       "    <tr>\n",
       "      <th>8</th>\n",
       "      <td>0.774194</td>\n",
       "    </tr>\n",
       "  </tbody>\n",
       "</table>\n",
       "</div>"
      ],
      "text/plain": [
       "       health_proportion(%)\n",
       "month                      \n",
       "1                  0.774194\n",
       "2                  0.642857\n",
       "3                  0.580645\n",
       "4                  0.500000\n",
       "5                  0.419355\n",
       "6                  0.666667\n",
       "7                  0.677419\n",
       "8                  0.774194"
      ]
     },
     "execution_count": 31,
     "metadata": {},
     "output_type": "execute_result"
    }
   ],
   "source": [
    "proportion = cleaned_count_p1['total_days_over_7000'] / clean_month_date['total_steps_per_day']\n",
    "proportion = pd.DataFrame(data = proportion)\n",
    "proportion.columns = proportion.columns.astype(str)\n",
    "proportion.columns.values[0] = \"health_proportion(%)\"\n",
    "proportion"
   ]
  },
  {
   "cell_type": "code",
   "execution_count": 32,
   "id": "86198c51",
   "metadata": {},
   "outputs": [
    {
     "data": {
      "text/html": [
       "<div>\n",
       "<style scoped>\n",
       "    .dataframe tbody tr th:only-of-type {\n",
       "        vertical-align: middle;\n",
       "    }\n",
       "\n",
       "    .dataframe tbody tr th {\n",
       "        vertical-align: top;\n",
       "    }\n",
       "\n",
       "    .dataframe thead th {\n",
       "        text-align: right;\n",
       "    }\n",
       "</style>\n",
       "<table border=\"1\" class=\"dataframe\">\n",
       "  <thead>\n",
       "    <tr style=\"text-align: right;\">\n",
       "      <th></th>\n",
       "      <th>health_proportion(%)</th>\n",
       "    </tr>\n",
       "    <tr>\n",
       "      <th>month</th>\n",
       "      <th></th>\n",
       "    </tr>\n",
       "  </thead>\n",
       "  <tbody>\n",
       "    <tr>\n",
       "      <th>1</th>\n",
       "      <td>77.42</td>\n",
       "    </tr>\n",
       "    <tr>\n",
       "      <th>2</th>\n",
       "      <td>64.29</td>\n",
       "    </tr>\n",
       "    <tr>\n",
       "      <th>3</th>\n",
       "      <td>58.06</td>\n",
       "    </tr>\n",
       "    <tr>\n",
       "      <th>4</th>\n",
       "      <td>50.00</td>\n",
       "    </tr>\n",
       "    <tr>\n",
       "      <th>5</th>\n",
       "      <td>41.94</td>\n",
       "    </tr>\n",
       "    <tr>\n",
       "      <th>6</th>\n",
       "      <td>66.67</td>\n",
       "    </tr>\n",
       "    <tr>\n",
       "      <th>7</th>\n",
       "      <td>67.74</td>\n",
       "    </tr>\n",
       "    <tr>\n",
       "      <th>8</th>\n",
       "      <td>77.42</td>\n",
       "    </tr>\n",
       "  </tbody>\n",
       "</table>\n",
       "</div>"
      ],
      "text/plain": [
       "       health_proportion(%)\n",
       "month                      \n",
       "1                     77.42\n",
       "2                     64.29\n",
       "3                     58.06\n",
       "4                     50.00\n",
       "5                     41.94\n",
       "6                     66.67\n",
       "7                     67.74\n",
       "8                     77.42"
      ]
     },
     "execution_count": 32,
     "metadata": {},
     "output_type": "execute_result"
    }
   ],
   "source": [
    "proportion = proportion * 100\n",
    "proportion.round(2)"
   ]
  },
  {
   "cell_type": "markdown",
   "id": "76052651",
   "metadata": {},
   "source": [
    "Average rpoportion:"
   ]
  },
  {
   "cell_type": "code",
   "execution_count": 33,
   "id": "00843444",
   "metadata": {},
   "outputs": [
    {
     "data": {
      "text/plain": [
       "62.94162826420891"
      ]
     },
     "execution_count": 33,
     "metadata": {},
     "output_type": "execute_result"
    }
   ],
   "source": [
    "proportion['health_proportion(%)'].mean()"
   ]
  },
  {
   "cell_type": "markdown",
   "id": "8144f1d1",
   "metadata": {},
   "source": [
    "Proportion area chart of participant 01"
   ]
  },
  {
   "cell_type": "code",
   "execution_count": 36,
   "id": "66bebdf3",
   "metadata": {},
   "outputs": [
    {
     "data": {
      "image/svg+xml": [
       "<svg class=\"main-svg\" xmlns=\"http://www.w3.org/2000/svg\" xmlns:xlink=\"http://www.w3.org/1999/xlink\" width=\"700\" height=\"500\" style=\"\" viewBox=\"0 0 700 500\"><rect x=\"0\" y=\"0\" width=\"700\" height=\"500\" style=\"fill: rgb(245, 246, 249); fill-opacity: 1;\"/><defs id=\"defs-45109f\"><g class=\"clips\"><clipPath id=\"clip45109fxyplot\" class=\"plotclip\"><rect width=\"540\" height=\"320\"/></clipPath><clipPath class=\"axesclip\" id=\"clip45109fx\"><rect x=\"80\" y=\"0\" width=\"540\" height=\"500\"/></clipPath><clipPath class=\"axesclip\" id=\"clip45109fy\"><rect x=\"0\" y=\"100\" width=\"700\" height=\"320\"/></clipPath><clipPath class=\"axesclip\" id=\"clip45109fxy\"><rect x=\"80\" y=\"100\" width=\"540\" height=\"320\"/></clipPath></g><g class=\"gradients\"/><g class=\"patterns\"/></defs><g class=\"bglayer\"/><g class=\"layer-below\"><g class=\"imagelayer\"/><g class=\"shapelayer\"/></g><g class=\"cartesianlayer\"><g class=\"subplot xy\"><g class=\"layer-subplot\"><g class=\"shapelayer\"/><g class=\"imagelayer\"/></g><g class=\"gridlayer\"><g class=\"x\"><path class=\"xgrid crisp\" transform=\"translate(157.14,0)\" d=\"M0,100v320\" style=\"stroke: rgb(225, 229, 237); stroke-opacity: 1; stroke-width: 1px;\"/><path class=\"xgrid crisp\" transform=\"translate(234.29,0)\" d=\"M0,100v320\" style=\"stroke: rgb(225, 229, 237); stroke-opacity: 1; stroke-width: 1px;\"/><path class=\"xgrid crisp\" transform=\"translate(311.43,0)\" d=\"M0,100v320\" style=\"stroke: rgb(225, 229, 237); stroke-opacity: 1; stroke-width: 1px;\"/><path class=\"xgrid crisp\" transform=\"translate(388.57,0)\" d=\"M0,100v320\" style=\"stroke: rgb(225, 229, 237); stroke-opacity: 1; stroke-width: 1px;\"/><path class=\"xgrid crisp\" transform=\"translate(465.71,0)\" d=\"M0,100v320\" style=\"stroke: rgb(225, 229, 237); stroke-opacity: 1; stroke-width: 1px;\"/><path class=\"xgrid crisp\" transform=\"translate(542.86,0)\" d=\"M0,100v320\" style=\"stroke: rgb(225, 229, 237); stroke-opacity: 1; stroke-width: 1px;\"/></g><g class=\"y\"><path class=\"ygrid crisp\" transform=\"translate(0,380.73)\" d=\"M80,0h540\" style=\"stroke: rgb(225, 229, 237); stroke-opacity: 1; stroke-width: 1px;\"/><path class=\"ygrid crisp\" transform=\"translate(0,341.47)\" d=\"M80,0h540\" style=\"stroke: rgb(225, 229, 237); stroke-opacity: 1; stroke-width: 1px;\"/><path class=\"ygrid crisp\" transform=\"translate(0,302.2)\" d=\"M80,0h540\" style=\"stroke: rgb(225, 229, 237); stroke-opacity: 1; stroke-width: 1px;\"/><path class=\"ygrid crisp\" transform=\"translate(0,262.93)\" d=\"M80,0h540\" style=\"stroke: rgb(225, 229, 237); stroke-opacity: 1; stroke-width: 1px;\"/><path class=\"ygrid crisp\" transform=\"translate(0,223.67000000000002)\" d=\"M80,0h540\" style=\"stroke: rgb(225, 229, 237); stroke-opacity: 1; stroke-width: 1px;\"/><path class=\"ygrid crisp\" transform=\"translate(0,184.4)\" d=\"M80,0h540\" style=\"stroke: rgb(225, 229, 237); stroke-opacity: 1; stroke-width: 1px;\"/><path class=\"ygrid crisp\" transform=\"translate(0,145.13)\" d=\"M80,0h540\" style=\"stroke: rgb(225, 229, 237); stroke-opacity: 1; stroke-width: 1px;\"/><path class=\"ygrid crisp\" transform=\"translate(0,105.87)\" d=\"M80,0h540\" style=\"stroke: rgb(225, 229, 237); stroke-opacity: 1; stroke-width: 1px;\"/></g></g><g class=\"zerolinelayer\"><path class=\"yzl zl crisp\" transform=\"translate(0,420)\" d=\"M80,0h540\" style=\"stroke: rgb(225, 229, 237); stroke-opacity: 1; stroke-width: 2px;\"/></g><path class=\"xlines-below\"/><path class=\"ylines-below\"/><g class=\"overlines-below\"/><g class=\"xaxislayer-below\"/><g class=\"yaxislayer-below\"/><g class=\"overaxes-below\"/><g class=\"plot\" transform=\"translate(80,100)\" clip-path=\"url(#clip45109fxyplot)\"><g class=\"scatterlayer mlayer\"><g class=\"trace scatter trace3203cf\" style=\"stroke-miterlimit: 2;\"><g class=\"fills\"><g><path class=\"js-fill\" d=\"M540,320L0,320L0,16L77.14,67.57L154.29,92L308.57,155.33L385.71,58.22L462.86,54L540,16\" style=\"fill: rgb(255, 153, 51); fill-opacity: 0.3; stroke-width: 0;\"/></g></g><g class=\"errorbars\"/><g class=\"lines\"><path class=\"js-line\" d=\"M0,16L77.14,67.57L154.29,92L308.57,155.33L385.71,58.22L462.86,54L540,16\" style=\"vector-effect: non-scaling-stroke; fill: none; stroke: rgb(255, 153, 51); stroke-opacity: 1; stroke-width: 1.3px; opacity: 1;\"/></g><g class=\"points\"/><g class=\"text\"/></g></g></g><g class=\"overplot\"/><path class=\"xlines-above crisp\" d=\"M0,0\" style=\"fill: none;\"/><path class=\"ylines-above crisp\" d=\"M0,0\" style=\"fill: none;\"/><g class=\"overlines-above\"/><g class=\"xaxislayer-above\"><g class=\"xtick\"><text text-anchor=\"middle\" x=\"0\" y=\"433\" transform=\"translate(80,0)\" style=\"font-family: 'Open Sans', verdana, arial, sans-serif; font-size: 12px; fill: rgb(77, 86, 99); fill-opacity: 1; white-space: pre; opacity: 1;\">1</text></g><g class=\"xtick\"><text text-anchor=\"middle\" x=\"0\" y=\"433\" style=\"font-family: 'Open Sans', verdana, arial, sans-serif; font-size: 12px; fill: rgb(77, 86, 99); fill-opacity: 1; white-space: pre; opacity: 1;\" transform=\"translate(157.14,0)\">2</text></g><g class=\"xtick\"><text text-anchor=\"middle\" x=\"0\" y=\"433\" style=\"font-family: 'Open Sans', verdana, arial, sans-serif; font-size: 12px; fill: rgb(77, 86, 99); fill-opacity: 1; white-space: pre; opacity: 1;\" transform=\"translate(234.29,0)\">3</text></g><g class=\"xtick\"><text text-anchor=\"middle\" x=\"0\" y=\"433\" style=\"font-family: 'Open Sans', verdana, arial, sans-serif; font-size: 12px; fill: rgb(77, 86, 99); fill-opacity: 1; white-space: pre; opacity: 1;\" transform=\"translate(311.43,0)\">4</text></g><g class=\"xtick\"><text text-anchor=\"middle\" x=\"0\" y=\"433\" style=\"font-family: 'Open Sans', verdana, arial, sans-serif; font-size: 12px; fill: rgb(77, 86, 99); fill-opacity: 1; white-space: pre; opacity: 1;\" transform=\"translate(388.57,0)\">5</text></g><g class=\"xtick\"><text text-anchor=\"middle\" x=\"0\" y=\"433\" style=\"font-family: 'Open Sans', verdana, arial, sans-serif; font-size: 12px; fill: rgb(77, 86, 99); fill-opacity: 1; white-space: pre; opacity: 1;\" transform=\"translate(465.71,0)\">6</text></g><g class=\"xtick\"><text text-anchor=\"middle\" x=\"0\" y=\"433\" style=\"font-family: 'Open Sans', verdana, arial, sans-serif; font-size: 12px; fill: rgb(77, 86, 99); fill-opacity: 1; white-space: pre; opacity: 1;\" transform=\"translate(542.86,0)\">7</text></g><g class=\"xtick\"><text text-anchor=\"middle\" x=\"0\" y=\"433\" style=\"font-family: 'Open Sans', verdana, arial, sans-serif; font-size: 12px; fill: rgb(77, 86, 99); fill-opacity: 1; white-space: pre; opacity: 1;\" transform=\"translate(620,0)\">8</text></g></g><g class=\"yaxislayer-above\"><g class=\"ytick\"><text text-anchor=\"end\" x=\"79\" y=\"4.199999999999999\" transform=\"translate(0,420)\" style=\"font-family: 'Open Sans', verdana, arial, sans-serif; font-size: 12px; fill: rgb(77, 86, 99); fill-opacity: 1; white-space: pre; opacity: 1;\">0</text></g><g class=\"ytick\"><text text-anchor=\"end\" x=\"79\" y=\"4.199999999999999\" style=\"font-family: 'Open Sans', verdana, arial, sans-serif; font-size: 12px; fill: rgb(77, 86, 99); fill-opacity: 1; white-space: pre; opacity: 1;\" transform=\"translate(0,380.73)\">10</text></g><g class=\"ytick\"><text text-anchor=\"end\" x=\"79\" y=\"4.199999999999999\" style=\"font-family: 'Open Sans', verdana, arial, sans-serif; font-size: 12px; fill: rgb(77, 86, 99); fill-opacity: 1; white-space: pre; opacity: 1;\" transform=\"translate(0,341.47)\">20</text></g><g class=\"ytick\"><text text-anchor=\"end\" x=\"79\" y=\"4.199999999999999\" style=\"font-family: 'Open Sans', verdana, arial, sans-serif; font-size: 12px; fill: rgb(77, 86, 99); fill-opacity: 1; white-space: pre; opacity: 1;\" transform=\"translate(0,302.2)\">30</text></g><g class=\"ytick\"><text text-anchor=\"end\" x=\"79\" y=\"4.199999999999999\" style=\"font-family: 'Open Sans', verdana, arial, sans-serif; font-size: 12px; fill: rgb(77, 86, 99); fill-opacity: 1; white-space: pre; opacity: 1;\" transform=\"translate(0,262.93)\">40</text></g><g class=\"ytick\"><text text-anchor=\"end\" x=\"79\" y=\"4.199999999999999\" style=\"font-family: 'Open Sans', verdana, arial, sans-serif; font-size: 12px; fill: rgb(77, 86, 99); fill-opacity: 1; white-space: pre; opacity: 1;\" transform=\"translate(0,223.67000000000002)\">50</text></g><g class=\"ytick\"><text text-anchor=\"end\" x=\"79\" y=\"4.199999999999999\" style=\"font-family: 'Open Sans', verdana, arial, sans-serif; font-size: 12px; fill: rgb(77, 86, 99); fill-opacity: 1; white-space: pre; opacity: 1;\" transform=\"translate(0,184.4)\">60</text></g><g class=\"ytick\"><text text-anchor=\"end\" x=\"79\" y=\"4.199999999999999\" style=\"font-family: 'Open Sans', verdana, arial, sans-serif; font-size: 12px; fill: rgb(77, 86, 99); fill-opacity: 1; white-space: pre; opacity: 1;\" transform=\"translate(0,145.13)\">70</text></g><g class=\"ytick\"><text text-anchor=\"end\" x=\"79\" y=\"4.199999999999999\" style=\"font-family: 'Open Sans', verdana, arial, sans-serif; font-size: 12px; fill: rgb(77, 86, 99); fill-opacity: 1; white-space: pre; opacity: 1;\" transform=\"translate(0,105.87)\">80</text></g></g><g class=\"overaxes-above\"/></g></g><g class=\"polarlayer\"/><g class=\"smithlayer\"/><g class=\"ternarylayer\"/><g class=\"geolayer\"/><g class=\"funnelarealayer\"/><g class=\"pielayer\"/><g class=\"iciclelayer\"/><g class=\"treemaplayer\"/><g class=\"sunburstlayer\"/><g class=\"glimages\"/><defs id=\"topdefs-45109f\"><g class=\"clips\"/></defs><g class=\"layer-above\"><g class=\"imagelayer\"/><g class=\"shapelayer\"/></g><g class=\"infolayer\"><g class=\"g-gtitle\"><text class=\"gtitle\" x=\"35\" y=\"50\" text-anchor=\"start\" dy=\"0em\" style=\"font-family: 'Open Sans', verdana, arial, sans-serif; font-size: 17px; fill: rgb(77, 86, 99); opacity: 1; font-weight: normal; white-space: pre;\">Figure 4: Healthy proportion in each month of Participant01</text></g><g class=\"g-xtitle\"><text class=\"xtitle\" x=\"350\" y=\"460.3\" text-anchor=\"middle\" style=\"font-family: 'Open Sans', verdana, arial, sans-serif; font-size: 14px; fill: rgb(77, 86, 99); opacity: 1; font-weight: normal; white-space: pre;\">Month</text></g><g class=\"g-ytitle\"><text class=\"ytitle\" transform=\"rotate(-90,38.934375,260)\" x=\"38.934375\" y=\"260\" text-anchor=\"middle\" style=\"font-family: 'Open Sans', verdana, arial, sans-serif; font-size: 14px; fill: rgb(77, 86, 99); opacity: 1; font-weight: normal; white-space: pre;\">Health Proportion（%）</text></g></g></svg>"
      ]
     },
     "metadata": {},
     "output_type": "display_data"
    }
   ],
   "source": [
    "proportion.figure(y=\"health_proportion(%)\",\n",
    "               fill=True,\n",
    "               xTitle=\"Month\", yTitle=\"Health Proportion（%）\", title=\"Figure 4: Healthy proportion in each month of Participant01\"\n",
    "               )"
   ]
  },
  {
   "cell_type": "markdown",
   "id": "10607410",
   "metadata": {},
   "source": [
    "Heatmap of participant 01"
   ]
  },
  {
   "cell_type": "code",
   "execution_count": 37,
   "id": "ce6261e3",
   "metadata": {},
   "outputs": [
    {
     "data": {
      "image/svg+xml": [
       "<svg class=\"main-svg\" xmlns=\"http://www.w3.org/2000/svg\" xmlns:xlink=\"http://www.w3.org/1999/xlink\" width=\"700\" height=\"500\" style=\"\" viewBox=\"0 0 700 500\"><rect x=\"0\" y=\"0\" width=\"700\" height=\"500\" style=\"fill: rgb(245, 246, 249); fill-opacity: 1;\"/><defs id=\"defs-098703\"><g class=\"clips\"><clipPath id=\"clip098703xyplot\" class=\"plotclip\"><rect width=\"445\" height=\"320\"/></clipPath><clipPath class=\"axesclip\" id=\"clip098703x\"><rect x=\"169\" y=\"0\" width=\"445\" height=\"500\"/></clipPath><clipPath class=\"axesclip\" id=\"clip098703y\"><rect x=\"0\" y=\"100\" width=\"700\" height=\"320\"/></clipPath><clipPath class=\"axesclip\" id=\"clip098703xy\"><rect x=\"169\" y=\"100\" width=\"445\" height=\"320\"/></clipPath></g><g class=\"gradients\"><linearGradient x1=\"0\" x2=\"0\" y1=\"1\" y2=\"0\" id=\"g098703-cb3a9aa0\"><stop offset=\"0%\" stop-color=\"rgb(247, 251, 255)\" stop-opacity=\"1\"/><stop offset=\"12.5%\" stop-color=\"rgb(222, 235, 247)\" stop-opacity=\"1\"/><stop offset=\"25%\" stop-color=\"rgb(198, 219, 239)\" stop-opacity=\"1\"/><stop offset=\"37.5%\" stop-color=\"rgb(158, 202, 225)\" stop-opacity=\"1\"/><stop offset=\"50%\" stop-color=\"rgb(107, 174, 214)\" stop-opacity=\"1\"/><stop offset=\"62.5%\" stop-color=\"rgb(66, 146, 198)\" stop-opacity=\"1\"/><stop offset=\"75%\" stop-color=\"rgb(33, 113, 181)\" stop-opacity=\"1\"/><stop offset=\"87.5%\" stop-color=\"rgb(8, 81, 156)\" stop-opacity=\"1\"/><stop offset=\"100%\" stop-color=\"rgb(8, 48, 107)\" stop-opacity=\"1\"/></linearGradient></g><g class=\"patterns\"/></defs><g class=\"bglayer\"/><g class=\"layer-below\"><g class=\"imagelayer\"/><g class=\"shapelayer\"/></g><g class=\"cartesianlayer\"><g class=\"subplot xy\"><g class=\"layer-subplot\"><g class=\"shapelayer\"/><g class=\"imagelayer\"/></g><g class=\"gridlayer\"><g class=\"x\"><path class=\"xgrid crisp\" transform=\"translate(252.44,0)\" d=\"M0,100v320\" style=\"stroke: rgb(225, 229, 237); stroke-opacity: 1; stroke-width: 1px;\"/><path class=\"xgrid crisp\" transform=\"translate(363.69,0)\" d=\"M0,100v320\" style=\"stroke: rgb(225, 229, 237); stroke-opacity: 1; stroke-width: 1px;\"/><path class=\"xgrid crisp\" transform=\"translate(474.94,0)\" d=\"M0,100v320\" style=\"stroke: rgb(225, 229, 237); stroke-opacity: 1; stroke-width: 1px;\"/><path class=\"xgrid crisp\" transform=\"translate(586.19,0)\" d=\"M0,100v320\" style=\"stroke: rgb(225, 229, 237); stroke-opacity: 1; stroke-width: 1px;\"/></g><g class=\"y\"><path class=\"ygrid crisp\" transform=\"translate(0,260)\" d=\"M169,0h445\" style=\"stroke: rgb(225, 229, 237); stroke-opacity: 1; stroke-width: 1px;\"/></g></g><g class=\"zerolinelayer\"/><path class=\"xlines-below\"/><path class=\"ylines-below\"/><g class=\"overlines-below\"/><g class=\"xaxislayer-below\"/><g class=\"yaxislayer-below\"/><g class=\"overaxes-below\"/><g class=\"plot\" transform=\"translate(169,100)\" clip-path=\"url(#clip098703xyplot)\"><g class=\"heatmaplayer mlayer\"><g class=\"hm\"><image xmlns=\"http://www.w3.org/2000/svg\" preserveAspectRatio=\"none\" height=\"320\" width=\"445\" x=\"0\" y=\"0\" xlink:href=\"data:image/png;base64,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\" style=\"opacity: 1;\"/></g></g></g><g class=\"overplot\"/><path class=\"xlines-above crisp\" d=\"M0,0\" style=\"fill: none;\"/><path class=\"ylines-above crisp\" d=\"M0,0\" style=\"fill: none;\"/><g class=\"overlines-above\"/><g class=\"xaxislayer-above\"><g class=\"xtick\"><text text-anchor=\"middle\" x=\"0\" y=\"433\" transform=\"translate(252.44,0)\" style=\"font-family: 'Open Sans', verdana, arial, sans-serif; font-size: 12px; fill: rgb(77, 86, 99); fill-opacity: 1; white-space: pre; opacity: 1;\">2</text></g><g class=\"xtick\"><text text-anchor=\"middle\" x=\"0\" y=\"433\" style=\"font-family: 'Open Sans', verdana, arial, sans-serif; font-size: 12px; fill: rgb(77, 86, 99); fill-opacity: 1; white-space: pre; opacity: 1;\" transform=\"translate(363.69,0)\">4</text></g><g class=\"xtick\"><text text-anchor=\"middle\" x=\"0\" y=\"433\" style=\"font-family: 'Open Sans', verdana, arial, sans-serif; font-size: 12px; fill: rgb(77, 86, 99); fill-opacity: 1; white-space: pre; opacity: 1;\" transform=\"translate(474.94,0)\">6</text></g><g class=\"xtick\"><text text-anchor=\"middle\" x=\"0\" y=\"433\" style=\"font-family: 'Open Sans', verdana, arial, sans-serif; font-size: 12px; fill: rgb(77, 86, 99); fill-opacity: 1; white-space: pre; opacity: 1;\" transform=\"translate(586.19,0)\">8</text></g></g><g class=\"yaxislayer-above\"><g class=\"ytick\"><text text-anchor=\"end\" x=\"168\" y=\"4.199999999999999\" transform=\"translate(0,260)\" style=\"font-family: 'Open Sans', verdana, arial, sans-serif; font-size: 12px; fill: rgb(77, 86, 99); fill-opacity: 1; white-space: pre; opacity: 1;\">health_proportion(%)</text></g></g><g class=\"overaxes-above\"/></g></g><g class=\"polarlayer\"/><g class=\"smithlayer\"/><g class=\"ternarylayer\"/><g class=\"geolayer\"/><g class=\"funnelarealayer\"/><g class=\"pielayer\"/><g class=\"iciclelayer\"/><g class=\"treemaplayer\"/><g class=\"sunburstlayer\"/><g class=\"glimages\"/><defs id=\"topdefs-098703\"><g class=\"clips\"/></defs><g class=\"layer-above\"><g class=\"imagelayer\"/><g class=\"shapelayer\"/></g><g class=\"infolayer\"><g class=\"cb3a9aa0 colorbar\" transform=\"translate(169,100)\"><rect class=\"cbbg\" x=\"454\" y=\"0\" width=\"65.28125\" height=\"320\" style=\"fill: rgb(0, 0, 0); fill-opacity: 0; stroke: rgb(68, 68, 68); stroke-opacity: 1; stroke-width: 0;\"/><g class=\"cbfills\" transform=\"translate(0,10)\"><rect class=\"cbfill\" x=\"464\" y=\"0\" width=\"30\" height=\"300\" style=\"fill: url('#g098703-cb3a9aa0');\"/></g><g class=\"cblines\" transform=\"translate(0,10)\"/><g class=\"cbaxis crisp\" transform=\"translate(0,-100)\"><g class=\"ycb3a9aa0tick\"><text text-anchor=\"start\" x=\"496.9\" y=\"4.199999999999999\" transform=\"translate(0,384.09)\" style=\"font-family: 'Open Sans', verdana, arial, sans-serif; font-size: 12px; fill: rgb(42, 63, 95); fill-opacity: 1; white-space: pre; opacity: 1;\">45</text></g><g class=\"ycb3a9aa0tick\"><text text-anchor=\"start\" x=\"496.9\" y=\"4.199999999999999\" style=\"font-family: 'Open Sans', verdana, arial, sans-serif; font-size: 12px; fill: rgb(42, 63, 95); fill-opacity: 1; white-space: pre; opacity: 1;\" transform=\"translate(0,341.82)\">50</text></g><g class=\"ycb3a9aa0tick\"><text text-anchor=\"start\" x=\"496.9\" y=\"4.199999999999999\" style=\"font-family: 'Open Sans', verdana, arial, sans-serif; font-size: 12px; fill: rgb(42, 63, 95); fill-opacity: 1; white-space: pre; opacity: 1;\" transform=\"translate(0,299.55)\">55</text></g><g class=\"ycb3a9aa0tick\"><text text-anchor=\"start\" x=\"496.9\" y=\"4.199999999999999\" style=\"font-family: 'Open Sans', verdana, arial, sans-serif; font-size: 12px; fill: rgb(42, 63, 95); fill-opacity: 1; white-space: pre; opacity: 1;\" transform=\"translate(0,257.27)\">60</text></g><g class=\"ycb3a9aa0tick\"><text text-anchor=\"start\" x=\"496.9\" y=\"4.199999999999999\" style=\"font-family: 'Open Sans', verdana, arial, sans-serif; font-size: 12px; fill: rgb(42, 63, 95); fill-opacity: 1; white-space: pre; opacity: 1;\" transform=\"translate(0,215)\">65</text></g><g class=\"ycb3a9aa0tick\"><text text-anchor=\"start\" x=\"496.9\" y=\"4.199999999999999\" style=\"font-family: 'Open Sans', verdana, arial, sans-serif; font-size: 12px; fill: rgb(42, 63, 95); fill-opacity: 1; white-space: pre; opacity: 1;\" transform=\"translate(0,172.73)\">70</text></g><g class=\"ycb3a9aa0tick\"><text text-anchor=\"start\" x=\"496.9\" y=\"4.199999999999999\" style=\"font-family: 'Open Sans', verdana, arial, sans-serif; font-size: 12px; fill: rgb(42, 63, 95); fill-opacity: 1; white-space: pre; opacity: 1;\" transform=\"translate(0,130.45)\">75</text></g></g><g class=\"cbtitleunshift\" transform=\"translate(-169,-100)\"><g class=\"cbtitle\"/></g><rect class=\"cboutline\" x=\"464\" y=\"10\" width=\"30\" height=\"300\" style=\"stroke: rgb(68, 68, 68); stroke-opacity: 1; fill: none; stroke-width: 0;\"/></g><g class=\"g-gtitle\"><text class=\"gtitle\" x=\"35\" y=\"50\" text-anchor=\"start\" dy=\"0em\" style=\"font-family: 'Open Sans', verdana, arial, sans-serif; font-size: 17px; fill: rgb(77, 86, 99); opacity: 1; font-weight: normal; white-space: pre;\">Figure 5: Healthy proportion intensity of Participant01</text></g><g class=\"g-xtitle\"><text class=\"xtitle\" x=\"391.5\" y=\"460.3\" text-anchor=\"middle\" style=\"font-family: 'Open Sans', verdana, arial, sans-serif; font-size: 14px; fill: rgb(77, 86, 99); opacity: 1; font-weight: normal; white-space: pre;\">Month</text></g><g class=\"g-ytitle\"/></g></svg>"
      ]
     },
     "metadata": {},
     "output_type": "display_data"
    }
   ],
   "source": [
    "proportion.figure(kind=\"heatmap\",\n",
    "                   colorscale=\"Blues\",xTitle=\"Month\",title=\"Figure 5: Healthy proportion intensity of Participant01\",\n",
    "                   dimensions=(700,500))"
   ]
  },
  {
   "cell_type": "markdown",
   "id": "2fde9e0f",
   "metadata": {},
   "source": [
    "Build a spread chart of total steps month to month trend"
   ]
  },
  {
   "cell_type": "code",
   "execution_count": 38,
   "id": "9e8a4a73",
   "metadata": {},
   "outputs": [
    {
     "name": "stderr",
     "output_type": "stream",
     "text": [
      "/Users/yunshuozhang/opt/anaconda3/lib/python3.9/site-packages/cufflinks/plotlytools.py:850: FutureWarning:\n",
      "\n",
      "The pandas.np module is deprecated and will be removed from pandas in a future version. Import numpy directly instead.\n",
      "\n"
     ]
    },
    {
     "data": {
      "image/svg+xml": [
       "<svg class=\"main-svg\" xmlns=\"http://www.w3.org/2000/svg\" xmlns:xlink=\"http://www.w3.org/1999/xlink\" width=\"700\" height=\"500\" style=\"\" viewBox=\"0 0 700 500\"><rect x=\"0\" y=\"0\" width=\"700\" height=\"500\" style=\"fill: rgb(245, 246, 249); fill-opacity: 1;\"/><defs id=\"defs-2ae215\"><g class=\"clips\"><clipPath id=\"clip2ae215xyplot\" class=\"plotclip\"><rect width=\"414\" height=\"224\"/></clipPath><clipPath id=\"clip2ae215x2y2plot\" class=\"plotclip\"><rect width=\"414\" height=\"80\"/></clipPath><clipPath class=\"axesclip\" id=\"clip2ae215x\"><rect x=\"80\" y=\"0\" width=\"414\" height=\"500\"/></clipPath><clipPath class=\"axesclip\" id=\"clip2ae215y\"><rect x=\"0\" y=\"100\" width=\"700\" height=\"224\"/></clipPath><clipPath class=\"axesclip\" id=\"clip2ae215xy\"><rect x=\"80\" y=\"100\" width=\"414\" height=\"224\"/></clipPath><clipPath class=\"axesclip\" id=\"clip2ae215y2\"><rect x=\"0\" y=\"340\" width=\"700\" height=\"80\"/></clipPath><clipPath class=\"axesclip\" id=\"clip2ae215xy2\"><rect x=\"80\" y=\"340\" width=\"414\" height=\"80\"/></clipPath><clipPath class=\"axesclip\" id=\"clip2ae215x2\"><rect x=\"80\" y=\"0\" width=\"414\" height=\"500\"/></clipPath><clipPath class=\"axesclip\" id=\"clip2ae215x2y\"><rect x=\"80\" y=\"100\" width=\"414\" height=\"224\"/></clipPath><clipPath class=\"axesclip\" id=\"clip2ae215x2y2\"><rect x=\"80\" y=\"340\" width=\"414\" height=\"80\"/></clipPath></g><g class=\"gradients\"/><g class=\"patterns\"/></defs><g class=\"bglayer\"/><g class=\"layer-below\"><g class=\"imagelayer\"/><g class=\"shapelayer\"/></g><g class=\"cartesianlayer\"><g class=\"subplot xy\"><g class=\"layer-subplot\"><g class=\"shapelayer\"/><g class=\"imagelayer\"/></g><g class=\"gridlayer\"><g class=\"x\"><path class=\"xgrid crisp\" transform=\"translate(139.14,0)\" d=\"M0,100v224\" style=\"stroke: rgb(225, 229, 237); stroke-opacity: 1; stroke-width: 1px;\"/><path class=\"xgrid crisp\" transform=\"translate(257.43,0)\" d=\"M0,100v224\" style=\"stroke: rgb(225, 229, 237); stroke-opacity: 1; stroke-width: 1px;\"/><path class=\"xgrid crisp\" transform=\"translate(375.71,0)\" d=\"M0,100v224\" style=\"stroke: rgb(225, 229, 237); stroke-opacity: 1; stroke-width: 1px;\"/></g><g class=\"y\"><path class=\"ygrid crisp\" transform=\"translate(0,306.65999999999997)\" d=\"M80,0h414\" style=\"stroke: rgb(225, 229, 237); stroke-opacity: 1; stroke-width: 1px;\"/><path class=\"ygrid crisp\" transform=\"translate(0,229.97)\" d=\"M80,0h414\" style=\"stroke: rgb(225, 229, 237); stroke-opacity: 1; stroke-width: 1px;\"/><path class=\"ygrid crisp\" transform=\"translate(0,153.28)\" d=\"M80,0h414\" style=\"stroke: rgb(225, 229, 237); stroke-opacity: 1; stroke-width: 1px;\"/></g></g><g class=\"zerolinelayer\"/><path class=\"xlines-below\"/><path class=\"ylines-below\"/><g class=\"overlines-below\"/><g class=\"xaxislayer-below\"/><g class=\"yaxislayer-below\"/><g class=\"overaxes-below\"/><g class=\"plot\" transform=\"translate(80,100)\" clip-path=\"url(#clip2ae215xyplot)\"><g class=\"scatterlayer mlayer\"><g class=\"trace scatter trace0617fe\" style=\"stroke-miterlimit: 2; opacity: 1;\"><g class=\"fills\"/><g class=\"errorbars\"/><g class=\"lines\"><path class=\"js-line\" d=\"M0,11.2L59.14,150.69L118.29,139.72L177.43,168.6L236.57,175.73L295.71,50.54L354.86,122.62L414,79.17\" style=\"vector-effect: non-scaling-stroke; fill: none; stroke: rgb(255, 153, 51); stroke-opacity: 1; stroke-width: 1.3px; opacity: 1;\"/></g><g class=\"points\"/><g class=\"text\"/></g><g class=\"trace scatter trace930979\" style=\"stroke-miterlimit: 2; opacity: 1;\"><g class=\"fills\"/><g class=\"errorbars\"/><g class=\"lines\"><path class=\"js-line\" d=\"M0,180.59L59.14,212.8L118.29,180.59L177.43,191.33L236.57,180.59L295.71,191.33L354.86,180.59L414,180.59\" style=\"vector-effect: non-scaling-stroke; fill: none; stroke: rgb(55, 128, 191); stroke-opacity: 1; stroke-width: 1.3px; opacity: 1;\"/></g><g class=\"points\"/><g class=\"text\"/></g></g></g><g class=\"overplot\"/><path class=\"xlines-above crisp\" d=\"M0,0\" style=\"fill: none;\"/><path class=\"ylines-above crisp\" d=\"M0,0\" style=\"fill: none;\"/><g class=\"overlines-above\"/><g class=\"xaxislayer-above\"><g class=\"xtick\"><text text-anchor=\"middle\" x=\"0\" y=\"337\" transform=\"translate(139.14,0)\" style=\"font-family: 'Open Sans', verdana, arial, sans-serif; font-size: 12px; fill: rgb(77, 86, 99); fill-opacity: 1; white-space: pre; opacity: 1;\">2</text></g><g class=\"xtick\"><text text-anchor=\"middle\" x=\"0\" y=\"337\" style=\"font-family: 'Open Sans', verdana, arial, sans-serif; font-size: 12px; fill: rgb(77, 86, 99); fill-opacity: 1; white-space: pre; opacity: 1;\" transform=\"translate(257.43,0)\">4</text></g><g class=\"xtick\"><text text-anchor=\"middle\" x=\"0\" y=\"337\" style=\"font-family: 'Open Sans', verdana, arial, sans-serif; font-size: 12px; fill: rgb(77, 86, 99); fill-opacity: 1; white-space: pre; opacity: 1;\" transform=\"translate(375.71,0)\">6</text></g><g class=\"xtick\"><text text-anchor=\"middle\" x=\"0\" y=\"337\" style=\"font-family: 'Open Sans', verdana, arial, sans-serif; font-size: 12px; fill: rgb(77, 86, 99); fill-opacity: 1; white-space: pre; opacity: 1;\" transform=\"translate(494,0)\">8</text></g></g><g class=\"yaxislayer-above\"><g class=\"ytick\"><text text-anchor=\"end\" x=\"79\" y=\"4.199999999999999\" transform=\"translate(0,306.65999999999997)\" style=\"font-family: 'Open Sans', verdana, arial, sans-serif; font-size: 12px; fill: rgb(77, 86, 99); fill-opacity: 1; white-space: pre; opacity: 1;\">200k</text></g><g class=\"ytick\"><text text-anchor=\"end\" x=\"79\" y=\"4.199999999999999\" style=\"font-family: 'Open Sans', verdana, arial, sans-serif; font-size: 12px; fill: rgb(77, 86, 99); fill-opacity: 1; white-space: pre; opacity: 1;\" transform=\"translate(0,229.97)\">250k</text></g><g class=\"ytick\"><text text-anchor=\"end\" x=\"79\" y=\"4.199999999999999\" style=\"font-family: 'Open Sans', verdana, arial, sans-serif; font-size: 12px; fill: rgb(77, 86, 99); fill-opacity: 1; white-space: pre; opacity: 1;\" transform=\"translate(0,153.28)\">300k</text></g></g><g class=\"overaxes-above\"/></g><g class=\"subplot x2y2\"><g class=\"layer-subplot\"><g class=\"shapelayer\"/><g class=\"imagelayer\"/></g><g class=\"gridlayer\"><g class=\"x2\"><path class=\"x2grid crisp\" transform=\"translate(139.14,0)\" d=\"M0,340v80\" style=\"stroke: rgb(225, 229, 237); stroke-opacity: 1; stroke-width: 1px;\"/><path class=\"x2grid crisp\" transform=\"translate(257.43,0)\" d=\"M0,340v80\" style=\"stroke: rgb(225, 229, 237); stroke-opacity: 1; stroke-width: 1px;\"/><path class=\"x2grid crisp\" transform=\"translate(375.71,0)\" d=\"M0,340v80\" style=\"stroke: rgb(225, 229, 237); stroke-opacity: 1; stroke-width: 1px;\"/></g><g class=\"y2\"><path class=\"y2grid crisp\" transform=\"translate(0,385.59000000000003)\" d=\"M80,0h414\" style=\"stroke: rgb(225, 229, 237); stroke-opacity: 1; stroke-width: 1px;\"/><path class=\"y2grid crisp\" transform=\"translate(0,351.18)\" d=\"M80,0h414\" style=\"stroke: rgb(225, 229, 237); stroke-opacity: 1; stroke-width: 1px;\"/></g></g><g class=\"zerolinelayer\"><path class=\"y2zl zl crisp\" transform=\"translate(0,420)\" d=\"M80,0h414\" style=\"stroke: rgb(225, 229, 237); stroke-opacity: 1; stroke-width: 2px;\"/></g><path class=\"xlines-below\"/><path class=\"ylines-below\"/><g class=\"overlines-below\"/><g class=\"xaxislayer-below\"/><g class=\"yaxislayer-below\"/><g class=\"overaxes-below\"/><g class=\"plot\" transform=\"translate(80,340)\" clip-path=\"url(#clip2ae215x2y2plot)\"><g class=\"scatterlayer mlayer\"><g class=\"trace scatter trace3ce91c\" style=\"stroke-miterlimit: 2;\"><g class=\"fills\"><g><path class=\"js-fill\" d=\"M414,80L0,80L0,4L59.14,52.13L118.29,61.66L236.57,77.82L295.71,16.84L354.86,53.99L414,34.49\" style=\"fill: rgb(0, 128, 0); fill-opacity: 0.5; stroke-width: 0;\"/></g></g><g class=\"errorbars\"/><g class=\"lines\"><path class=\"js-line\" d=\"M0,4L59.14,52.13L118.29,61.66L236.57,77.82L295.71,16.84L354.86,53.99L414,34.49\" style=\"vector-effect: non-scaling-stroke; fill: none; stroke: rgb(0, 128, 0); stroke-opacity: 1; stroke-width: 0.5px; opacity: 1;\"/></g><g class=\"points\"/><g class=\"text\"/></g><g class=\"trace scatter trace997e8f\" style=\"stroke-miterlimit: 2;\"><g class=\"fills\"><g><path class=\"js-fill\" d=\"M0,0Z\" style=\"stroke-width: 0;\"/></g></g><g class=\"errorbars\"/><g class=\"lines\"/><g class=\"points\"/><g class=\"text\"/></g></g></g><g class=\"overplot\"/><path class=\"xlines-above crisp\" d=\"M0,0\" style=\"fill: none;\"/><path class=\"ylines-above crisp\" d=\"M0,0\" style=\"fill: none;\"/><g class=\"overlines-above\"/><g class=\"xaxislayer-above\"/><g class=\"yaxislayer-above\"><g class=\"y2tick\"><text text-anchor=\"end\" x=\"79\" y=\"4.199999999999999\" transform=\"translate(0,420)\" style=\"font-family: 'Open Sans', verdana, arial, sans-serif; font-size: 12px; fill: rgb(77, 86, 99); fill-opacity: 1; white-space: pre; opacity: 1;\">0</text></g><g class=\"y2tick\"><text text-anchor=\"end\" x=\"79\" y=\"4.199999999999999\" style=\"font-family: 'Open Sans', verdana, arial, sans-serif; font-size: 12px; fill: rgb(77, 86, 99); fill-opacity: 1; white-space: pre; opacity: 1;\" transform=\"translate(0,385.59000000000003)\">50k</text></g><g class=\"y2tick\"><text text-anchor=\"end\" x=\"79\" y=\"4.199999999999999\" style=\"font-family: 'Open Sans', verdana, arial, sans-serif; font-size: 12px; fill: rgb(77, 86, 99); fill-opacity: 1; white-space: pre; opacity: 1;\" transform=\"translate(0,351.18)\">100k</text></g></g><g class=\"overaxes-above\"/></g></g><g class=\"polarlayer\"/><g class=\"smithlayer\"/><g class=\"ternarylayer\"/><g class=\"geolayer\"/><g class=\"funnelarealayer\"/><g class=\"pielayer\"/><g class=\"iciclelayer\"/><g class=\"treemaplayer\"/><g class=\"sunburstlayer\"/><g class=\"glimages\"/><defs id=\"topdefs-2ae215\"><g class=\"clips\"/><clipPath id=\"legend2ae215\"><rect width=\"186\" height=\"48\" x=\"0\" y=\"0\"/></clipPath></defs><g class=\"layer-above\"><g class=\"imagelayer\"/><g class=\"shapelayer\"/></g><g class=\"infolayer\"><g class=\"legend\" pointer-events=\"all\" transform=\"translate(502.28000000000003,100)\"><rect class=\"bg\" shape-rendering=\"crispEdges\" width=\"186\" height=\"48\" x=\"0\" y=\"0\" style=\"stroke: rgb(68, 68, 68); stroke-opacity: 1; fill: rgb(245, 246, 249); fill-opacity: 1; stroke-width: 0px;\"/><g class=\"scrollbox\" transform=\"\" clip-path=\"url(#legend2ae215)\"><g class=\"groups\"><g class=\"traces\" transform=\"translate(0,14.5)\" style=\"opacity: 1;\"><text class=\"legendtext\" text-anchor=\"start\" x=\"40\" y=\"4.680000000000001\" style=\"font-family: 'Open Sans', verdana, arial, sans-serif; font-size: 12px; fill: rgb(77, 86, 99); fill-opacity: 1; white-space: pre;\">total_steps_per_month</text><g class=\"layers\" style=\"opacity: 1;\"><g class=\"legendfill\"/><g class=\"legendlines\"><path class=\"js-line\" d=\"M5,0h30\" style=\"fill: none; stroke: rgb(255, 153, 51); stroke-opacity: 1; stroke-width: 1.3px;\"/></g><g class=\"legendsymbols\"><g class=\"legendpoints\"/></g></g><rect class=\"legendtoggle\" x=\"0\" y=\"-9.5\" width=\"180.609375\" height=\"19\" style=\"fill: rgb(0, 0, 0); fill-opacity: 0;\"/></g><g class=\"traces\" transform=\"translate(0,33.5)\" style=\"opacity: 1;\"><text class=\"legendtext\" text-anchor=\"start\" x=\"40\" y=\"4.680000000000001\" style=\"font-family: 'Open Sans', verdana, arial, sans-serif; font-size: 12px; fill: rgb(77, 86, 99); fill-opacity: 1; white-space: pre;\">health_standard</text><g class=\"layers\" style=\"opacity: 1;\"><g class=\"legendfill\"/><g class=\"legendlines\"><path class=\"js-line\" d=\"M5,0h30\" style=\"fill: none; stroke: rgb(55, 128, 191); stroke-opacity: 1; stroke-width: 1.3px;\"/></g><g class=\"legendsymbols\"><g class=\"legendpoints\"/></g></g><rect class=\"legendtoggle\" x=\"0\" y=\"-9.5\" width=\"180.609375\" height=\"19\" style=\"fill: rgb(0, 0, 0); fill-opacity: 0;\"/></g></g></g><rect class=\"scrollbar\" rx=\"20\" ry=\"3\" width=\"0\" height=\"0\" x=\"0\" y=\"0\" style=\"fill: rgb(128, 139, 164); fill-opacity: 1;\"/></g><g class=\"g-gtitle\"><text class=\"gtitle\" x=\"35\" y=\"50\" text-anchor=\"start\" dy=\"0em\" style=\"font-family: 'Open Sans', verdana, arial, sans-serif; font-size: 17px; fill: rgb(77, 86, 99); opacity: 1; font-weight: normal; white-space: pre;\">Figure 6: Participant 3 Monthly Steps and Standard Spread Chart</text></g><g class=\"g-xtitle\"/><g class=\"g-x2title\"/><g class=\"g-ytitle\"/><g class=\"g-y2title\"><text class=\"y2title\" transform=\"rotate(-90,24.200000000000003,380)\" x=\"24.200000000000003\" y=\"380\" text-anchor=\"middle\" style=\"font-family: 'Open Sans', verdana, arial, sans-serif; font-size: 14px; fill: rgb(77, 86, 99); opacity: 1; font-weight: normal; white-space: pre;\">Spread</text></g></g></svg>"
      ]
     },
     "metadata": {},
     "output_type": "display_data"
    }
   ],
   "source": [
    "clean_p1.figure(kind=\"spread\", keys=[\"total_steps_per_month\", \"health_standard\"],\n",
    "               title=\"Figure 6: Participant 3 Monthly Steps and Standard Spread Chart\")"
   ]
  },
  {
   "cell_type": "markdown",
   "id": "60e5477f",
   "metadata": {},
   "source": [
    "According to the figure 4 and figure 5, the proportion of days reaching the health standard in May is the lowest which is about 40%, and the color in the heat map is close to white. The percentage of healthy steps reaching the standard in January and Augest were relatively higher than others which are almost 80%, and the color in the picture is also the darker. In addition, the change of other months' proportion is relatively stable, and the value is relatively moderate which were all more than 50%. The average proportion is around 63%. Furthermore, based on the Figure 6, all the months are over the health standard. January and June exceed the standard approximately 100k steps.\n",
    "\n",
    "Therefore, the healthy proportion of the participants in January and August is higher, and the lowest in May. The trend of the number of steps is also fluctuated but all the months reach the health standard. We suggest the participant could mainly increase the daily steps between March and May. However, compared with Participant 3, the activity level of participants is relatively high"
   ]
  },
  {
   "cell_type": "markdown",
   "id": "e78a60fb",
   "metadata": {},
   "source": [
    "#### 3.1.3 Other datasets: Participant_07.csv\n"
   ]
  },
  {
   "cell_type": "markdown",
   "id": "649c18c0",
   "metadata": {},
   "source": [
    "Import the dataset and preliminary observation data"
   ]
  },
  {
   "cell_type": "code",
   "execution_count": 39,
   "id": "fe15fb4a",
   "metadata": {},
   "outputs": [
    {
     "data": {
      "text/html": [
       "<div>\n",
       "<style scoped>\n",
       "    .dataframe tbody tr th:only-of-type {\n",
       "        vertical-align: middle;\n",
       "    }\n",
       "\n",
       "    .dataframe tbody tr th {\n",
       "        vertical-align: top;\n",
       "    }\n",
       "\n",
       "    .dataframe thead th {\n",
       "        text-align: right;\n",
       "    }\n",
       "</style>\n",
       "<table border=\"1\" class=\"dataframe\">\n",
       "  <thead>\n",
       "    <tr style=\"text-align: right;\">\n",
       "      <th></th>\n",
       "      <th>Steps (count)</th>\n",
       "    </tr>\n",
       "  </thead>\n",
       "  <tbody>\n",
       "    <tr>\n",
       "      <th>count</th>\n",
       "      <td>6133.000000</td>\n",
       "    </tr>\n",
       "    <tr>\n",
       "      <th>mean</th>\n",
       "      <td>323.430904</td>\n",
       "    </tr>\n",
       "    <tr>\n",
       "      <th>std</th>\n",
       "      <td>560.310200</td>\n",
       "    </tr>\n",
       "    <tr>\n",
       "      <th>min</th>\n",
       "      <td>0.000000</td>\n",
       "    </tr>\n",
       "    <tr>\n",
       "      <th>25%</th>\n",
       "      <td>0.000000</td>\n",
       "    </tr>\n",
       "    <tr>\n",
       "      <th>50%</th>\n",
       "      <td>102.000000</td>\n",
       "    </tr>\n",
       "    <tr>\n",
       "      <th>75%</th>\n",
       "      <td>362.853757</td>\n",
       "    </tr>\n",
       "    <tr>\n",
       "      <th>max</th>\n",
       "      <td>5456.232868</td>\n",
       "    </tr>\n",
       "  </tbody>\n",
       "</table>\n",
       "</div>"
      ],
      "text/plain": [
       "       Steps (count)\n",
       "count    6133.000000\n",
       "mean      323.430904\n",
       "std       560.310200\n",
       "min         0.000000\n",
       "25%         0.000000\n",
       "50%       102.000000\n",
       "75%       362.853757\n",
       "max      5456.232868"
      ]
     },
     "execution_count": 39,
     "metadata": {},
     "output_type": "execute_result"
    }
   ],
   "source": [
    "data07 = pd.read_csv(\"Participant-07.csv\", sep = \",\")\n",
    "data07.describe()"
   ]
  },
  {
   "cell_type": "code",
   "execution_count": 40,
   "id": "ae6be653",
   "metadata": {},
   "outputs": [
    {
     "data": {
      "text/html": [
       "<div>\n",
       "<style scoped>\n",
       "    .dataframe tbody tr th:only-of-type {\n",
       "        vertical-align: middle;\n",
       "    }\n",
       "\n",
       "    .dataframe tbody tr th {\n",
       "        vertical-align: top;\n",
       "    }\n",
       "\n",
       "    .dataframe thead th {\n",
       "        text-align: right;\n",
       "    }\n",
       "</style>\n",
       "<table border=\"1\" class=\"dataframe\">\n",
       "  <thead>\n",
       "    <tr style=\"text-align: right;\">\n",
       "      <th></th>\n",
       "      <th>Start</th>\n",
       "      <th>Finish</th>\n",
       "      <th>Steps (count)</th>\n",
       "    </tr>\n",
       "  </thead>\n",
       "  <tbody>\n",
       "    <tr>\n",
       "      <th>0</th>\n",
       "      <td>01-Jan-2022 00:00</td>\n",
       "      <td>01-Jan-2022 01:00</td>\n",
       "      <td>32.0</td>\n",
       "    </tr>\n",
       "    <tr>\n",
       "      <th>1</th>\n",
       "      <td>01-Jan-2022 01:00</td>\n",
       "      <td>01-Jan-2022 02:00</td>\n",
       "      <td>0.0</td>\n",
       "    </tr>\n",
       "    <tr>\n",
       "      <th>2</th>\n",
       "      <td>01-Jan-2022 02:00</td>\n",
       "      <td>01-Jan-2022 03:00</td>\n",
       "      <td>0.0</td>\n",
       "    </tr>\n",
       "    <tr>\n",
       "      <th>3</th>\n",
       "      <td>01-Jan-2022 03:00</td>\n",
       "      <td>01-Jan-2022 04:00</td>\n",
       "      <td>0.0</td>\n",
       "    </tr>\n",
       "    <tr>\n",
       "      <th>4</th>\n",
       "      <td>01-Jan-2022 04:00</td>\n",
       "      <td>01-Jan-2022 05:00</td>\n",
       "      <td>0.0</td>\n",
       "    </tr>\n",
       "  </tbody>\n",
       "</table>\n",
       "</div>"
      ],
      "text/plain": [
       "               Start             Finish  Steps (count)\n",
       "0  01-Jan-2022 00:00  01-Jan-2022 01:00           32.0\n",
       "1  01-Jan-2022 01:00  01-Jan-2022 02:00            0.0\n",
       "2  01-Jan-2022 02:00  01-Jan-2022 03:00            0.0\n",
       "3  01-Jan-2022 03:00  01-Jan-2022 04:00            0.0\n",
       "4  01-Jan-2022 04:00  01-Jan-2022 05:00            0.0"
      ]
     },
     "execution_count": 40,
     "metadata": {},
     "output_type": "execute_result"
    }
   ],
   "source": [
    "data07.head()"
   ]
  },
  {
   "cell_type": "code",
   "execution_count": 41,
   "id": "eb126c64",
   "metadata": {},
   "outputs": [
    {
     "data": {
      "text/html": [
       "<div>\n",
       "<style scoped>\n",
       "    .dataframe tbody tr th:only-of-type {\n",
       "        vertical-align: middle;\n",
       "    }\n",
       "\n",
       "    .dataframe tbody tr th {\n",
       "        vertical-align: top;\n",
       "    }\n",
       "\n",
       "    .dataframe thead th {\n",
       "        text-align: right;\n",
       "    }\n",
       "</style>\n",
       "<table border=\"1\" class=\"dataframe\">\n",
       "  <thead>\n",
       "    <tr style=\"text-align: right;\">\n",
       "      <th></th>\n",
       "      <th>Start</th>\n",
       "      <th>Finish</th>\n",
       "      <th>Steps (count)</th>\n",
       "    </tr>\n",
       "  </thead>\n",
       "  <tbody>\n",
       "    <tr>\n",
       "      <th>6128</th>\n",
       "      <td>13-Sep-2022 07:00</td>\n",
       "      <td>13-Sep-2022 08:00</td>\n",
       "      <td>798.0</td>\n",
       "    </tr>\n",
       "    <tr>\n",
       "      <th>6129</th>\n",
       "      <td>13-Sep-2022 08:00</td>\n",
       "      <td>13-Sep-2022 09:00</td>\n",
       "      <td>139.0</td>\n",
       "    </tr>\n",
       "    <tr>\n",
       "      <th>6130</th>\n",
       "      <td>13-Sep-2022 09:00</td>\n",
       "      <td>13-Sep-2022 10:00</td>\n",
       "      <td>392.0</td>\n",
       "    </tr>\n",
       "    <tr>\n",
       "      <th>6131</th>\n",
       "      <td>13-Sep-2022 10:00</td>\n",
       "      <td>13-Sep-2022 11:00</td>\n",
       "      <td>328.0</td>\n",
       "    </tr>\n",
       "    <tr>\n",
       "      <th>6132</th>\n",
       "      <td>13-Sep-2022 11:00</td>\n",
       "      <td>13-Sep-2022 12:00</td>\n",
       "      <td>0.0</td>\n",
       "    </tr>\n",
       "  </tbody>\n",
       "</table>\n",
       "</div>"
      ],
      "text/plain": [
       "                  Start             Finish  Steps (count)\n",
       "6128  13-Sep-2022 07:00  13-Sep-2022 08:00          798.0\n",
       "6129  13-Sep-2022 08:00  13-Sep-2022 09:00          139.0\n",
       "6130  13-Sep-2022 09:00  13-Sep-2022 10:00          392.0\n",
       "6131  13-Sep-2022 10:00  13-Sep-2022 11:00          328.0\n",
       "6132  13-Sep-2022 11:00  13-Sep-2022 12:00            0.0"
      ]
     },
     "execution_count": 41,
     "metadata": {},
     "output_type": "execute_result"
    }
   ],
   "source": [
    "data07.tail()"
   ]
  },
  {
   "cell_type": "markdown",
   "id": "fc0f5372",
   "metadata": {},
   "source": [
    "According to the data07 dataset, it record the start time and finish time pf participants taking steps and the count of steps in each one hour period. The finish time range is between 01/01/2022 0:00 and 13/09/2022 12:00.\n",
    "\n",
    "Check the null value"
   ]
  },
  {
   "cell_type": "code",
   "execution_count": 42,
   "id": "de83296b",
   "metadata": {},
   "outputs": [
    {
     "name": "stdout",
     "output_type": "stream",
     "text": [
      "Steps (count)    0\n",
      "month            0\n",
      "date             0\n",
      "dtype: int64\n"
     ]
    }
   ],
   "source": [
    "data07['month'] = pd.to_datetime(data07['Finish'], dayfirst=True).dt.month \n",
    "data07['date'] = pd.to_datetime(data07['Finish'], dayfirst=True).dt.date\n",
    "data07 = data07.drop('Start', axis=1)\n",
    "data07 = data07.drop('Finish', axis=1)\n",
    "print(data07.isnull().sum())"
   ]
  },
  {
   "cell_type": "markdown",
   "id": "cdd51e6d",
   "metadata": {},
   "source": [
    "Aggregate the total steps per day"
   ]
  },
  {
   "cell_type": "code",
   "execution_count": 43,
   "id": "89b59120",
   "metadata": {},
   "outputs": [
    {
     "data": {
      "text/html": [
       "<div>\n",
       "<style scoped>\n",
       "    .dataframe tbody tr th:only-of-type {\n",
       "        vertical-align: middle;\n",
       "    }\n",
       "\n",
       "    .dataframe tbody tr th {\n",
       "        vertical-align: top;\n",
       "    }\n",
       "\n",
       "    .dataframe thead th {\n",
       "        text-align: right;\n",
       "    }\n",
       "</style>\n",
       "<table border=\"1\" class=\"dataframe\">\n",
       "  <thead>\n",
       "    <tr style=\"text-align: right;\">\n",
       "      <th></th>\n",
       "      <th>total_steps_per_day</th>\n",
       "      <th>month</th>\n",
       "    </tr>\n",
       "    <tr>\n",
       "      <th>date</th>\n",
       "      <th></th>\n",
       "      <th></th>\n",
       "    </tr>\n",
       "  </thead>\n",
       "  <tbody>\n",
       "    <tr>\n",
       "      <th>2022-01-01</th>\n",
       "      <td>6758.000000</td>\n",
       "      <td>1</td>\n",
       "    </tr>\n",
       "    <tr>\n",
       "      <th>2022-01-02</th>\n",
       "      <td>7982.000000</td>\n",
       "      <td>1</td>\n",
       "    </tr>\n",
       "    <tr>\n",
       "      <th>2022-01-03</th>\n",
       "      <td>7294.000000</td>\n",
       "      <td>1</td>\n",
       "    </tr>\n",
       "    <tr>\n",
       "      <th>2022-01-04</th>\n",
       "      <td>5918.851895</td>\n",
       "      <td>1</td>\n",
       "    </tr>\n",
       "    <tr>\n",
       "      <th>2022-01-05</th>\n",
       "      <td>11143.148105</td>\n",
       "      <td>1</td>\n",
       "    </tr>\n",
       "    <tr>\n",
       "      <th>...</th>\n",
       "      <td>...</td>\n",
       "      <td>...</td>\n",
       "    </tr>\n",
       "    <tr>\n",
       "      <th>2022-08-27</th>\n",
       "      <td>6133.000000</td>\n",
       "      <td>8</td>\n",
       "    </tr>\n",
       "    <tr>\n",
       "      <th>2022-08-28</th>\n",
       "      <td>8702.888453</td>\n",
       "      <td>8</td>\n",
       "    </tr>\n",
       "    <tr>\n",
       "      <th>2022-08-29</th>\n",
       "      <td>8034.911086</td>\n",
       "      <td>8</td>\n",
       "    </tr>\n",
       "    <tr>\n",
       "      <th>2022-08-30</th>\n",
       "      <td>11837.384971</td>\n",
       "      <td>8</td>\n",
       "    </tr>\n",
       "    <tr>\n",
       "      <th>2022-08-31</th>\n",
       "      <td>7845.437459</td>\n",
       "      <td>8</td>\n",
       "    </tr>\n",
       "  </tbody>\n",
       "</table>\n",
       "<p>243 rows × 2 columns</p>\n",
       "</div>"
      ],
      "text/plain": [
       "            total_steps_per_day  month\n",
       "date                                  \n",
       "2022-01-01          6758.000000      1\n",
       "2022-01-02          7982.000000      1\n",
       "2022-01-03          7294.000000      1\n",
       "2022-01-04          5918.851895      1\n",
       "2022-01-05         11143.148105      1\n",
       "...                         ...    ...\n",
       "2022-08-27          6133.000000      8\n",
       "2022-08-28          8702.888453      8\n",
       "2022-08-29          8034.911086      8\n",
       "2022-08-30         11837.384971      8\n",
       "2022-08-31          7845.437459      8\n",
       "\n",
       "[243 rows x 2 columns]"
      ]
     },
     "execution_count": 43,
     "metadata": {},
     "output_type": "execute_result"
    }
   ],
   "source": [
    "cleaned_date_p7 = data07.groupby('date').agg(total_steps_per_day=pd.NamedAgg(column=\"Steps (count)\", aggfunc=\"sum\"),\n",
    "                                      month=pd.NamedAgg(column=\"month\", aggfunc=\"max\"))\n",
    "\n",
    "cleaned_date_p7 = cleaned_date_p7.drop(cleaned_date_p7[cleaned_date_p7.month == 9].index)\n",
    "cleaned_date_p7"
   ]
  },
  {
   "cell_type": "markdown",
   "id": "21dd10f7",
   "metadata": {},
   "source": [
    "Aggregate the total steps per month and the healthy standard steps"
   ]
  },
  {
   "cell_type": "code",
   "execution_count": 44,
   "id": "12e7bf0d",
   "metadata": {},
   "outputs": [],
   "source": [
    "clean_month_steps = cleaned_date_p7.groupby('month').agg(total_steps_per_month=pd.NamedAgg(column=\"total_steps_per_day\", aggfunc=\"sum\"))\n",
    "clean_month_date = cleaned_date_p7.groupby('month').count()\n",
    "clean_healthy = clean_month_date * 7000"
   ]
  },
  {
   "cell_type": "code",
   "execution_count": 45,
   "id": "ac44ff07",
   "metadata": {},
   "outputs": [
    {
     "data": {
      "text/html": [
       "<div>\n",
       "<style scoped>\n",
       "    .dataframe tbody tr th:only-of-type {\n",
       "        vertical-align: middle;\n",
       "    }\n",
       "\n",
       "    .dataframe tbody tr th {\n",
       "        vertical-align: top;\n",
       "    }\n",
       "\n",
       "    .dataframe thead th {\n",
       "        text-align: right;\n",
       "    }\n",
       "</style>\n",
       "<table border=\"1\" class=\"dataframe\">\n",
       "  <thead>\n",
       "    <tr style=\"text-align: right;\">\n",
       "      <th></th>\n",
       "      <th>total_steps_per_month</th>\n",
       "      <th>health_standard</th>\n",
       "    </tr>\n",
       "    <tr>\n",
       "      <th>month</th>\n",
       "      <th></th>\n",
       "      <th></th>\n",
       "    </tr>\n",
       "  </thead>\n",
       "  <tbody>\n",
       "    <tr>\n",
       "      <th>1</th>\n",
       "      <td>231945.0</td>\n",
       "      <td>217000</td>\n",
       "    </tr>\n",
       "    <tr>\n",
       "      <th>2</th>\n",
       "      <td>226701.0</td>\n",
       "      <td>196000</td>\n",
       "    </tr>\n",
       "    <tr>\n",
       "      <th>3</th>\n",
       "      <td>251729.0</td>\n",
       "      <td>217000</td>\n",
       "    </tr>\n",
       "    <tr>\n",
       "      <th>4</th>\n",
       "      <td>226521.7</td>\n",
       "      <td>210000</td>\n",
       "    </tr>\n",
       "    <tr>\n",
       "      <th>5</th>\n",
       "      <td>232167.3</td>\n",
       "      <td>217000</td>\n",
       "    </tr>\n",
       "    <tr>\n",
       "      <th>6</th>\n",
       "      <td>221728.0</td>\n",
       "      <td>210000</td>\n",
       "    </tr>\n",
       "    <tr>\n",
       "      <th>7</th>\n",
       "      <td>230560.0</td>\n",
       "      <td>217000</td>\n",
       "    </tr>\n",
       "    <tr>\n",
       "      <th>8</th>\n",
       "      <td>261579.3</td>\n",
       "      <td>217000</td>\n",
       "    </tr>\n",
       "  </tbody>\n",
       "</table>\n",
       "</div>"
      ],
      "text/plain": [
       "       total_steps_per_month  health_standard\n",
       "month                                        \n",
       "1                   231945.0           217000\n",
       "2                   226701.0           196000\n",
       "3                   251729.0           217000\n",
       "4                   226521.7           210000\n",
       "5                   232167.3           217000\n",
       "6                   221728.0           210000\n",
       "7                   230560.0           217000\n",
       "8                   261579.3           217000"
      ]
     },
     "execution_count": 45,
     "metadata": {},
     "output_type": "execute_result"
    }
   ],
   "source": [
    "clean_p7 = pd.concat([clean_month_steps, clean_healthy], axis=1, join=\"inner\")\n",
    "clean_p7.columns.values[1] = \"health_standard\"\n",
    "clean_p7.round(1)"
   ]
  },
  {
   "cell_type": "markdown",
   "id": "66a7a1b7",
   "metadata": {},
   "source": [
    "Calculate the total number of the days that over 7000 steps"
   ]
  },
  {
   "cell_type": "code",
   "execution_count": 46,
   "id": "07054174",
   "metadata": {},
   "outputs": [
    {
     "data": {
      "text/html": [
       "<div>\n",
       "<style scoped>\n",
       "    .dataframe tbody tr th:only-of-type {\n",
       "        vertical-align: middle;\n",
       "    }\n",
       "\n",
       "    .dataframe tbody tr th {\n",
       "        vertical-align: top;\n",
       "    }\n",
       "\n",
       "    .dataframe thead th {\n",
       "        text-align: right;\n",
       "    }\n",
       "</style>\n",
       "<table border=\"1\" class=\"dataframe\">\n",
       "  <thead>\n",
       "    <tr style=\"text-align: right;\">\n",
       "      <th></th>\n",
       "      <th>total_days_over_7000</th>\n",
       "    </tr>\n",
       "    <tr>\n",
       "      <th>month</th>\n",
       "      <th></th>\n",
       "    </tr>\n",
       "  </thead>\n",
       "  <tbody>\n",
       "    <tr>\n",
       "      <th>1</th>\n",
       "      <td>18</td>\n",
       "    </tr>\n",
       "    <tr>\n",
       "      <th>2</th>\n",
       "      <td>20</td>\n",
       "    </tr>\n",
       "    <tr>\n",
       "      <th>3</th>\n",
       "      <td>19</td>\n",
       "    </tr>\n",
       "    <tr>\n",
       "      <th>4</th>\n",
       "      <td>20</td>\n",
       "    </tr>\n",
       "    <tr>\n",
       "      <th>5</th>\n",
       "      <td>19</td>\n",
       "    </tr>\n",
       "    <tr>\n",
       "      <th>6</th>\n",
       "      <td>15</td>\n",
       "    </tr>\n",
       "    <tr>\n",
       "      <th>7</th>\n",
       "      <td>18</td>\n",
       "    </tr>\n",
       "    <tr>\n",
       "      <th>8</th>\n",
       "      <td>24</td>\n",
       "    </tr>\n",
       "  </tbody>\n",
       "</table>\n",
       "</div>"
      ],
      "text/plain": [
       "       total_days_over_7000\n",
       "month                      \n",
       "1                        18\n",
       "2                        20\n",
       "3                        19\n",
       "4                        20\n",
       "5                        19\n",
       "6                        15\n",
       "7                        18\n",
       "8                        24"
      ]
     },
     "execution_count": 46,
     "metadata": {},
     "output_type": "execute_result"
    }
   ],
   "source": [
    "cleaned_count_p7 = cleaned_date_p7.groupby('month')['total_steps_per_day'].apply(lambda x: x[x >= 7000].count())\n",
    "cleaned_count_p7 = pd.DataFrame(data = cleaned_count_p7)\n",
    "cleaned_count_p7.columns.values[0] = \"total_days_over_7000\"\n",
    "cleaned_count_p7"
   ]
  },
  {
   "cell_type": "markdown",
   "id": "8737db2a",
   "metadata": {},
   "source": [
    "Calculate the proportion"
   ]
  },
  {
   "cell_type": "code",
   "execution_count": 47,
   "id": "8165a6bb",
   "metadata": {},
   "outputs": [
    {
     "data": {
      "text/html": [
       "<div>\n",
       "<style scoped>\n",
       "    .dataframe tbody tr th:only-of-type {\n",
       "        vertical-align: middle;\n",
       "    }\n",
       "\n",
       "    .dataframe tbody tr th {\n",
       "        vertical-align: top;\n",
       "    }\n",
       "\n",
       "    .dataframe thead th {\n",
       "        text-align: right;\n",
       "    }\n",
       "</style>\n",
       "<table border=\"1\" class=\"dataframe\">\n",
       "  <thead>\n",
       "    <tr style=\"text-align: right;\">\n",
       "      <th></th>\n",
       "      <th>health_proportion(%)</th>\n",
       "    </tr>\n",
       "    <tr>\n",
       "      <th>month</th>\n",
       "      <th></th>\n",
       "    </tr>\n",
       "  </thead>\n",
       "  <tbody>\n",
       "    <tr>\n",
       "      <th>1</th>\n",
       "      <td>0.580645</td>\n",
       "    </tr>\n",
       "    <tr>\n",
       "      <th>2</th>\n",
       "      <td>0.714286</td>\n",
       "    </tr>\n",
       "    <tr>\n",
       "      <th>3</th>\n",
       "      <td>0.612903</td>\n",
       "    </tr>\n",
       "    <tr>\n",
       "      <th>4</th>\n",
       "      <td>0.666667</td>\n",
       "    </tr>\n",
       "    <tr>\n",
       "      <th>5</th>\n",
       "      <td>0.612903</td>\n",
       "    </tr>\n",
       "    <tr>\n",
       "      <th>6</th>\n",
       "      <td>0.500000</td>\n",
       "    </tr>\n",
       "    <tr>\n",
       "      <th>7</th>\n",
       "      <td>0.580645</td>\n",
       "    </tr>\n",
       "    <tr>\n",
       "      <th>8</th>\n",
       "      <td>0.774194</td>\n",
       "    </tr>\n",
       "  </tbody>\n",
       "</table>\n",
       "</div>"
      ],
      "text/plain": [
       "       health_proportion(%)\n",
       "month                      \n",
       "1                  0.580645\n",
       "2                  0.714286\n",
       "3                  0.612903\n",
       "4                  0.666667\n",
       "5                  0.612903\n",
       "6                  0.500000\n",
       "7                  0.580645\n",
       "8                  0.774194"
      ]
     },
     "execution_count": 47,
     "metadata": {},
     "output_type": "execute_result"
    }
   ],
   "source": [
    "proportion = cleaned_count_p7['total_days_over_7000'] / clean_month_date['total_steps_per_day']\n",
    "proportion = pd.DataFrame(data = proportion)\n",
    "proportion.columns = proportion.columns.astype(str)\n",
    "proportion.columns.values[0] = \"health_proportion(%)\"\n",
    "proportion"
   ]
  },
  {
   "cell_type": "code",
   "execution_count": 48,
   "id": "1073ff76",
   "metadata": {},
   "outputs": [
    {
     "data": {
      "text/html": [
       "<div>\n",
       "<style scoped>\n",
       "    .dataframe tbody tr th:only-of-type {\n",
       "        vertical-align: middle;\n",
       "    }\n",
       "\n",
       "    .dataframe tbody tr th {\n",
       "        vertical-align: top;\n",
       "    }\n",
       "\n",
       "    .dataframe thead th {\n",
       "        text-align: right;\n",
       "    }\n",
       "</style>\n",
       "<table border=\"1\" class=\"dataframe\">\n",
       "  <thead>\n",
       "    <tr style=\"text-align: right;\">\n",
       "      <th></th>\n",
       "      <th>health_proportion(%)</th>\n",
       "    </tr>\n",
       "    <tr>\n",
       "      <th>month</th>\n",
       "      <th></th>\n",
       "    </tr>\n",
       "  </thead>\n",
       "  <tbody>\n",
       "    <tr>\n",
       "      <th>1</th>\n",
       "      <td>58.06</td>\n",
       "    </tr>\n",
       "    <tr>\n",
       "      <th>2</th>\n",
       "      <td>71.43</td>\n",
       "    </tr>\n",
       "    <tr>\n",
       "      <th>3</th>\n",
       "      <td>61.29</td>\n",
       "    </tr>\n",
       "    <tr>\n",
       "      <th>4</th>\n",
       "      <td>66.67</td>\n",
       "    </tr>\n",
       "    <tr>\n",
       "      <th>5</th>\n",
       "      <td>61.29</td>\n",
       "    </tr>\n",
       "    <tr>\n",
       "      <th>6</th>\n",
       "      <td>50.00</td>\n",
       "    </tr>\n",
       "    <tr>\n",
       "      <th>7</th>\n",
       "      <td>58.06</td>\n",
       "    </tr>\n",
       "    <tr>\n",
       "      <th>8</th>\n",
       "      <td>77.42</td>\n",
       "    </tr>\n",
       "  </tbody>\n",
       "</table>\n",
       "</div>"
      ],
      "text/plain": [
       "       health_proportion(%)\n",
       "month                      \n",
       "1                     58.06\n",
       "2                     71.43\n",
       "3                     61.29\n",
       "4                     66.67\n",
       "5                     61.29\n",
       "6                     50.00\n",
       "7                     58.06\n",
       "8                     77.42"
      ]
     },
     "execution_count": 48,
     "metadata": {},
     "output_type": "execute_result"
    }
   ],
   "source": [
    "proportion = proportion * 100\n",
    "proportion.round(2)"
   ]
  },
  {
   "cell_type": "markdown",
   "id": "bc07038b",
   "metadata": {},
   "source": [
    "Average poportion:"
   ]
  },
  {
   "cell_type": "code",
   "execution_count": 49,
   "id": "ddbd68c6",
   "metadata": {},
   "outputs": [
    {
     "data": {
      "text/plain": [
       "63.02803379416283"
      ]
     },
     "execution_count": 49,
     "metadata": {},
     "output_type": "execute_result"
    }
   ],
   "source": [
    "proportion['health_proportion(%)'].mean()"
   ]
  },
  {
   "cell_type": "markdown",
   "id": "d41d1e76",
   "metadata": {},
   "source": [
    "Proportion area chart of participant 07"
   ]
  },
  {
   "cell_type": "code",
   "execution_count": 50,
   "id": "dd3bdb8f",
   "metadata": {},
   "outputs": [
    {
     "data": {
      "image/svg+xml": [
       "<svg class=\"main-svg\" xmlns=\"http://www.w3.org/2000/svg\" xmlns:xlink=\"http://www.w3.org/1999/xlink\" width=\"700\" height=\"500\" style=\"\" viewBox=\"0 0 700 500\"><rect x=\"0\" y=\"0\" width=\"700\" height=\"500\" style=\"fill: rgb(245, 246, 249); fill-opacity: 1;\"/><defs id=\"defs-d1f508\"><g class=\"clips\"><clipPath id=\"clipd1f508xyplot\" class=\"plotclip\"><rect width=\"540\" height=\"320\"/></clipPath><clipPath class=\"axesclip\" id=\"clipd1f508x\"><rect x=\"80\" y=\"0\" width=\"540\" height=\"500\"/></clipPath><clipPath class=\"axesclip\" id=\"clipd1f508y\"><rect x=\"0\" y=\"100\" width=\"700\" height=\"320\"/></clipPath><clipPath class=\"axesclip\" id=\"clipd1f508xy\"><rect x=\"80\" y=\"100\" width=\"540\" height=\"320\"/></clipPath></g><g class=\"gradients\"/><g class=\"patterns\"/></defs><g class=\"bglayer\"/><g class=\"layer-below\"><g class=\"imagelayer\"/><g class=\"shapelayer\"/></g><g class=\"cartesianlayer\"><g class=\"subplot xy\"><g class=\"layer-subplot\"><g class=\"shapelayer\"/><g class=\"imagelayer\"/></g><g class=\"gridlayer\"><g class=\"x\"><path class=\"xgrid crisp\" transform=\"translate(157.14,0)\" d=\"M0,100v320\" style=\"stroke: rgb(225, 229, 237); stroke-opacity: 1; stroke-width: 1px;\"/><path class=\"xgrid crisp\" transform=\"translate(234.29,0)\" d=\"M0,100v320\" style=\"stroke: rgb(225, 229, 237); stroke-opacity: 1; stroke-width: 1px;\"/><path class=\"xgrid crisp\" transform=\"translate(311.43,0)\" d=\"M0,100v320\" style=\"stroke: rgb(225, 229, 237); stroke-opacity: 1; stroke-width: 1px;\"/><path class=\"xgrid crisp\" transform=\"translate(388.57,0)\" d=\"M0,100v320\" style=\"stroke: rgb(225, 229, 237); stroke-opacity: 1; stroke-width: 1px;\"/><path class=\"xgrid crisp\" transform=\"translate(465.71,0)\" d=\"M0,100v320\" style=\"stroke: rgb(225, 229, 237); stroke-opacity: 1; stroke-width: 1px;\"/><path class=\"xgrid crisp\" transform=\"translate(542.86,0)\" d=\"M0,100v320\" style=\"stroke: rgb(225, 229, 237); stroke-opacity: 1; stroke-width: 1px;\"/></g><g class=\"y\"><path class=\"ygrid crisp\" transform=\"translate(0,380.73)\" d=\"M80,0h540\" style=\"stroke: rgb(225, 229, 237); stroke-opacity: 1; stroke-width: 1px;\"/><path class=\"ygrid crisp\" transform=\"translate(0,341.47)\" d=\"M80,0h540\" style=\"stroke: rgb(225, 229, 237); stroke-opacity: 1; stroke-width: 1px;\"/><path class=\"ygrid crisp\" transform=\"translate(0,302.2)\" d=\"M80,0h540\" style=\"stroke: rgb(225, 229, 237); stroke-opacity: 1; stroke-width: 1px;\"/><path class=\"ygrid crisp\" transform=\"translate(0,262.93)\" d=\"M80,0h540\" style=\"stroke: rgb(225, 229, 237); stroke-opacity: 1; stroke-width: 1px;\"/><path class=\"ygrid crisp\" transform=\"translate(0,223.67000000000002)\" d=\"M80,0h540\" style=\"stroke: rgb(225, 229, 237); stroke-opacity: 1; stroke-width: 1px;\"/><path class=\"ygrid crisp\" transform=\"translate(0,184.4)\" d=\"M80,0h540\" style=\"stroke: rgb(225, 229, 237); stroke-opacity: 1; stroke-width: 1px;\"/><path class=\"ygrid crisp\" transform=\"translate(0,145.13)\" d=\"M80,0h540\" style=\"stroke: rgb(225, 229, 237); stroke-opacity: 1; stroke-width: 1px;\"/><path class=\"ygrid crisp\" transform=\"translate(0,105.87)\" d=\"M80,0h540\" style=\"stroke: rgb(225, 229, 237); stroke-opacity: 1; stroke-width: 1px;\"/></g></g><g class=\"zerolinelayer\"><path class=\"yzl zl crisp\" transform=\"translate(0,420)\" d=\"M80,0h540\" style=\"stroke: rgb(225, 229, 237); stroke-opacity: 1; stroke-width: 2px;\"/></g><path class=\"xlines-below\"/><path class=\"ylines-below\"/><g class=\"overlines-below\"/><g class=\"xaxislayer-below\"/><g class=\"yaxislayer-below\"/><g class=\"overaxes-below\"/><g class=\"plot\" transform=\"translate(80,100)\" clip-path=\"url(#clipd1f508xyplot)\"><g class=\"scatterlayer mlayer\"><g class=\"trace scatter trace51e3e3\" style=\"stroke-miterlimit: 2;\"><g class=\"fills\"><g><path class=\"js-fill\" d=\"M540,320L0,320L0,92L77.14,39.52L154.29,79.33L231.43,58.22L308.57,79.33L385.71,123.67L462.86,92L540,16\" style=\"fill: rgb(255, 153, 51); fill-opacity: 0.3; stroke-width: 0;\"/></g></g><g class=\"errorbars\"/><g class=\"lines\"><path class=\"js-line\" d=\"M0,92L77.14,39.52L154.29,79.33L231.43,58.22L308.57,79.33L385.71,123.67L462.86,92L540,16\" style=\"vector-effect: non-scaling-stroke; fill: none; stroke: rgb(255, 153, 51); stroke-opacity: 1; stroke-width: 1.3px; opacity: 1;\"/></g><g class=\"points\"/><g class=\"text\"/></g></g></g><g class=\"overplot\"/><path class=\"xlines-above crisp\" d=\"M0,0\" style=\"fill: none;\"/><path class=\"ylines-above crisp\" d=\"M0,0\" style=\"fill: none;\"/><g class=\"overlines-above\"/><g class=\"xaxislayer-above\"><g class=\"xtick\"><text text-anchor=\"middle\" x=\"0\" y=\"433\" transform=\"translate(80,0)\" style=\"font-family: 'Open Sans', verdana, arial, sans-serif; font-size: 12px; fill: rgb(77, 86, 99); fill-opacity: 1; white-space: pre; opacity: 1;\">1</text></g><g class=\"xtick\"><text text-anchor=\"middle\" x=\"0\" y=\"433\" style=\"font-family: 'Open Sans', verdana, arial, sans-serif; font-size: 12px; fill: rgb(77, 86, 99); fill-opacity: 1; white-space: pre; opacity: 1;\" transform=\"translate(157.14,0)\">2</text></g><g class=\"xtick\"><text text-anchor=\"middle\" x=\"0\" y=\"433\" style=\"font-family: 'Open Sans', verdana, arial, sans-serif; font-size: 12px; fill: rgb(77, 86, 99); fill-opacity: 1; white-space: pre; opacity: 1;\" transform=\"translate(234.29,0)\">3</text></g><g class=\"xtick\"><text text-anchor=\"middle\" x=\"0\" y=\"433\" style=\"font-family: 'Open Sans', verdana, arial, sans-serif; font-size: 12px; fill: rgb(77, 86, 99); fill-opacity: 1; white-space: pre; opacity: 1;\" transform=\"translate(311.43,0)\">4</text></g><g class=\"xtick\"><text text-anchor=\"middle\" x=\"0\" y=\"433\" style=\"font-family: 'Open Sans', verdana, arial, sans-serif; font-size: 12px; fill: rgb(77, 86, 99); fill-opacity: 1; white-space: pre; opacity: 1;\" transform=\"translate(388.57,0)\">5</text></g><g class=\"xtick\"><text text-anchor=\"middle\" x=\"0\" y=\"433\" style=\"font-family: 'Open Sans', verdana, arial, sans-serif; font-size: 12px; fill: rgb(77, 86, 99); fill-opacity: 1; white-space: pre; opacity: 1;\" transform=\"translate(465.71,0)\">6</text></g><g class=\"xtick\"><text text-anchor=\"middle\" x=\"0\" y=\"433\" style=\"font-family: 'Open Sans', verdana, arial, sans-serif; font-size: 12px; fill: rgb(77, 86, 99); fill-opacity: 1; white-space: pre; opacity: 1;\" transform=\"translate(542.86,0)\">7</text></g><g class=\"xtick\"><text text-anchor=\"middle\" x=\"0\" y=\"433\" style=\"font-family: 'Open Sans', verdana, arial, sans-serif; font-size: 12px; fill: rgb(77, 86, 99); fill-opacity: 1; white-space: pre; opacity: 1;\" transform=\"translate(620,0)\">8</text></g></g><g class=\"yaxislayer-above\"><g class=\"ytick\"><text text-anchor=\"end\" x=\"79\" y=\"4.199999999999999\" transform=\"translate(0,420)\" style=\"font-family: 'Open Sans', verdana, arial, sans-serif; font-size: 12px; fill: rgb(77, 86, 99); fill-opacity: 1; white-space: pre; opacity: 1;\">0</text></g><g class=\"ytick\"><text text-anchor=\"end\" x=\"79\" y=\"4.199999999999999\" style=\"font-family: 'Open Sans', verdana, arial, sans-serif; font-size: 12px; fill: rgb(77, 86, 99); fill-opacity: 1; white-space: pre; opacity: 1;\" transform=\"translate(0,380.73)\">10</text></g><g class=\"ytick\"><text text-anchor=\"end\" x=\"79\" y=\"4.199999999999999\" style=\"font-family: 'Open Sans', verdana, arial, sans-serif; font-size: 12px; fill: rgb(77, 86, 99); fill-opacity: 1; white-space: pre; opacity: 1;\" transform=\"translate(0,341.47)\">20</text></g><g class=\"ytick\"><text text-anchor=\"end\" x=\"79\" y=\"4.199999999999999\" style=\"font-family: 'Open Sans', verdana, arial, sans-serif; font-size: 12px; fill: rgb(77, 86, 99); fill-opacity: 1; white-space: pre; opacity: 1;\" transform=\"translate(0,302.2)\">30</text></g><g class=\"ytick\"><text text-anchor=\"end\" x=\"79\" y=\"4.199999999999999\" style=\"font-family: 'Open Sans', verdana, arial, sans-serif; font-size: 12px; fill: rgb(77, 86, 99); fill-opacity: 1; white-space: pre; opacity: 1;\" transform=\"translate(0,262.93)\">40</text></g><g class=\"ytick\"><text text-anchor=\"end\" x=\"79\" y=\"4.199999999999999\" style=\"font-family: 'Open Sans', verdana, arial, sans-serif; font-size: 12px; fill: rgb(77, 86, 99); fill-opacity: 1; white-space: pre; opacity: 1;\" transform=\"translate(0,223.67000000000002)\">50</text></g><g class=\"ytick\"><text text-anchor=\"end\" x=\"79\" y=\"4.199999999999999\" style=\"font-family: 'Open Sans', verdana, arial, sans-serif; font-size: 12px; fill: rgb(77, 86, 99); fill-opacity: 1; white-space: pre; opacity: 1;\" transform=\"translate(0,184.4)\">60</text></g><g class=\"ytick\"><text text-anchor=\"end\" x=\"79\" y=\"4.199999999999999\" style=\"font-family: 'Open Sans', verdana, arial, sans-serif; font-size: 12px; fill: rgb(77, 86, 99); fill-opacity: 1; white-space: pre; opacity: 1;\" transform=\"translate(0,145.13)\">70</text></g><g class=\"ytick\"><text text-anchor=\"end\" x=\"79\" y=\"4.199999999999999\" style=\"font-family: 'Open Sans', verdana, arial, sans-serif; font-size: 12px; fill: rgb(77, 86, 99); fill-opacity: 1; white-space: pre; opacity: 1;\" transform=\"translate(0,105.87)\">80</text></g></g><g class=\"overaxes-above\"/></g></g><g class=\"polarlayer\"/><g class=\"smithlayer\"/><g class=\"ternarylayer\"/><g class=\"geolayer\"/><g class=\"funnelarealayer\"/><g class=\"pielayer\"/><g class=\"iciclelayer\"/><g class=\"treemaplayer\"/><g class=\"sunburstlayer\"/><g class=\"glimages\"/><defs id=\"topdefs-d1f508\"><g class=\"clips\"/></defs><g class=\"layer-above\"><g class=\"imagelayer\"/><g class=\"shapelayer\"/></g><g class=\"infolayer\"><g class=\"g-gtitle\"><text class=\"gtitle\" x=\"35\" y=\"50\" text-anchor=\"start\" dy=\"0em\" style=\"font-family: 'Open Sans', verdana, arial, sans-serif; font-size: 17px; fill: rgb(77, 86, 99); opacity: 1; font-weight: normal; white-space: pre;\">Figure 7: Healthy proportion in each month of Participant07</text></g><g class=\"g-xtitle\"><text class=\"xtitle\" x=\"350\" y=\"460.3\" text-anchor=\"middle\" style=\"font-family: 'Open Sans', verdana, arial, sans-serif; font-size: 14px; fill: rgb(77, 86, 99); opacity: 1; font-weight: normal; white-space: pre;\">Month</text></g><g class=\"g-ytitle\"><text class=\"ytitle\" transform=\"rotate(-90,38.934375,260)\" x=\"38.934375\" y=\"260\" text-anchor=\"middle\" style=\"font-family: 'Open Sans', verdana, arial, sans-serif; font-size: 14px; fill: rgb(77, 86, 99); opacity: 1; font-weight: normal; white-space: pre;\">Health Proportion（%）</text></g></g></svg>"
      ]
     },
     "metadata": {},
     "output_type": "display_data"
    }
   ],
   "source": [
    "proportion.figure(y=\"health_proportion(%)\",\n",
    "               fill=True,\n",
    "               xTitle=\"Month\", yTitle=\"Health Proportion（%）\", title=\"Figure 7: Healthy proportion in each month of Participant07\"\n",
    "               )"
   ]
  },
  {
   "cell_type": "markdown",
   "id": "04091d61",
   "metadata": {},
   "source": [
    "Heatmap of participant 07"
   ]
  },
  {
   "cell_type": "code",
   "execution_count": 51,
   "id": "0f2fe130",
   "metadata": {},
   "outputs": [
    {
     "data": {
      "image/svg+xml": [
       "<svg class=\"main-svg\" xmlns=\"http://www.w3.org/2000/svg\" xmlns:xlink=\"http://www.w3.org/1999/xlink\" width=\"700\" height=\"500\" style=\"\" viewBox=\"0 0 700 500\"><rect x=\"0\" y=\"0\" width=\"700\" height=\"500\" style=\"fill: rgb(245, 246, 249); fill-opacity: 1;\"/><defs id=\"defs-b97d84\"><g class=\"clips\"><clipPath id=\"clipb97d84xyplot\" class=\"plotclip\"><rect width=\"445\" height=\"320\"/></clipPath><clipPath class=\"axesclip\" id=\"clipb97d84x\"><rect x=\"169\" y=\"0\" width=\"445\" height=\"500\"/></clipPath><clipPath class=\"axesclip\" id=\"clipb97d84y\"><rect x=\"0\" y=\"100\" width=\"700\" height=\"320\"/></clipPath><clipPath class=\"axesclip\" id=\"clipb97d84xy\"><rect x=\"169\" y=\"100\" width=\"445\" height=\"320\"/></clipPath></g><g class=\"gradients\"><linearGradient x1=\"0\" x2=\"0\" y1=\"1\" y2=\"0\" id=\"gb97d84-cbed5f51\"><stop offset=\"0%\" stop-color=\"rgb(247, 251, 255)\" stop-opacity=\"1\"/><stop offset=\"12.5%\" stop-color=\"rgb(222, 235, 247)\" stop-opacity=\"1\"/><stop offset=\"25%\" stop-color=\"rgb(198, 219, 239)\" stop-opacity=\"1\"/><stop offset=\"37.5%\" stop-color=\"rgb(158, 202, 225)\" stop-opacity=\"1\"/><stop offset=\"50%\" stop-color=\"rgb(107, 174, 214)\" stop-opacity=\"1\"/><stop offset=\"62.5%\" stop-color=\"rgb(66, 146, 198)\" stop-opacity=\"1\"/><stop offset=\"75%\" stop-color=\"rgb(33, 113, 181)\" stop-opacity=\"1\"/><stop offset=\"87.5%\" stop-color=\"rgb(8, 81, 156)\" stop-opacity=\"1\"/><stop offset=\"100%\" stop-color=\"rgb(8, 48, 107)\" stop-opacity=\"1\"/></linearGradient></g><g class=\"patterns\"/></defs><g class=\"bglayer\"/><g class=\"layer-below\"><g class=\"imagelayer\"/><g class=\"shapelayer\"/></g><g class=\"cartesianlayer\"><g class=\"subplot xy\"><g class=\"layer-subplot\"><g class=\"shapelayer\"/><g class=\"imagelayer\"/></g><g class=\"gridlayer\"><g class=\"x\"><path class=\"xgrid crisp\" transform=\"translate(252.44,0)\" d=\"M0,100v320\" style=\"stroke: rgb(225, 229, 237); stroke-opacity: 1; stroke-width: 1px;\"/><path class=\"xgrid crisp\" transform=\"translate(363.69,0)\" d=\"M0,100v320\" style=\"stroke: rgb(225, 229, 237); stroke-opacity: 1; stroke-width: 1px;\"/><path class=\"xgrid crisp\" transform=\"translate(474.94,0)\" d=\"M0,100v320\" style=\"stroke: rgb(225, 229, 237); stroke-opacity: 1; stroke-width: 1px;\"/><path class=\"xgrid crisp\" transform=\"translate(586.19,0)\" d=\"M0,100v320\" style=\"stroke: rgb(225, 229, 237); stroke-opacity: 1; stroke-width: 1px;\"/></g><g class=\"y\"><path class=\"ygrid crisp\" transform=\"translate(0,260)\" d=\"M169,0h445\" style=\"stroke: rgb(225, 229, 237); stroke-opacity: 1; stroke-width: 1px;\"/></g></g><g class=\"zerolinelayer\"/><path class=\"xlines-below\"/><path class=\"ylines-below\"/><g class=\"overlines-below\"/><g class=\"xaxislayer-below\"/><g class=\"yaxislayer-below\"/><g class=\"overaxes-below\"/><g class=\"plot\" transform=\"translate(169,100)\" clip-path=\"url(#clipb97d84xyplot)\"><g class=\"heatmaplayer mlayer\"><g class=\"hm\"><image xmlns=\"http://www.w3.org/2000/svg\" preserveAspectRatio=\"none\" height=\"320\" width=\"445\" x=\"0\" y=\"0\" xlink:href=\"data:image/png;base64,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\" style=\"opacity: 1;\"/></g></g></g><g class=\"overplot\"/><path class=\"xlines-above crisp\" d=\"M0,0\" style=\"fill: none;\"/><path class=\"ylines-above crisp\" d=\"M0,0\" style=\"fill: none;\"/><g class=\"overlines-above\"/><g class=\"xaxislayer-above\"><g class=\"xtick\"><text text-anchor=\"middle\" x=\"0\" y=\"433\" transform=\"translate(252.44,0)\" style=\"font-family: 'Open Sans', verdana, arial, sans-serif; font-size: 12px; fill: rgb(77, 86, 99); fill-opacity: 1; white-space: pre; opacity: 1;\">2</text></g><g class=\"xtick\"><text text-anchor=\"middle\" x=\"0\" y=\"433\" style=\"font-family: 'Open Sans', verdana, arial, sans-serif; font-size: 12px; fill: rgb(77, 86, 99); fill-opacity: 1; white-space: pre; opacity: 1;\" transform=\"translate(363.69,0)\">4</text></g><g class=\"xtick\"><text text-anchor=\"middle\" x=\"0\" y=\"433\" style=\"font-family: 'Open Sans', verdana, arial, sans-serif; font-size: 12px; fill: rgb(77, 86, 99); fill-opacity: 1; white-space: pre; opacity: 1;\" transform=\"translate(474.94,0)\">6</text></g><g class=\"xtick\"><text text-anchor=\"middle\" x=\"0\" y=\"433\" style=\"font-family: 'Open Sans', verdana, arial, sans-serif; font-size: 12px; fill: rgb(77, 86, 99); fill-opacity: 1; white-space: pre; opacity: 1;\" transform=\"translate(586.19,0)\">8</text></g></g><g class=\"yaxislayer-above\"><g class=\"ytick\"><text text-anchor=\"end\" x=\"168\" y=\"4.199999999999999\" transform=\"translate(0,260)\" style=\"font-family: 'Open Sans', verdana, arial, sans-serif; font-size: 12px; fill: rgb(77, 86, 99); fill-opacity: 1; white-space: pre; opacity: 1;\">health_proportion(%)</text></g></g><g class=\"overaxes-above\"/></g></g><g class=\"polarlayer\"/><g class=\"smithlayer\"/><g class=\"ternarylayer\"/><g class=\"geolayer\"/><g class=\"funnelarealayer\"/><g class=\"pielayer\"/><g class=\"iciclelayer\"/><g class=\"treemaplayer\"/><g class=\"sunburstlayer\"/><g class=\"glimages\"/><defs id=\"topdefs-b97d84\"><g class=\"clips\"/></defs><g class=\"layer-above\"><g class=\"imagelayer\"/><g class=\"shapelayer\"/></g><g class=\"infolayer\"><g class=\"cbed5f51 colorbar\" transform=\"translate(169,100)\"><rect class=\"cbbg\" x=\"454\" y=\"0\" width=\"65.28125\" height=\"320\" style=\"fill: rgb(0, 0, 0); fill-opacity: 0; stroke: rgb(68, 68, 68); stroke-opacity: 1; stroke-width: 0;\"/><g class=\"cbfills\" transform=\"translate(0,10)\"><rect class=\"cbfill\" x=\"464\" y=\"0\" width=\"30\" height=\"300\" style=\"fill: url('#gb97d84-cbed5f51');\"/></g><g class=\"cblines\" transform=\"translate(0,10)\"/><g class=\"cbaxis crisp\" transform=\"translate(0,-100)\"><g class=\"ycbed5f51tick\"><text text-anchor=\"start\" x=\"496.9\" y=\"4.199999999999999\" transform=\"translate(0,410)\" style=\"font-family: 'Open Sans', verdana, arial, sans-serif; font-size: 12px; fill: rgb(42, 63, 95); fill-opacity: 1; white-space: pre; opacity: 1;\">50</text></g><g class=\"ycbed5f51tick\"><text text-anchor=\"start\" x=\"496.9\" y=\"4.199999999999999\" style=\"font-family: 'Open Sans', verdana, arial, sans-serif; font-size: 12px; fill: rgb(42, 63, 95); fill-opacity: 1; white-space: pre; opacity: 1;\" transform=\"translate(0,355.28999999999996)\">55</text></g><g class=\"ycbed5f51tick\"><text text-anchor=\"start\" x=\"496.9\" y=\"4.199999999999999\" style=\"font-family: 'Open Sans', verdana, arial, sans-serif; font-size: 12px; fill: rgb(42, 63, 95); fill-opacity: 1; white-space: pre; opacity: 1;\" transform=\"translate(0,300.59000000000003)\">60</text></g><g class=\"ycbed5f51tick\"><text text-anchor=\"start\" x=\"496.9\" y=\"4.199999999999999\" style=\"font-family: 'Open Sans', verdana, arial, sans-serif; font-size: 12px; fill: rgb(42, 63, 95); fill-opacity: 1; white-space: pre; opacity: 1;\" transform=\"translate(0,245.88)\">65</text></g><g class=\"ycbed5f51tick\"><text text-anchor=\"start\" x=\"496.9\" y=\"4.199999999999999\" style=\"font-family: 'Open Sans', verdana, arial, sans-serif; font-size: 12px; fill: rgb(42, 63, 95); fill-opacity: 1; white-space: pre; opacity: 1;\" transform=\"translate(0,191.18)\">70</text></g><g class=\"ycbed5f51tick\"><text text-anchor=\"start\" x=\"496.9\" y=\"4.199999999999999\" style=\"font-family: 'Open Sans', verdana, arial, sans-serif; font-size: 12px; fill: rgb(42, 63, 95); fill-opacity: 1; white-space: pre; opacity: 1;\" transform=\"translate(0,136.47)\">75</text></g></g><g class=\"cbtitleunshift\" transform=\"translate(-169,-100)\"><g class=\"cbtitle\"/></g><rect class=\"cboutline\" x=\"464\" y=\"10\" width=\"30\" height=\"300\" style=\"stroke: rgb(68, 68, 68); stroke-opacity: 1; fill: none; stroke-width: 0;\"/></g><g class=\"g-gtitle\"><text class=\"gtitle\" x=\"35\" y=\"50\" text-anchor=\"start\" dy=\"0em\" style=\"font-family: 'Open Sans', verdana, arial, sans-serif; font-size: 17px; fill: rgb(77, 86, 99); opacity: 1; font-weight: normal; white-space: pre;\">Figure 8: Healthy proportion intensity of Participant07</text></g><g class=\"g-xtitle\"><text class=\"xtitle\" x=\"391.5\" y=\"460.3\" text-anchor=\"middle\" style=\"font-family: 'Open Sans', verdana, arial, sans-serif; font-size: 14px; fill: rgb(77, 86, 99); opacity: 1; font-weight: normal; white-space: pre;\">Month</text></g><g class=\"g-ytitle\"/></g></svg>"
      ]
     },
     "metadata": {},
     "output_type": "display_data"
    }
   ],
   "source": [
    "proportion.figure(kind=\"heatmap\",\n",
    "                   colorscale=\"Blues\",xTitle=\"Month\",title=\"Figure 8: Healthy proportion intensity of Participant07\",\n",
    "                   dimensions=(700,500))"
   ]
  },
  {
   "cell_type": "markdown",
   "id": "798f5f1a",
   "metadata": {},
   "source": [
    "Build a spread chart of total steps month to month trend"
   ]
  },
  {
   "cell_type": "code",
   "execution_count": 52,
   "id": "b2c194bc",
   "metadata": {},
   "outputs": [
    {
     "name": "stderr",
     "output_type": "stream",
     "text": [
      "/Users/yunshuozhang/opt/anaconda3/lib/python3.9/site-packages/cufflinks/plotlytools.py:850: FutureWarning:\n",
      "\n",
      "The pandas.np module is deprecated and will be removed from pandas in a future version. Import numpy directly instead.\n",
      "\n"
     ]
    },
    {
     "data": {
      "image/svg+xml": [
       "<svg class=\"main-svg\" xmlns=\"http://www.w3.org/2000/svg\" xmlns:xlink=\"http://www.w3.org/1999/xlink\" width=\"700\" height=\"500\" style=\"\" viewBox=\"0 0 700 500\"><rect x=\"0\" y=\"0\" width=\"700\" height=\"500\" style=\"fill: rgb(245, 246, 249); fill-opacity: 1;\"/><defs id=\"defs-339477\"><g class=\"clips\"><clipPath id=\"clip339477xyplot\" class=\"plotclip\"><rect width=\"414\" height=\"224\"/></clipPath><clipPath id=\"clip339477x2y2plot\" class=\"plotclip\"><rect width=\"414\" height=\"80\"/></clipPath><clipPath class=\"axesclip\" id=\"clip339477x\"><rect x=\"80\" y=\"0\" width=\"414\" height=\"500\"/></clipPath><clipPath class=\"axesclip\" id=\"clip339477y\"><rect x=\"0\" y=\"100\" width=\"700\" height=\"224\"/></clipPath><clipPath class=\"axesclip\" id=\"clip339477xy\"><rect x=\"80\" y=\"100\" width=\"414\" height=\"224\"/></clipPath><clipPath class=\"axesclip\" id=\"clip339477y2\"><rect x=\"0\" y=\"340\" width=\"700\" height=\"80\"/></clipPath><clipPath class=\"axesclip\" id=\"clip339477xy2\"><rect x=\"80\" y=\"340\" width=\"414\" height=\"80\"/></clipPath><clipPath class=\"axesclip\" id=\"clip339477x2\"><rect x=\"80\" y=\"0\" width=\"414\" height=\"500\"/></clipPath><clipPath class=\"axesclip\" id=\"clip339477x2y\"><rect x=\"80\" y=\"100\" width=\"414\" height=\"224\"/></clipPath><clipPath class=\"axesclip\" id=\"clip339477x2y2\"><rect x=\"80\" y=\"340\" width=\"414\" height=\"80\"/></clipPath></g><g class=\"gradients\"/><g class=\"patterns\"/></defs><g class=\"bglayer\"/><g class=\"layer-below\"><g class=\"imagelayer\"/><g class=\"shapelayer\"/></g><g class=\"cartesianlayer\"><g class=\"subplot xy\"><g class=\"layer-subplot\"><g class=\"shapelayer\"/><g class=\"imagelayer\"/></g><g class=\"gridlayer\"><g class=\"x\"><path class=\"xgrid crisp\" transform=\"translate(139.14,0)\" d=\"M0,100v224\" style=\"stroke: rgb(225, 229, 237); stroke-opacity: 1; stroke-width: 1px;\"/><path class=\"xgrid crisp\" transform=\"translate(257.43,0)\" d=\"M0,100v224\" style=\"stroke: rgb(225, 229, 237); stroke-opacity: 1; stroke-width: 1px;\"/><path class=\"xgrid crisp\" transform=\"translate(375.71,0)\" d=\"M0,100v224\" style=\"stroke: rgb(225, 229, 237); stroke-opacity: 1; stroke-width: 1px;\"/></g><g class=\"y\"><path class=\"ygrid crisp\" transform=\"translate(0,300.5)\" d=\"M80,0h414\" style=\"stroke: rgb(225, 229, 237); stroke-opacity: 1; stroke-width: 1px;\"/><path class=\"ygrid crisp\" transform=\"translate(0,239.02)\" d=\"M80,0h414\" style=\"stroke: rgb(225, 229, 237); stroke-opacity: 1; stroke-width: 1px;\"/><path class=\"ygrid crisp\" transform=\"translate(0,177.54000000000002)\" d=\"M80,0h414\" style=\"stroke: rgb(225, 229, 237); stroke-opacity: 1; stroke-width: 1px;\"/><path class=\"ygrid crisp\" transform=\"translate(0,116.05)\" d=\"M80,0h414\" style=\"stroke: rgb(225, 229, 237); stroke-opacity: 1; stroke-width: 1px;\"/></g></g><g class=\"zerolinelayer\"/><path class=\"xlines-below\"/><path class=\"ylines-below\"/><g class=\"overlines-below\"/><g class=\"xaxislayer-below\"/><g class=\"yaxislayer-below\"/><g class=\"overaxes-below\"/><g class=\"plot\" transform=\"translate(80,100)\" clip-path=\"url(#clip339477xyplot)\"><g class=\"scatterlayer mlayer\"><g class=\"trace scatter traceae69a3\" style=\"stroke-miterlimit: 2; opacity: 1;\"><g class=\"fills\"/><g class=\"errorbars\"/><g class=\"lines\"><path class=\"js-line\" d=\"M0,102.3L59.14,118.42L118.29,41.48L177.43,118.97L236.57,101.62L295.71,133.71L354.86,106.56L414,11.2\" style=\"vector-effect: non-scaling-stroke; fill: none; stroke: rgb(255, 153, 51); stroke-opacity: 1; stroke-width: 1.3px; opacity: 1;\"/></g><g class=\"points\"/><g class=\"text\"/></g><g class=\"trace scatter traceb3f609\" style=\"stroke-miterlimit: 2; opacity: 1;\"><g class=\"fills\"/><g class=\"errorbars\"/><g class=\"lines\"><path class=\"js-line\" d=\"M0,148.24L59.14,212.8L118.29,148.24L177.43,169.76L236.57,148.24L295.71,169.76L354.86,148.24L414,148.24\" style=\"vector-effect: non-scaling-stroke; fill: none; stroke: rgb(55, 128, 191); stroke-opacity: 1; stroke-width: 1.3px; opacity: 1;\"/></g><g class=\"points\"/><g class=\"text\"/></g></g></g><g class=\"overplot\"/><path class=\"xlines-above crisp\" d=\"M0,0\" style=\"fill: none;\"/><path class=\"ylines-above crisp\" d=\"M0,0\" style=\"fill: none;\"/><g class=\"overlines-above\"/><g class=\"xaxislayer-above\"><g class=\"xtick\"><text text-anchor=\"middle\" x=\"0\" y=\"337\" transform=\"translate(139.14,0)\" style=\"font-family: 'Open Sans', verdana, arial, sans-serif; font-size: 12px; fill: rgb(77, 86, 99); fill-opacity: 1; white-space: pre; opacity: 1;\">2</text></g><g class=\"xtick\"><text text-anchor=\"middle\" x=\"0\" y=\"337\" style=\"font-family: 'Open Sans', verdana, arial, sans-serif; font-size: 12px; fill: rgb(77, 86, 99); fill-opacity: 1; white-space: pre; opacity: 1;\" transform=\"translate(257.43,0)\">4</text></g><g class=\"xtick\"><text text-anchor=\"middle\" x=\"0\" y=\"337\" style=\"font-family: 'Open Sans', verdana, arial, sans-serif; font-size: 12px; fill: rgb(77, 86, 99); fill-opacity: 1; white-space: pre; opacity: 1;\" transform=\"translate(375.71,0)\">6</text></g><g class=\"xtick\"><text text-anchor=\"middle\" x=\"0\" y=\"337\" style=\"font-family: 'Open Sans', verdana, arial, sans-serif; font-size: 12px; fill: rgb(77, 86, 99); fill-opacity: 1; white-space: pre; opacity: 1;\" transform=\"translate(494,0)\">8</text></g></g><g class=\"yaxislayer-above\"><g class=\"ytick\"><text text-anchor=\"end\" x=\"79\" y=\"4.199999999999999\" transform=\"translate(0,300.5)\" style=\"font-family: 'Open Sans', verdana, arial, sans-serif; font-size: 12px; fill: rgb(77, 86, 99); fill-opacity: 1; white-space: pre; opacity: 1;\">200k</text></g><g class=\"ytick\"><text text-anchor=\"end\" x=\"79\" y=\"4.199999999999999\" style=\"font-family: 'Open Sans', verdana, arial, sans-serif; font-size: 12px; fill: rgb(77, 86, 99); fill-opacity: 1; white-space: pre; opacity: 1;\" transform=\"translate(0,239.02)\">220k</text></g><g class=\"ytick\"><text text-anchor=\"end\" x=\"79\" y=\"4.199999999999999\" style=\"font-family: 'Open Sans', verdana, arial, sans-serif; font-size: 12px; fill: rgb(77, 86, 99); fill-opacity: 1; white-space: pre; opacity: 1;\" transform=\"translate(0,177.54000000000002)\">240k</text></g><g class=\"ytick\"><text text-anchor=\"end\" x=\"79\" y=\"4.199999999999999\" style=\"font-family: 'Open Sans', verdana, arial, sans-serif; font-size: 12px; fill: rgb(77, 86, 99); fill-opacity: 1; white-space: pre; opacity: 1;\" transform=\"translate(0,116.05)\">260k</text></g></g><g class=\"overaxes-above\"/></g><g class=\"subplot x2y2\"><g class=\"layer-subplot\"><g class=\"shapelayer\"/><g class=\"imagelayer\"/></g><g class=\"gridlayer\"><g class=\"x2\"><path class=\"x2grid crisp\" transform=\"translate(139.14,0)\" d=\"M0,340v80\" style=\"stroke: rgb(225, 229, 237); stroke-opacity: 1; stroke-width: 1px;\"/><path class=\"x2grid crisp\" transform=\"translate(257.43,0)\" d=\"M0,340v80\" style=\"stroke: rgb(225, 229, 237); stroke-opacity: 1; stroke-width: 1px;\"/><path class=\"x2grid crisp\" transform=\"translate(375.71,0)\" d=\"M0,340v80\" style=\"stroke: rgb(225, 229, 237); stroke-opacity: 1; stroke-width: 1px;\"/></g><g class=\"y2\"><path class=\"y2grid crisp\" transform=\"translate(0,402.95)\" d=\"M80,0h414\" style=\"stroke: rgb(225, 229, 237); stroke-opacity: 1; stroke-width: 1px;\"/><path class=\"y2grid crisp\" transform=\"translate(0,385.9)\" d=\"M80,0h414\" style=\"stroke: rgb(225, 229, 237); stroke-opacity: 1; stroke-width: 1px;\"/><path class=\"y2grid crisp\" transform=\"translate(0,368.86)\" d=\"M80,0h414\" style=\"stroke: rgb(225, 229, 237); stroke-opacity: 1; stroke-width: 1px;\"/><path class=\"y2grid crisp\" transform=\"translate(0,351.81)\" d=\"M80,0h414\" style=\"stroke: rgb(225, 229, 237); stroke-opacity: 1; stroke-width: 1px;\"/></g></g><g class=\"zerolinelayer\"><path class=\"y2zl zl crisp\" transform=\"translate(0,420)\" d=\"M80,0h414\" style=\"stroke: rgb(225, 229, 237); stroke-opacity: 1; stroke-width: 2px;\"/></g><path class=\"xlines-below\"/><path class=\"ylines-below\"/><g class=\"overlines-below\"/><g class=\"xaxislayer-below\"/><g class=\"yaxislayer-below\"/><g class=\"overaxes-below\"/><g class=\"plot\" transform=\"translate(80,340)\" clip-path=\"url(#clip339477x2y2plot)\"><g class=\"scatterlayer mlayer\"><g class=\"trace scatter tracea70a6f\" style=\"stroke-miterlimit: 2;\"><g class=\"fills\"><g><path class=\"js-fill\" d=\"M414,80L0,80L0,54.52L59.14,27.66L118.29,20.79L177.43,51.83L236.57,54.14L295.71,60.01L354.86,56.88L414,4\" style=\"fill: rgb(0, 128, 0); fill-opacity: 0.5; stroke-width: 0;\"/></g></g><g class=\"errorbars\"/><g class=\"lines\"><path class=\"js-line\" d=\"M0,54.52L59.14,27.66L118.29,20.79L177.43,51.83L236.57,54.14L295.71,60.01L354.86,56.88L414,4\" style=\"vector-effect: non-scaling-stroke; fill: none; stroke: rgb(0, 128, 0); stroke-opacity: 1; stroke-width: 0.5px; opacity: 1;\"/></g><g class=\"points\"/><g class=\"text\"/></g><g class=\"trace scatter traced870ea\" style=\"stroke-miterlimit: 2;\"><g class=\"fills\"><g><path class=\"js-fill\" d=\"M0,0Z\" style=\"stroke-width: 0;\"/></g></g><g class=\"errorbars\"/><g class=\"lines\"/><g class=\"points\"/><g class=\"text\"/></g></g></g><g class=\"overplot\"/><path class=\"xlines-above crisp\" d=\"M0,0\" style=\"fill: none;\"/><path class=\"ylines-above crisp\" d=\"M0,0\" style=\"fill: none;\"/><g class=\"overlines-above\"/><g class=\"xaxislayer-above\"/><g class=\"yaxislayer-above\"><g class=\"y2tick\"><text text-anchor=\"end\" x=\"79\" y=\"4.199999999999999\" transform=\"translate(0,420)\" style=\"font-family: 'Open Sans', verdana, arial, sans-serif; font-size: 12px; fill: rgb(77, 86, 99); fill-opacity: 1; white-space: pre; opacity: 1;\">0</text></g><g class=\"y2tick\"><text text-anchor=\"end\" x=\"79\" y=\"4.199999999999999\" style=\"font-family: 'Open Sans', verdana, arial, sans-serif; font-size: 12px; fill: rgb(77, 86, 99); fill-opacity: 1; white-space: pre; opacity: 1;\" transform=\"translate(0,402.95)\">10k</text></g><g class=\"y2tick\"><text text-anchor=\"end\" x=\"79\" y=\"4.199999999999999\" style=\"font-family: 'Open Sans', verdana, arial, sans-serif; font-size: 12px; fill: rgb(77, 86, 99); fill-opacity: 1; white-space: pre; opacity: 1;\" transform=\"translate(0,385.9)\">20k</text></g><g class=\"y2tick\"><text text-anchor=\"end\" x=\"79\" y=\"4.199999999999999\" style=\"font-family: 'Open Sans', verdana, arial, sans-serif; font-size: 12px; fill: rgb(77, 86, 99); fill-opacity: 1; white-space: pre; opacity: 1;\" transform=\"translate(0,368.86)\">30k</text></g><g class=\"y2tick\"><text text-anchor=\"end\" x=\"79\" y=\"4.199999999999999\" style=\"font-family: 'Open Sans', verdana, arial, sans-serif; font-size: 12px; fill: rgb(77, 86, 99); fill-opacity: 1; white-space: pre; opacity: 1;\" transform=\"translate(0,351.81)\">40k</text></g></g><g class=\"overaxes-above\"/></g></g><g class=\"polarlayer\"/><g class=\"smithlayer\"/><g class=\"ternarylayer\"/><g class=\"geolayer\"/><g class=\"funnelarealayer\"/><g class=\"pielayer\"/><g class=\"iciclelayer\"/><g class=\"treemaplayer\"/><g class=\"sunburstlayer\"/><g class=\"glimages\"/><defs id=\"topdefs-339477\"><g class=\"clips\"/><clipPath id=\"legend339477\"><rect width=\"186\" height=\"48\" x=\"0\" y=\"0\"/></clipPath></defs><g class=\"layer-above\"><g class=\"imagelayer\"/><g class=\"shapelayer\"/></g><g class=\"infolayer\"><g class=\"legend\" pointer-events=\"all\" transform=\"translate(502.28000000000003,100)\"><rect class=\"bg\" shape-rendering=\"crispEdges\" width=\"186\" height=\"48\" x=\"0\" y=\"0\" style=\"stroke: rgb(68, 68, 68); stroke-opacity: 1; fill: rgb(245, 246, 249); fill-opacity: 1; stroke-width: 0px;\"/><g class=\"scrollbox\" transform=\"\" clip-path=\"url(#legend339477)\"><g class=\"groups\"><g class=\"traces\" transform=\"translate(0,14.5)\" style=\"opacity: 1;\"><text class=\"legendtext\" text-anchor=\"start\" x=\"40\" y=\"4.680000000000001\" style=\"font-family: 'Open Sans', verdana, arial, sans-serif; font-size: 12px; fill: rgb(77, 86, 99); fill-opacity: 1; white-space: pre;\">total_steps_per_month</text><g class=\"layers\" style=\"opacity: 1;\"><g class=\"legendfill\"/><g class=\"legendlines\"><path class=\"js-line\" d=\"M5,0h30\" style=\"fill: none; stroke: rgb(255, 153, 51); stroke-opacity: 1; stroke-width: 1.3px;\"/></g><g class=\"legendsymbols\"><g class=\"legendpoints\"/></g></g><rect class=\"legendtoggle\" x=\"0\" y=\"-9.5\" width=\"180.609375\" height=\"19\" style=\"fill: rgb(0, 0, 0); fill-opacity: 0;\"/></g><g class=\"traces\" transform=\"translate(0,33.5)\" style=\"opacity: 1;\"><text class=\"legendtext\" text-anchor=\"start\" x=\"40\" y=\"4.680000000000001\" style=\"font-family: 'Open Sans', verdana, arial, sans-serif; font-size: 12px; fill: rgb(77, 86, 99); fill-opacity: 1; white-space: pre;\">health_standard</text><g class=\"layers\" style=\"opacity: 1;\"><g class=\"legendfill\"/><g class=\"legendlines\"><path class=\"js-line\" d=\"M5,0h30\" style=\"fill: none; stroke: rgb(55, 128, 191); stroke-opacity: 1; stroke-width: 1.3px;\"/></g><g class=\"legendsymbols\"><g class=\"legendpoints\"/></g></g><rect class=\"legendtoggle\" x=\"0\" y=\"-9.5\" width=\"180.609375\" height=\"19\" style=\"fill: rgb(0, 0, 0); fill-opacity: 0;\"/></g></g></g><rect class=\"scrollbar\" rx=\"20\" ry=\"3\" width=\"0\" height=\"0\" x=\"0\" y=\"0\" style=\"fill: rgb(128, 139, 164); fill-opacity: 1;\"/></g><g class=\"g-gtitle\"><text class=\"gtitle\" x=\"35\" y=\"50\" text-anchor=\"start\" dy=\"0em\" style=\"font-family: 'Open Sans', verdana, arial, sans-serif; font-size: 17px; fill: rgb(77, 86, 99); opacity: 1; font-weight: normal; white-space: pre;\">Figure 9: Participant 3 Monthly Steps and Standard Spread Chart</text></g><g class=\"g-xtitle\"/><g class=\"g-x2title\"/><g class=\"g-ytitle\"/><g class=\"g-y2title\"><text class=\"y2title\" transform=\"rotate(-90,31.840625000000003,380)\" x=\"31.840625000000003\" y=\"380\" text-anchor=\"middle\" style=\"font-family: 'Open Sans', verdana, arial, sans-serif; font-size: 14px; fill: rgb(77, 86, 99); opacity: 1; font-weight: normal; white-space: pre;\">Spread</text></g></g></svg>"
      ]
     },
     "metadata": {},
     "output_type": "display_data"
    }
   ],
   "source": [
    "clean_p7.figure(kind=\"spread\", keys=[\"total_steps_per_month\", \"health_standard\"],\n",
    "               title=\"Figure 9: Participant 3 Monthly Steps and Standard Spread Chart\")"
   ]
  },
  {
   "cell_type": "markdown",
   "id": "4b01a2b5",
   "metadata": {},
   "source": [
    "According to the figure 7 and figure 8, the proportion of days reaching the health standard in June is the lowest which is about 50%, and the color in the heat map is close to white. The percentage of healthy steps reaching the standard in February and Augest were relatively higher than others which are 71% and 77% approximately, and the color in the picture is also the darker. Also, the trend of months' proportion corresponding to health standard trend and all exceeding the health standard steps. The average proportion is also around 63%.\n",
    "\n",
    "In conclusion, the healthy proportion of the participants in February and August is higher, and the lowest in June. The trend of the number of steps is correspond to health standard trend and proportion trend is relatively stable. We suggest the participant could mainly increase the daily steps in most of months and try to reach the healthy standard every day. However, compared with Participant 3 and Participant 1, the steps trend and proportion are relatively stable."
   ]
  },
  {
   "cell_type": "code",
   "execution_count": null,
   "id": "a96d9c8b",
   "metadata": {},
   "outputs": [],
   "source": []
  }
 ],
 "metadata": {
  "kernelspec": {
   "display_name": "Python 3 (ipykernel)",
   "language": "python",
   "name": "python3"
  },
  "language_info": {
   "codemirror_mode": {
    "name": "ipython",
    "version": 3
   },
   "file_extension": ".py",
   "mimetype": "text/x-python",
   "name": "python",
   "nbconvert_exporter": "python",
   "pygments_lexer": "ipython3",
   "version": "3.9.12"
  },
  "toc": {
   "base_numbering": 1,
   "nav_menu": {},
   "number_sections": true,
   "sideBar": true,
   "skip_h1_title": false,
   "title_cell": "Table of Contents",
   "title_sidebar": "Contents",
   "toc_cell": false,
   "toc_position": {
    "height": "calc(100% - 180px)",
    "left": "10px",
    "top": "150px",
    "width": "304.797px"
   },
   "toc_section_display": true,
   "toc_window_display": true
  }
 },
 "nbformat": 4,
 "nbformat_minor": 5
}
